{
 "cells": [
  {
   "cell_type": "markdown",
   "id": "94e18657",
   "metadata": {},
   "source": [
    "This is the code to analyze the animes provided in the Top Anime website. "
   ]
  },
  {
   "cell_type": "markdown",
   "id": "a0fe35f3",
   "metadata": {},
   "source": [
    "# Importing useful packages"
   ]
  },
  {
   "cell_type": "code",
   "execution_count": 169,
   "id": "ae8596e5",
   "metadata": {},
   "outputs": [],
   "source": [
    "import requests\n",
    "from bs4 import BeautifulSoup\n",
    "from collections import defaultdict"
   ]
  },
  {
   "cell_type": "markdown",
   "id": "fd0aabb1",
   "metadata": {},
   "source": [
    "Here we send a request to get the content of a specific webpage. Here we wanted the content of the main page of the TopAnime webpage. "
   ]
  },
  {
   "cell_type": "code",
   "execution_count": 170,
   "id": "da484abc",
   "metadata": {},
   "outputs": [],
   "source": [
    "TopAnime = requests.get('https://myanimelist.net/topanime.php')"
   ]
  },
  {
   "cell_type": "markdown",
   "id": "c7f7d26d",
   "metadata": {},
   "source": [
    "Now we check if we have successfully received the content of the desired webpage or not. "
   ]
  },
  {
   "cell_type": "code",
   "execution_count": 171,
   "id": "850d0ae0",
   "metadata": {},
   "outputs": [
    {
     "data": {
      "text/plain": [
       "<Response [200]>"
      ]
     },
     "execution_count": 171,
     "metadata": {},
     "output_type": "execute_result"
    }
   ],
   "source": [
    "TopAnime"
   ]
  },
  {
   "cell_type": "markdown",
   "id": "34642c2b",
   "metadata": {},
   "source": [
    "As we have the code '200' as the status of the reponse, so it means that we have successfully received the desired page. "
   ]
  },
  {
   "cell_type": "markdown",
   "id": "d0ec946e",
   "metadata": {},
   "source": [
    "Then we take a brief look at the content of this page. "
   ]
  },
  {
   "cell_type": "code",
   "execution_count": 172,
   "id": "be13e575",
   "metadata": {},
   "outputs": [],
   "source": [
    "#TopAnime.content"
   ]
  },
  {
   "cell_type": "markdown",
   "id": "01e7d0e9",
   "metadata": {},
   "source": [
    "As we can see in the output, we have the HTML code of the webpage. Now we should parse this HTML code to extract the URLs associated to each anime. To do so, we will be using **BeautifulSoap** library which is designed to parse HTML codes. "
   ]
  },
  {
   "cell_type": "code",
   "execution_count": 173,
   "id": "94a64aaf",
   "metadata": {},
   "outputs": [],
   "source": [
    "TopAnimeSoup = BeautifulSoup(TopAnime.content, 'html.parser')"
   ]
  },
  {
   "cell_type": "markdown",
   "id": "d1ebf4b9",
   "metadata": {},
   "source": [
    "Now we look at the produced HTML code of the webpage in a nicely format using BeautifulSoup. "
   ]
  },
  {
   "cell_type": "code",
   "execution_count": 174,
   "id": "dff94f6a",
   "metadata": {},
   "outputs": [],
   "source": [
    "#print(TopAnimeSoup.prettify())"
   ]
  },
  {
   "cell_type": "markdown",
   "id": "26fc4477",
   "metadata": {},
   "source": [
    "# Extracting the URLs associated to each anime. "
   ]
  },
  {
   "cell_type": "markdown",
   "id": "b8cedf01",
   "metadata": {},
   "source": [
    "### Steps to extract the url for just one anime. "
   ]
  },
  {
   "cell_type": "markdown",
   "id": "5824002b",
   "metadata": {},
   "source": [
    "Here we will go through the required steps to extract the url and the name of just the first anime in the list. We can get the information of the rest of these animes by just iteration. "
   ]
  },
  {
   "cell_type": "markdown",
   "id": "8a315457",
   "metadata": {},
   "source": [
    "After chekcing the HTML code, we saw that the information related to each anime is stored in a table which its class is \"top-ranking-table\" and the animes' information are stored in trs of this table. "
   ]
  },
  {
   "cell_type": "markdown",
   "id": "fb6c5ff4",
   "metadata": {},
   "source": [
    "Let's take a look at how many tables we have in the webpage. "
   ]
  },
  {
   "cell_type": "code",
   "execution_count": 17,
   "id": "2090573a",
   "metadata": {},
   "outputs": [
    {
     "data": {
      "text/plain": [
       "1"
      ]
     },
     "execution_count": 17,
     "metadata": {},
     "output_type": "execute_result"
    }
   ],
   "source": [
    "len(list(TopAnimeSoup.find_all('table')))"
   ]
  },
  {
   "cell_type": "markdown",
   "id": "a47f69b3",
   "metadata": {},
   "source": [
    "As we have only one table in the webpage, so every tr that we have in the webpage belongs to this table. "
   ]
  },
  {
   "cell_type": "markdown",
   "id": "2c9e3e65",
   "metadata": {},
   "source": [
    "Here we will take a look at how many tr tags we have in the webpage. "
   ]
  },
  {
   "cell_type": "code",
   "execution_count": 77,
   "id": "f39444ec",
   "metadata": {},
   "outputs": [
    {
     "data": {
      "text/plain": [
       "51"
      ]
     },
     "execution_count": 77,
     "metadata": {},
     "output_type": "execute_result"
    }
   ],
   "source": [
    "len(list(TopAnimeSoup.find_all('tr')))"
   ]
  },
  {
   "cell_type": "markdown",
   "id": "50eb3233",
   "metadata": {},
   "source": [
    "We know that in each page, we have the information related to 50 animes. But why we have 51 tr tags here? <br/>\n",
    "Because the first row corresponds to the name of table's column and the rest store the inramtion related to each anime. "
   ]
  },
  {
   "cell_type": "markdown",
   "id": "2c3adde5",
   "metadata": {},
   "source": [
    "So in order to get the rows which contain the information of each anime, we should go through the tr tags that we have in the webpage except the first one which contains the information of the columns' name of of the table. "
   ]
  },
  {
   "cell_type": "code",
   "execution_count": 68,
   "id": "e1c46c44",
   "metadata": {},
   "outputs": [
    {
     "data": {
      "text/plain": [
       "50"
      ]
     },
     "execution_count": 68,
     "metadata": {},
     "output_type": "execute_result"
    }
   ],
   "source": [
    "Rows = list(TopAnimeSoup.find_all('tr'))[1:]\n",
    "len(Rows)"
   ]
  },
  {
   "cell_type": "markdown",
   "id": "083511c1",
   "metadata": {},
   "source": [
    "As we can see above, we have all the rows correspond which contains the information related to each anime. The total number of animes we have in each page are 50. "
   ]
  },
  {
   "cell_type": "markdown",
   "id": "d726f486",
   "metadata": {},
   "source": [
    "Now we should get the name and the url correspond to each anime. We found out that this information can be found in 'a' tag of each row which its class name is \"hoverinfo_trigger fl-l ml12 mr8\" and is included in the second 'td' tag of each 'tr'.  "
   ]
  },
  {
   "cell_type": "markdown",
   "id": "894a4fe1",
   "metadata": {},
   "source": [
    "The information in this tag for the first anime can be found below. "
   ]
  },
  {
   "cell_type": "markdown",
   "id": "b84976a7",
   "metadata": {},
   "source": [
    "We get all the 'td' tags of the second 'tr' the first 'tr' tag contains the columns' name. "
   ]
  },
  {
   "cell_type": "code",
   "execution_count": 105,
   "id": "5efb5176",
   "metadata": {},
   "outputs": [],
   "source": [
    "Tds = Rows[0].find_all('td')"
   ]
  },
  {
   "cell_type": "markdown",
   "id": "5ddc738a",
   "metadata": {},
   "source": [
    "Then we will go to the second 'td' tag's information. The first one contains just the ranking number. "
   ]
  },
  {
   "cell_type": "code",
   "execution_count": 106,
   "id": "b986fae3",
   "metadata": {},
   "outputs": [],
   "source": [
    "SecondTD = Tds[1]"
   ]
  },
  {
   "cell_type": "markdown",
   "id": "13ee3663",
   "metadata": {},
   "source": [
    "Then inside this 'td' tag we look for the 'a' tag which its class is \"hoverinfo_trigger fl-l ml12 mr8\""
   ]
  },
  {
   "cell_type": "code",
   "execution_count": 107,
   "id": "f0041b7c",
   "metadata": {},
   "outputs": [
    {
     "data": {
      "text/plain": [
       "<a class=\"hoverinfo_trigger fl-l ml12 mr8\" href=\"https://myanimelist.net/anime/5114/Fullmetal_Alchemist__Brotherhood\" id=\"#area5114\" rel=\"#info5114\">\n",
       "<img alt=\"Anime: Fullmetal Alchemist: Brotherhood\" border=\"0\" class=\"lazyload\" data-src=\"https://cdn.myanimelist.net/r/50x70/images/anime/1223/96541.jpg?s=faffcb677a5eacd17bf761edd78bfb3f\" data-srcset=\"https://cdn.myanimelist.net/r/50x70/images/anime/1223/96541.jpg?s=faffcb677a5eacd17bf761edd78bfb3f 1x, https://cdn.myanimelist.net/r/100x140/images/anime/1223/96541.jpg?s=0c3b98cf4905422c00981025cd20d271 2x\" height=\"70\" width=\"50\">\n",
       "</img></a>"
      ]
     },
     "execution_count": 107,
     "metadata": {},
     "output_type": "execute_result"
    }
   ],
   "source": [
    "TagA = SecondTD.find('class' == \"hoverinfo_trigger fl-l ml12 mr8\")\n",
    "TagA"
   ]
  },
  {
   "cell_type": "markdown",
   "id": "89f92c35",
   "metadata": {},
   "source": [
    "The url of an anime is the value of 'href' property of this tag. Let's take a look at it. "
   ]
  },
  {
   "cell_type": "code",
   "execution_count": 108,
   "id": "29a66360",
   "metadata": {},
   "outputs": [
    {
     "data": {
      "text/plain": [
       "'https://myanimelist.net/anime/5114/Fullmetal_Alchemist__Brotherhood'"
      ]
     },
     "execution_count": 108,
     "metadata": {},
     "output_type": "execute_result"
    }
   ],
   "source": [
    "URL = TagA['href']\n",
    "URL"
   ]
  },
  {
   "cell_type": "markdown",
   "id": "2e83e30e",
   "metadata": {},
   "source": [
    "Here to extract the name of the anime we have two options. 1. To split the 'href' and get the last value of it. 2. Get the value of 'alt' property of the 'img' tag in the 'a' tag. Here we will go for the second approach. "
   ]
  },
  {
   "cell_type": "code",
   "execution_count": 112,
   "id": "2fd39c50",
   "metadata": {},
   "outputs": [
    {
     "data": {
      "text/plain": [
       "'Fullmetal Alchemist: Brotherhood'"
      ]
     },
     "execution_count": 112,
     "metadata": {},
     "output_type": "execute_result"
    }
   ],
   "source": [
    "Image = TagA.find('img')\n",
    "AnimeName = Image['alt'].replace('Anime: ', '')\n",
    "AnimeName"
   ]
  },
  {
   "cell_type": "markdown",
   "id": "549ec208",
   "metadata": {},
   "source": [
    "## Going through of all animes in the first page. "
   ]
  },
  {
   "cell_type": "markdown",
   "id": "d9662ece",
   "metadata": {},
   "source": [
    "Now here we want to get the name and url of all the animes in this specific page. "
   ]
  },
  {
   "cell_type": "code",
   "execution_count": 113,
   "id": "1b49d529",
   "metadata": {},
   "outputs": [],
   "source": [
    "MyDict = defaultdict(str)\n",
    "for Row in Rows: \n",
    "    TDs = Row.find_all('td')\n",
    "    TagA = TDs[1].find('class' == \"hoverinfo_trigger fl-l ml12 mr8\")\n",
    "    AnimeName, URL = TagA.find('img')['alt'].replace('Anime: ', ''), TagA['href']\n",
    "    MyDict[AnimeName] = URL"
   ]
  },
  {
   "cell_type": "markdown",
   "id": "9f686166",
   "metadata": {},
   "source": [
    "Now we will check the information for five animes. "
   ]
  },
  {
   "cell_type": "code",
   "execution_count": 115,
   "id": "164a1ebf",
   "metadata": {},
   "outputs": [
    {
     "name": "stdout",
     "output_type": "stream",
     "text": [
      "Name of anime: Fullmetal Alchemist: Brotherhood\n",
      "URL: https://myanimelist.net/anime/5114/Fullmetal_Alchemist__Brotherhood\n",
      "\n",
      "Name of anime: Gintama°\n",
      "URL: https://myanimelist.net/anime/28977/Gintama°\n",
      "\n",
      "Name of anime: Shingeki no Kyojin Season 3 Part 2\n",
      "URL: https://myanimelist.net/anime/38524/Shingeki_no_Kyojin_Season_3_Part_2\n",
      "\n",
      "Name of anime: Steins;Gate\n",
      "URL: https://myanimelist.net/anime/9253/Steins_Gate\n",
      "\n",
      "Name of anime: Fruits Basket: The Final\n",
      "URL: https://myanimelist.net/anime/42938/Fruits_Basket__The_Final\n",
      "\n"
     ]
    }
   ],
   "source": [
    "for anime in list(MyDict.keys())[:5]:\n",
    "    print('Name of anime: ' + anime+'\\nURL: ' + MyDict[anime], end = '\\n\\n')"
   ]
  },
  {
   "cell_type": "markdown",
   "id": "d4e461c8",
   "metadata": {},
   "source": [
    "Here we want to check if we have all the 50 animes' URL in the dictionay. "
   ]
  },
  {
   "cell_type": "code",
   "execution_count": 118,
   "id": "ef881261",
   "metadata": {},
   "outputs": [
    {
     "name": "stdout",
     "output_type": "stream",
     "text": [
      "Number of animes  50\n"
     ]
    }
   ],
   "source": [
    "print('Number of animes ', len(MyDict))"
   ]
  },
  {
   "cell_type": "markdown",
   "id": "8de9c237",
   "metadata": {},
   "source": [
    "# Extracting animes' information in 400 pages. "
   ]
  },
  {
   "cell_type": "markdown",
   "id": "9479a68f",
   "metadata": {},
   "source": [
    "In order to have more readable implementation we will write a function which receives the URL of the webpage that we want to scrap and returns the animes' name and their associated URLs in that webpage. "
   ]
  },
  {
   "cell_type": "code",
   "execution_count": 164,
   "id": "596c02f2",
   "metadata": {},
   "outputs": [],
   "source": [
    "def GetAnimeInfo(webpage):\n",
    "    Request = requests.get(webpage)\n",
    "    TopAnimeSoup = BeautifulSoup(Request.content, 'html.parser')\n",
    "    Rows = TopAnimeSoup.find_all('tr')\n",
    "    MyDict = defaultdict(str)\n",
    "    for Row in Rows[1:]: \n",
    "        TDs = Row.find_all('td')\n",
    "        TagA = TDs[1].find('class' == \"hoverinfo_trigger fl-l ml12 mr8\")\n",
    "        AnimeName, URL = TagA.find('img')['alt'].replace('Anime: ', ''), TagA['href']\n",
    "        MyDict[AnimeName] = URL\n",
    "    return MyDict"
   ]
  },
  {
   "cell_type": "markdown",
   "id": "44c8a2bc",
   "metadata": {},
   "source": [
    "Now at each time we should pass the function the URL of the webpage that we want to scrap. "
   ]
  },
  {
   "cell_type": "markdown",
   "id": "39f11a76",
   "metadata": {},
   "source": [
    "After checking the URL of the next pages, we understood that there is a pattern in URL of the pages. <br/>\n",
    "For example the 2nd webpage's URL is 'https://myanimelist.net/topanime.php?limit=50' and we can see the only difference between this URL and the main page URL (which is 'https://myanimelist.net/topanime.php') is that there is '?limit=50' string at the end. <br/><br/>\n",
    "* So we can use this pattern the find the next pages URL. "
   ]
  },
  {
   "cell_type": "code",
   "execution_count": 167,
   "id": "93fc9480",
   "metadata": {},
   "outputs": [],
   "source": [
    "MainPageURL = 'https://myanimelist.net/topanime.php'\n",
    "TheWholeResults = defaultdict(str)\n",
    "for i in range(5):\n",
    "    if i == 0:\n",
    "        Output = GetAnimeInfo(MainPageURL)\n",
    "    else:\n",
    "        Output = GetAnimeInfo(MainPageURL+'?limit='+str(50*i))\n",
    "    TheWholeResults.update(Output)\n",
    "    "
   ]
  },
  {
   "cell_type": "code",
   "execution_count": 168,
   "id": "43218b2c",
   "metadata": {},
   "outputs": [
    {
     "data": {
      "text/plain": [
       "250"
      ]
     },
     "execution_count": 168,
     "metadata": {},
     "output_type": "execute_result"
    }
   ],
   "source": [
    "len(TheWholeResults)"
   ]
  },
  {
   "cell_type": "code",
   "execution_count": 138,
   "id": "65a2e231",
   "metadata": {},
   "outputs": [
    {
     "data": {
      "text/plain": [
       "51"
      ]
     },
     "execution_count": 138,
     "metadata": {},
     "output_type": "execute_result"
    }
   ],
   "source": []
  },
  {
   "cell_type": "code",
   "execution_count": null,
   "id": "9c034ba7",
   "metadata": {},
   "outputs": [],
   "source": []
  }
 ],
 "metadata": {
  "kernelspec": {
   "display_name": "Python 3 (ipykernel)",
   "language": "python",
   "name": "python3"
  },
  "language_info": {
   "codemirror_mode": {
    "name": "ipython",
    "version": 3
   },
   "file_extension": ".py",
   "mimetype": "text/x-python",
   "name": "python",
   "nbconvert_exporter": "python",
   "pygments_lexer": "ipython3",
   "version": "3.8.10"
  }
 },
 "nbformat": 4,
 "nbformat_minor": 5
}
