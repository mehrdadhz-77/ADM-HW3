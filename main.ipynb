{
 "cells": [
  {
   "cell_type": "markdown",
   "id": "94e18657",
   "metadata": {},
   "source": [
    "This is the code to analyze the animes provided in the Top Anime website. "
   ]
  },
  {
   "cell_type": "markdown",
   "id": "a0fe35f3",
   "metadata": {},
   "source": [
    "# Importing useful packages"
   ]
  },
  {
   "cell_type": "code",
   "execution_count": 1,
   "id": "ae8596e5",
   "metadata": {},
   "outputs": [],
   "source": [
    "import requests\n",
    "from bs4 import BeautifulSoup\n",
    "from collections import defaultdict\n",
    "import os\n",
    "from pathlib import Path\n",
    "import re\n",
    "import multiprocessing as mp\n",
    "from math import ceil\n",
    "import nltk\n",
    "from nltk.corpus import stopwords\n",
    "from nltk.stem import PorterStemmer"
   ]
  },
  {
   "cell_type": "markdown",
   "id": "fd0aabb1",
   "metadata": {},
   "source": [
    "Here we send a request to get the content of a specific webpage. Here we wanted the content of the main page of the TopAnime webpage. "
   ]
  },
  {
   "cell_type": "code",
   "execution_count": 3,
   "id": "da484abc",
   "metadata": {},
   "outputs": [],
   "source": [
    "TopAnime = requests.get('https://myanimelist.net/topanime.php')"
   ]
  },
  {
   "cell_type": "markdown",
   "id": "c7f7d26d",
   "metadata": {},
   "source": [
    "Now we check if we have successfully received the content of the desired webpage or not. "
   ]
  },
  {
   "cell_type": "code",
   "execution_count": 4,
   "id": "850d0ae0",
   "metadata": {},
   "outputs": [
    {
     "data": {
      "text/plain": [
       "<Response [200]>"
      ]
     },
     "execution_count": 4,
     "metadata": {},
     "output_type": "execute_result"
    }
   ],
   "source": [
    "TopAnime"
   ]
  },
  {
   "cell_type": "markdown",
   "id": "34642c2b",
   "metadata": {},
   "source": [
    "As we have the code '200' as the status of the reponse, so it means that we have successfully received the desired page. "
   ]
  },
  {
   "cell_type": "markdown",
   "id": "d0ec946e",
   "metadata": {},
   "source": [
    "Then we take a brief look at the content of this page. "
   ]
  },
  {
   "cell_type": "code",
   "execution_count": 100,
   "id": "be13e575",
   "metadata": {},
   "outputs": [],
   "source": [
    "#TopAnime.content"
   ]
  },
  {
   "cell_type": "markdown",
   "id": "01e7d0e9",
   "metadata": {},
   "source": [
    "As we can see in the output, we have the HTML code of the webpage. Now we should parse this HTML code to extract the URLs associated to each anime. To do so, we will be using **BeautifulSoap** library which is designed to parse HTML codes. "
   ]
  },
  {
   "cell_type": "code",
   "execution_count": 7,
   "id": "94a64aaf",
   "metadata": {},
   "outputs": [],
   "source": [
    "TopAnimeSoup = BeautifulSoup(TopAnime.content, 'html.parser')"
   ]
  },
  {
   "cell_type": "markdown",
   "id": "d1ebf4b9",
   "metadata": {},
   "source": [
    "Now we look at the produced HTML code of the webpage in a nicely format using BeautifulSoup. "
   ]
  },
  {
   "cell_type": "code",
   "execution_count": 101,
   "id": "dff94f6a",
   "metadata": {},
   "outputs": [],
   "source": [
    "#print(TopAnimeSoup.prettify())"
   ]
  },
  {
   "cell_type": "markdown",
   "id": "26fc4477",
   "metadata": {},
   "source": [
    "# 1.1. Get the list of animes"
   ]
  },
  {
   "cell_type": "markdown",
   "id": "b8cedf01",
   "metadata": {},
   "source": [
    "### Steps to extract the url for just one anime. "
   ]
  },
  {
   "cell_type": "markdown",
   "id": "5824002b",
   "metadata": {},
   "source": [
    "Here we will go through the required steps to extract the url and the name of just the first anime in the list. We can get the information of the rest of these animes by just iteration. "
   ]
  },
  {
   "cell_type": "markdown",
   "id": "8a315457",
   "metadata": {},
   "source": [
    "After chekcing the HTML code, we saw that the information related to each anime is stored in a table which its class is \"top-ranking-table\" and the animes' information are stored in trs of this table. "
   ]
  },
  {
   "cell_type": "markdown",
   "id": "fb6c5ff4",
   "metadata": {},
   "source": [
    "Let's take a look at how many tables we have in the webpage. "
   ]
  },
  {
   "cell_type": "code",
   "execution_count": 9,
   "id": "2090573a",
   "metadata": {},
   "outputs": [
    {
     "data": {
      "text/plain": [
       "1"
      ]
     },
     "execution_count": 9,
     "metadata": {},
     "output_type": "execute_result"
    }
   ],
   "source": [
    "len(list(TopAnimeSoup.find_all('table')))"
   ]
  },
  {
   "cell_type": "markdown",
   "id": "a47f69b3",
   "metadata": {},
   "source": [
    "As we have only one table in the webpage, so every tr that we have in the webpage belongs to this table. "
   ]
  },
  {
   "cell_type": "markdown",
   "id": "2c9e3e65",
   "metadata": {},
   "source": [
    "Here we will take a look at how many tr tags we have in the webpage. "
   ]
  },
  {
   "cell_type": "code",
   "execution_count": 11,
   "id": "f39444ec",
   "metadata": {},
   "outputs": [
    {
     "name": "stdout",
     "output_type": "stream",
     "text": [
      "[<tr class=\"table-header\"><td class=\"rank\">Rank</td><td class=\"title\">Title</td><td class=\"score\">Score</td><td class=\"your-score\">Your Score</td><td class=\"status\">Status</td></tr>, <tr class=\"ranking-list\">\n",
      "<td class=\"rank ac\" valign=\"top\">\n",
      "<span class=\"lightLink top-anime-rank-text rank1\">1</span>\n",
      "</td>\n",
      "<td class=\"title al va-t word-break\">\n",
      "<a class=\"hoverinfo_trigger fl-l ml12 mr8\" href=\"https://myanimelist.net/anime/5114/Fullmetal_Alchemist__Brotherhood\" id=\"#area5114\" rel=\"#info5114\">\n",
      "<img alt=\"Anime: Fullmetal Alchemist: Brotherhood\" border=\"0\" class=\"lazyload\" data-src=\"https://cdn.myanimelist.net/r/50x70/images/anime/1223/96541.jpg?s=faffcb677a5eacd17bf761edd78bfb3f\" data-srcset=\"https://cdn.myanimelist.net/r/50x70/images/anime/1223/96541.jpg?s=faffcb677a5eacd17bf761edd78bfb3f 1x, https://cdn.myanimelist.net/r/100x140/images/anime/1223/96541.jpg?s=0c3b98cf4905422c00981025cd20d271 2x\" height=\"70\" width=\"50\">\n",
      "</img></a>\n",
      "<div class=\"detail\"><div id=\"area5114\">\n",
      "<div class=\"hoverinfo\" id=\"info5114\" rel=\"a5114\"></div>\n",
      "</div>\n",
      "<div class=\"di-ib clearfix\"><h3 class=\"hoverinfo_trigger fl-l fs14 fw-b anime_ranking_h3\"><a href=\"https://myanimelist.net/anime/5114/Fullmetal_Alchemist__Brotherhood\" id=\"#area5114\" rel=\"#info5114\">Fullmetal Alchemist: Brotherhood</a></h3><a class=\"icon-watch ml8 ga-click\" href=\"https://myanimelist.net/anime/5114/Fullmetal_Alchemist__Brotherhood/video\" title=\"Watch Episode Video\">Watch Episode Video</a></div><br/><div class=\"information di-ib mt4\">\n",
      "        TV (64 eps)<br/>\n",
      "        Apr 2009 - Jul 2010<br/>\n",
      "        2,665,843 members\n",
      "      </div><div class=\"manga-store-information\">\n",
      "<a class=\"link\" href=\"https://myanimelist.net/store/manga_volume/2148/Fullmetal_Alchemist_Volume_1\">\n",
      "<i aria-hidden=\"true\" class=\"fa fa-shopping-cart\"></i> <span class=\"fw-b\">Manga Store</span>\n",
      "<span class=\"volume\">Volume 1</span>\n",
      "<span class=\"price\">€4.58</span> </a><a class=\"button-preview\" href=\"https://myanimelist.net/store/viewer/1/2148/preview\" target=\"_blank\">Preview</a></div></div>\n",
      "</td>\n",
      "<td class=\"score ac fs14\"><div class=\"js-top-ranking-score-col di-ib al\"><i class=\"icon-score-star mr4 on\"></i><span class=\"text on score-label score-9\">9.16</span></div>\n",
      "</td>\n",
      "<td class=\"your-score ac fs14\">\n",
      "<div class=\"js-top-ranking-your-score-col di-ib al\"> <a class=\"\" href=\"https://myanimelist.net/login.php?error=login_required&amp;from=%2Ftopanime.php\"><i class=\"icon-score-star mr4\"></i><span class=\"text score-label score-na\">N/A</span></a>\n",
      "</div>\n",
      "</td>\n",
      "<td class=\"status ac\"> <a class=\"btn-addEdit-large btn-anime-watch-status js-anime-watch-status notinmylist\" href=\"https://myanimelist.net/login.php?error=login_required&amp;from=%2Ftopanime.php\"><i class=\"fa fa-plus-square-o mr4\"></i>Add to list</a>\n",
      "</td>\n",
      "</tr>, <tr class=\"ranking-list\">\n",
      "<td class=\"rank ac\" valign=\"top\">\n",
      "<span class=\"lightLink top-anime-rank-text rank1\">2</span>\n",
      "</td>\n",
      "<td class=\"title al va-t word-break\">\n",
      "<a class=\"hoverinfo_trigger fl-l ml12 mr8\" href=\"https://myanimelist.net/anime/28977/Gintama°\" id=\"#area28977\" rel=\"#info28977\">\n",
      "<img alt=\"Anime: Gintama°\" border=\"0\" class=\"lazyload\" data-src=\"https://cdn.myanimelist.net/r/50x70/images/anime/3/72078.jpg?s=e9537ac90c08758594c787ede117f209\" data-srcset=\"https://cdn.myanimelist.net/r/50x70/images/anime/3/72078.jpg?s=e9537ac90c08758594c787ede117f209 1x, https://cdn.myanimelist.net/r/100x140/images/anime/3/72078.jpg?s=bb26d45bb75e13601e1b8029f717c2b0 2x\" height=\"70\" width=\"50\"/>\n",
      "</a>\n",
      "<div class=\"detail\"><div id=\"area28977\">\n",
      "<div class=\"hoverinfo\" id=\"info28977\" rel=\"a28977\"></div>\n",
      "</div>\n",
      "<div class=\"di-ib clearfix\"><h3 class=\"hoverinfo_trigger fl-l fs14 fw-b anime_ranking_h3\"><a href=\"https://myanimelist.net/anime/28977/Gintama°\" id=\"#area28977\" rel=\"#info28977\">Gintama°</a></h3><a class=\"icon-watch ml8 ga-click\" href=\"https://myanimelist.net/anime/28977/Gintama%C2%B0/video\" title=\"Watch Episode Video\">Watch Episode Video</a></div><br/><div class=\"information di-ib mt4\">\n",
      "        TV (51 eps)<br/>\n",
      "        Apr 2015 - Mar 2016<br/>\n",
      "        478,506 members\n",
      "      </div></div>\n",
      "</td>\n",
      "<td class=\"score ac fs14\"><div class=\"js-top-ranking-score-col di-ib al\"><i class=\"icon-score-star mr4 on\"></i><span class=\"text on score-label score-9\">9.09</span></div>\n",
      "</td>\n",
      "<td class=\"your-score ac fs14\">\n",
      "<div class=\"js-top-ranking-your-score-col di-ib al\"> <a class=\"\" href=\"https://myanimelist.net/login.php?error=login_required&amp;from=%2Ftopanime.php\"><i class=\"icon-score-star mr4\"></i><span class=\"text score-label score-na\">N/A</span></a>\n",
      "</div>\n",
      "</td>\n",
      "<td class=\"status ac\"> <a class=\"btn-addEdit-large btn-anime-watch-status js-anime-watch-status notinmylist\" href=\"https://myanimelist.net/login.php?error=login_required&amp;from=%2Ftopanime.php\"><i class=\"fa fa-plus-square-o mr4\"></i>Add to list</a>\n",
      "</td>\n",
      "</tr>, <tr class=\"ranking-list\">\n",
      "<td class=\"rank ac\" valign=\"top\">\n",
      "<span class=\"lightLink top-anime-rank-text rank1\">3</span>\n",
      "</td>\n",
      "<td class=\"title al va-t word-break\">\n",
      "<a class=\"hoverinfo_trigger fl-l ml12 mr8\" href=\"https://myanimelist.net/anime/38524/Shingeki_no_Kyojin_Season_3_Part_2\" id=\"#area38524\" rel=\"#info38524\">\n",
      "<img alt=\"Anime: Shingeki no Kyojin Season 3 Part 2\" border=\"0\" class=\"lazyload\" data-src=\"https://cdn.myanimelist.net/r/50x70/images/anime/1517/100633.jpg?s=4540a01b5883647ade494cd28392f100\" data-srcset=\"https://cdn.myanimelist.net/r/50x70/images/anime/1517/100633.jpg?s=4540a01b5883647ade494cd28392f100 1x, https://cdn.myanimelist.net/r/100x140/images/anime/1517/100633.jpg?s=63aa0647fb4eba3fd80288489f0a64a4 2x\" height=\"70\" width=\"50\"/>\n",
      "</a>\n",
      "<div class=\"detail\"><div id=\"area38524\">\n",
      "<div class=\"hoverinfo\" id=\"info38524\" rel=\"a38524\"></div>\n",
      "</div>\n",
      "<div class=\"di-ib clearfix\"><h3 class=\"hoverinfo_trigger fl-l fs14 fw-b anime_ranking_h3\"><a href=\"https://myanimelist.net/anime/38524/Shingeki_no_Kyojin_Season_3_Part_2\" id=\"#area38524\" rel=\"#info38524\">Shingeki no Kyojin Season 3 Part 2</a></h3><a class=\"icon-watch ml8 ga-click\" href=\"https://myanimelist.net/anime/38524/Shingeki_no_Kyojin_Season_3_Part_2/video\" title=\"Watch Episode Video\">Watch Episode Video</a></div><br/><div class=\"information di-ib mt4\">\n",
      "        TV (10 eps)<br/>\n",
      "        Apr 2019 - Jul 2019<br/>\n",
      "        1,573,256 members\n",
      "      </div><div class=\"manga-store-information\">\n",
      "<a class=\"link\" href=\"https://myanimelist.net/store/manga_volume/394/Attack_on_Titan_Volume_1\">\n",
      "<i aria-hidden=\"true\" class=\"fa fa-shopping-cart\"></i> <span class=\"fw-b\">Manga Store</span>\n",
      "<span class=\"volume\">Volume 1</span>\n",
      "<span class=\"price\">€10.99</span> </a><a class=\"button-preview\" href=\"https://myanimelist.net/store/viewer/1/394/preview\" target=\"_blank\">Preview</a></div></div>\n",
      "</td>\n",
      "<td class=\"score ac fs14\"><div class=\"js-top-ranking-score-col di-ib al\"><i class=\"icon-score-star mr4 on\"></i><span class=\"text on score-label score-9\">9.09</span></div>\n",
      "</td>\n",
      "<td class=\"your-score ac fs14\">\n",
      "<div class=\"js-top-ranking-your-score-col di-ib al\"> <a class=\"\" href=\"https://myanimelist.net/login.php?error=login_required&amp;from=%2Ftopanime.php\"><i class=\"icon-score-star mr4\"></i><span class=\"text score-label score-na\">N/A</span></a>\n",
      "</div>\n",
      "</td>\n",
      "<td class=\"status ac\"> <a class=\"btn-addEdit-large btn-anime-watch-status js-anime-watch-status notinmylist\" href=\"https://myanimelist.net/login.php?error=login_required&amp;from=%2Ftopanime.php\"><i class=\"fa fa-plus-square-o mr4\"></i>Add to list</a>\n",
      "</td>\n",
      "</tr>, <tr class=\"ranking-list\">\n",
      "<td class=\"rank ac\" valign=\"top\">\n",
      "<span class=\"lightLink top-anime-rank-text rank1\">4</span>\n",
      "</td>\n",
      "<td class=\"title al va-t word-break\">\n",
      "<a class=\"hoverinfo_trigger fl-l ml12 mr8\" href=\"https://myanimelist.net/anime/9253/Steins_Gate\" id=\"#area9253\" rel=\"#info9253\">\n",
      "<img alt=\"Anime: Steins;Gate\" border=\"0\" class=\"lazyload\" data-src=\"https://cdn.myanimelist.net/r/50x70/images/anime/5/73199.jpg?s=97b97d568f25a02cf5a22dda13b5371f\" data-srcset=\"https://cdn.myanimelist.net/r/50x70/images/anime/5/73199.jpg?s=97b97d568f25a02cf5a22dda13b5371f 1x, https://cdn.myanimelist.net/r/100x140/images/anime/5/73199.jpg?s=8fe506c27a2eba32611561a2dd116389 2x\" height=\"70\" width=\"50\"/>\n",
      "</a>\n",
      "<div class=\"detail\"><div id=\"area9253\">\n",
      "<div class=\"hoverinfo\" id=\"info9253\" rel=\"a9253\"></div>\n",
      "</div>\n",
      "<div class=\"di-ib clearfix\"><h3 class=\"hoverinfo_trigger fl-l fs14 fw-b anime_ranking_h3\"><a href=\"https://myanimelist.net/anime/9253/Steins_Gate\" id=\"#area9253\" rel=\"#info9253\">Steins;Gate</a></h3><a class=\"icon-watch ml8 ga-click\" href=\"https://myanimelist.net/anime/9253/Steins_Gate/video\" title=\"Watch Episode Video\">Watch Episode Video</a></div><br/><div class=\"information di-ib mt4\">\n",
      "        TV (24 eps)<br/>\n",
      "        Apr 2011 - Sep 2011<br/>\n",
      "        2,080,471 members\n",
      "      </div></div>\n",
      "</td>\n",
      "<td class=\"score ac fs14\"><div class=\"js-top-ranking-score-col di-ib al\"><i class=\"icon-score-star mr4 on\"></i><span class=\"text on score-label score-9\">9.09</span></div>\n",
      "</td>\n",
      "<td class=\"your-score ac fs14\">\n",
      "<div class=\"js-top-ranking-your-score-col di-ib al\"> <a class=\"\" href=\"https://myanimelist.net/login.php?error=login_required&amp;from=%2Ftopanime.php\"><i class=\"icon-score-star mr4\"></i><span class=\"text score-label score-na\">N/A</span></a>\n",
      "</div>\n",
      "</td>\n",
      "<td class=\"status ac\"> <a class=\"btn-addEdit-large btn-anime-watch-status js-anime-watch-status notinmylist\" href=\"https://myanimelist.net/login.php?error=login_required&amp;from=%2Ftopanime.php\"><i class=\"fa fa-plus-square-o mr4\"></i>Add to list</a>\n",
      "</td>\n",
      "</tr>, <tr class=\"ranking-list\">\n",
      "<td class=\"rank ac\" valign=\"top\">\n",
      "<span class=\"lightLink top-anime-rank-text rank1\">5</span>\n",
      "</td>\n",
      "<td class=\"title al va-t word-break\">\n",
      "<a class=\"hoverinfo_trigger fl-l ml12 mr8\" href=\"https://myanimelist.net/anime/42938/Fruits_Basket__The_Final\" id=\"#area42938\" rel=\"#info42938\">\n",
      "<img alt=\"Anime: Fruits Basket: The Final\" border=\"0\" class=\"lazyload\" data-src=\"https://cdn.myanimelist.net/r/50x70/images/anime/1085/114792.jpg?s=bb4303c0804c9d5ca9fcb30b8f8e6783\" data-srcset=\"https://cdn.myanimelist.net/r/50x70/images/anime/1085/114792.jpg?s=bb4303c0804c9d5ca9fcb30b8f8e6783 1x, https://cdn.myanimelist.net/r/100x140/images/anime/1085/114792.jpg?s=5c97b2781732adc9ad6711abcb6f2f1b 2x\" height=\"70\" width=\"50\"/>\n",
      "</a>\n",
      "<div class=\"detail\"><div id=\"area42938\">\n",
      "<div class=\"hoverinfo\" id=\"info42938\" rel=\"a42938\"></div>\n",
      "</div>\n",
      "<div class=\"di-ib clearfix\"><h3 class=\"hoverinfo_trigger fl-l fs14 fw-b anime_ranking_h3\"><a href=\"https://myanimelist.net/anime/42938/Fruits_Basket__The_Final\" id=\"#area42938\" rel=\"#info42938\">Fruits Basket: The Final</a></h3><a class=\"icon-watch ml8 ga-click\" href=\"https://myanimelist.net/anime/42938/Fruits_Basket__The_Final/video\" title=\"Watch Episode Video\">Watch Episode Video</a></div><br/><div class=\"information di-ib mt4\">\n",
      "        TV (13 eps)<br/>\n",
      "        Apr 2021 - Jun 2021<br/>\n",
      "        268,320 members\n",
      "      </div><div class=\"manga-store-information\">\n",
      "<a class=\"link\" href=\"https://myanimelist.net/store/manga_volume/4551/Fruits_Basket_Collectors_Edition_Volume_1\">\n",
      "<i aria-hidden=\"true\" class=\"fa fa-shopping-cart\"></i> <span class=\"fw-b\">Manga Store</span>\n",
      "<span class=\"volume\">Volume 1</span>\n",
      "<span class=\"price\">€6.66</span> </a><a class=\"button-preview\" href=\"https://myanimelist.net/store/viewer/1/4551/preview\" target=\"_blank\">Preview</a></div></div>\n",
      "</td>\n",
      "<td class=\"score ac fs14\"><div class=\"js-top-ranking-score-col di-ib al\"><i class=\"icon-score-star mr4 on\"></i><span class=\"text on score-label score-9\">9.07</span></div>\n",
      "</td>\n",
      "<td class=\"your-score ac fs14\">\n",
      "<div class=\"js-top-ranking-your-score-col di-ib al\"> <a class=\"\" href=\"https://myanimelist.net/login.php?error=login_required&amp;from=%2Ftopanime.php\"><i class=\"icon-score-star mr4\"></i><span class=\"text score-label score-na\">N/A</span></a>\n",
      "</div>\n",
      "</td>\n",
      "<td class=\"status ac\"> <a class=\"btn-addEdit-large btn-anime-watch-status js-anime-watch-status notinmylist\" href=\"https://myanimelist.net/login.php?error=login_required&amp;from=%2Ftopanime.php\"><i class=\"fa fa-plus-square-o mr4\"></i>Add to list</a>\n",
      "</td>\n",
      "</tr>, <tr class=\"ranking-list\">\n",
      "<td class=\"rank ac\" valign=\"top\">\n",
      "<span class=\"lightLink top-anime-rank-text rank1\">6</span>\n",
      "</td>\n",
      "<td class=\"title al va-t word-break\">\n",
      "<a class=\"hoverinfo_trigger fl-l ml12 mr8\" href=\"https://myanimelist.net/anime/9969/Gintama\" id=\"#area9969\" rel=\"#info9969\">\n",
      "<img alt=\"Anime: Gintama&amp;#039;\" border=\"0\" class=\"lazyload\" data-src=\"https://cdn.myanimelist.net/r/50x70/images/anime/4/50361.jpg?s=b3a061db8c3d42a055d58f9df1f3dac7\" data-srcset=\"https://cdn.myanimelist.net/r/50x70/images/anime/4/50361.jpg?s=b3a061db8c3d42a055d58f9df1f3dac7 1x, https://cdn.myanimelist.net/r/100x140/images/anime/4/50361.jpg?s=0fde0801daa3b436029146f401e5e77f 2x\" height=\"70\" width=\"50\"/>\n",
      "</a>\n",
      "<div class=\"detail\"><div id=\"area9969\">\n",
      "<div class=\"hoverinfo\" id=\"info9969\" rel=\"a9969\"></div>\n",
      "</div>\n",
      "<div class=\"di-ib clearfix\"><h3 class=\"hoverinfo_trigger fl-l fs14 fw-b anime_ranking_h3\"><a href=\"https://myanimelist.net/anime/9969/Gintama\" id=\"#area9969\" rel=\"#info9969\">Gintama'</a></h3><a class=\"icon-watch ml8 ga-click\" href=\"https://myanimelist.net/anime/9969/Gintama/video\" title=\"Watch Episode Video\">Watch Episode Video</a></div><br/><div class=\"information di-ib mt4\">\n",
      "        TV (51 eps)<br/>\n",
      "        Apr 2011 - Mar 2012<br/>\n",
      "        426,605 members\n",
      "      </div></div>\n",
      "</td>\n",
      "<td class=\"score ac fs14\"><div class=\"js-top-ranking-score-col di-ib al\"><i class=\"icon-score-star mr4 on\"></i><span class=\"text on score-label score-9\">9.06</span></div>\n",
      "</td>\n",
      "<td class=\"your-score ac fs14\">\n",
      "<div class=\"js-top-ranking-your-score-col di-ib al\"> <a class=\"\" href=\"https://myanimelist.net/login.php?error=login_required&amp;from=%2Ftopanime.php\"><i class=\"icon-score-star mr4\"></i><span class=\"text score-label score-na\">N/A</span></a>\n",
      "</div>\n",
      "</td>\n",
      "<td class=\"status ac\"> <a class=\"btn-addEdit-large btn-anime-watch-status js-anime-watch-status notinmylist\" href=\"https://myanimelist.net/login.php?error=login_required&amp;from=%2Ftopanime.php\"><i class=\"fa fa-plus-square-o mr4\"></i>Add to list</a>\n",
      "</td>\n",
      "</tr>, <tr class=\"ranking-list\">\n",
      "<td class=\"rank ac\" valign=\"top\">\n",
      "<span class=\"lightLink top-anime-rank-text rank1\">7</span>\n",
      "</td>\n",
      "<td class=\"title al va-t word-break\">\n",
      "<a class=\"hoverinfo_trigger fl-l ml12 mr8\" href=\"https://myanimelist.net/anime/11061/Hunter_x_Hunter_2011\" id=\"#area11061\" rel=\"#info11061\">\n",
      "<img alt=\"Anime: Hunter x Hunter (2011)\" border=\"0\" class=\"lazyload\" data-src=\"https://cdn.myanimelist.net/r/50x70/images/anime/11/33657.jpg?s=5724d8c22ae7a1dad72d8f4229ef803f\" data-srcset=\"https://cdn.myanimelist.net/r/50x70/images/anime/11/33657.jpg?s=5724d8c22ae7a1dad72d8f4229ef803f 1x, https://cdn.myanimelist.net/r/100x140/images/anime/11/33657.jpg?s=83a033feb002dabca776b6f194171c09 2x\" height=\"70\" width=\"50\"/>\n",
      "</a>\n",
      "<div class=\"detail\"><div id=\"area11061\">\n",
      "<div class=\"hoverinfo\" id=\"info11061\" rel=\"a11061\"></div>\n",
      "</div>\n",
      "<div class=\"di-ib clearfix\"><h3 class=\"hoverinfo_trigger fl-l fs14 fw-b anime_ranking_h3\"><a href=\"https://myanimelist.net/anime/11061/Hunter_x_Hunter_2011\" id=\"#area11061\" rel=\"#info11061\">Hunter x Hunter (2011)</a></h3><a class=\"icon-watch ml8 ga-click\" href=\"https://myanimelist.net/anime/11061/Hunter_x_Hunter_2011/video\" title=\"Watch Episode Video\">Watch Episode Video</a></div><br/><div class=\"information di-ib mt4\">\n",
      "        TV (148 eps)<br/>\n",
      "        Oct 2011 - Sep 2014<br/>\n",
      "        2,134,760 members\n",
      "      </div></div>\n",
      "</td>\n",
      "<td class=\"score ac fs14\"><div class=\"js-top-ranking-score-col di-ib al\"><i class=\"icon-score-star mr4 on\"></i><span class=\"text on score-label score-9\">9.06</span></div>\n",
      "</td>\n",
      "<td class=\"your-score ac fs14\">\n",
      "<div class=\"js-top-ranking-your-score-col di-ib al\"> <a class=\"\" href=\"https://myanimelist.net/login.php?error=login_required&amp;from=%2Ftopanime.php\"><i class=\"icon-score-star mr4\"></i><span class=\"text score-label score-na\">N/A</span></a>\n",
      "</div>\n",
      "</td>\n",
      "<td class=\"status ac\"> <a class=\"btn-addEdit-large btn-anime-watch-status js-anime-watch-status notinmylist\" href=\"https://myanimelist.net/login.php?error=login_required&amp;from=%2Ftopanime.php\"><i class=\"fa fa-plus-square-o mr4\"></i>Add to list</a>\n",
      "</td>\n",
      "</tr>, <tr class=\"ranking-list\">\n",
      "<td class=\"rank ac\" valign=\"top\">\n",
      "<span class=\"lightLink top-anime-rank-text rank1\">8</span>\n",
      "</td>\n",
      "<td class=\"title al va-t word-break\">\n",
      "<a class=\"hoverinfo_trigger fl-l ml12 mr8\" href=\"https://myanimelist.net/anime/820/Ginga_Eiyuu_Densetsu\" id=\"#area820\" rel=\"#info820\">\n",
      "<img alt=\"Anime: Ginga Eiyuu Densetsu\" border=\"0\" class=\"lazyload\" data-src=\"https://cdn.myanimelist.net/r/50x70/images/anime/13/13225.jpg?s=385cedad342e284c5765833ab1cddc1c\" data-srcset=\"https://cdn.myanimelist.net/r/50x70/images/anime/13/13225.jpg?s=385cedad342e284c5765833ab1cddc1c 1x, https://cdn.myanimelist.net/r/100x140/images/anime/13/13225.jpg?s=8672a3462de209d1b78348d01df76d7b 2x\" height=\"70\" width=\"50\"/>\n",
      "</a>\n",
      "<div class=\"detail\"><div id=\"area820\">\n",
      "<div class=\"hoverinfo\" id=\"info820\" rel=\"a820\"></div>\n",
      "</div>\n",
      "<div class=\"di-ib clearfix\"><h3 class=\"hoverinfo_trigger fl-l fs14 fw-b anime_ranking_h3\"><a href=\"https://myanimelist.net/anime/820/Ginga_Eiyuu_Densetsu\" id=\"#area820\" rel=\"#info820\">Ginga Eiyuu Densetsu</a></h3><a class=\"icon-watch-pv ml8 ga-click\" href=\"https://myanimelist.net/anime/820/Ginga_Eiyuu_Densetsu/video\" title=\"Watch Promotional Video\">Watch Promotional Video</a></div><br/><div class=\"information di-ib mt4\">\n",
      "        OVA (110 eps)<br/>\n",
      "        Jan 1988 - Mar 1997<br/>\n",
      "        262,492 members\n",
      "      </div></div>\n",
      "</td>\n",
      "<td class=\"score ac fs14\"><div class=\"js-top-ranking-score-col di-ib al\"><i class=\"icon-score-star mr4 on\"></i><span class=\"text on score-label score-9\">9.04</span></div>\n",
      "</td>\n",
      "<td class=\"your-score ac fs14\">\n",
      "<div class=\"js-top-ranking-your-score-col di-ib al\"> <a class=\"\" href=\"https://myanimelist.net/login.php?error=login_required&amp;from=%2Ftopanime.php\"><i class=\"icon-score-star mr4\"></i><span class=\"text score-label score-na\">N/A</span></a>\n",
      "</div>\n",
      "</td>\n",
      "<td class=\"status ac\"> <a class=\"btn-addEdit-large btn-anime-watch-status js-anime-watch-status notinmylist\" href=\"https://myanimelist.net/login.php?error=login_required&amp;from=%2Ftopanime.php\"><i class=\"fa fa-plus-square-o mr4\"></i>Add to list</a>\n",
      "</td>\n",
      "</tr>, <tr class=\"ranking-list\">\n",
      "<td class=\"rank ac\" valign=\"top\">\n",
      "<span class=\"lightLink top-anime-rank-text rank1\">9</span>\n",
      "</td>\n",
      "<td class=\"title al va-t word-break\">\n",
      "<a class=\"hoverinfo_trigger fl-l ml12 mr8\" href=\"https://myanimelist.net/anime/15417/Gintama__Enchousen\" id=\"#area15417\" rel=\"#info15417\">\n",
      "<img alt=\"Anime: Gintama&amp;#039;: Enchousen\" border=\"0\" class=\"lazyload\" data-src=\"https://cdn.myanimelist.net/r/50x70/images/anime/6/75172.jpg?s=38a6e800ace5bcbee7a17b6c351ba987\" data-srcset=\"https://cdn.myanimelist.net/r/50x70/images/anime/6/75172.jpg?s=38a6e800ace5bcbee7a17b6c351ba987 1x, https://cdn.myanimelist.net/r/100x140/images/anime/6/75172.jpg?s=9c0b62c54b4ee3cb939d124baa68c40a 2x\" height=\"70\" width=\"50\"/>\n",
      "</a>\n",
      "<div class=\"detail\"><div id=\"area15417\">\n",
      "<div class=\"hoverinfo\" id=\"info15417\" rel=\"a15417\"></div>\n",
      "</div>\n",
      "<div class=\"di-ib clearfix\"><h3 class=\"hoverinfo_trigger fl-l fs14 fw-b anime_ranking_h3\"><a href=\"https://myanimelist.net/anime/15417/Gintama__Enchousen\" id=\"#area15417\" rel=\"#info15417\">Gintama': Enchousen</a></h3><a class=\"icon-watch ml8 ga-click\" href=\"https://myanimelist.net/anime/15417/Gintama__Enchousen/video\" title=\"Watch Episode Video\">Watch Episode Video</a></div><br/><div class=\"information di-ib mt4\">\n",
      "        TV (13 eps)<br/>\n",
      "        Oct 2012 - Mar 2013<br/>\n",
      "        259,723 members\n",
      "      </div></div>\n",
      "</td>\n",
      "<td class=\"score ac fs14\"><div class=\"js-top-ranking-score-col di-ib al\"><i class=\"icon-score-star mr4 on\"></i><span class=\"text on score-label score-9\">9.04</span></div>\n",
      "</td>\n",
      "<td class=\"your-score ac fs14\">\n",
      "<div class=\"js-top-ranking-your-score-col di-ib al\"> <a class=\"\" href=\"https://myanimelist.net/login.php?error=login_required&amp;from=%2Ftopanime.php\"><i class=\"icon-score-star mr4\"></i><span class=\"text score-label score-na\">N/A</span></a>\n",
      "</div>\n",
      "</td>\n",
      "<td class=\"status ac\"> <a class=\"btn-addEdit-large btn-anime-watch-status js-anime-watch-status notinmylist\" href=\"https://myanimelist.net/login.php?error=login_required&amp;from=%2Ftopanime.php\"><i class=\"fa fa-plus-square-o mr4\"></i>Add to list</a>\n",
      "</td>\n",
      "</tr>, <tr class=\"ranking-list\">\n",
      "<td class=\"rank ac\" valign=\"top\">\n",
      "<span class=\"lightLink top-anime-rank-text rank2\">10</span>\n",
      "</td>\n",
      "<td class=\"title al va-t word-break\">\n",
      "<a class=\"hoverinfo_trigger fl-l ml12 mr8\" href=\"https://myanimelist.net/anime/39486/Gintama__The_Final\" id=\"#area39486\" rel=\"#info39486\">\n",
      "<img alt=\"Anime: Gintama: The Final\" border=\"0\" class=\"lazyload\" data-src=\"https://cdn.myanimelist.net/r/50x70/images/anime/1245/116760.jpg?s=8f52d6ff46ef1233eb9fcd542434221c\" data-srcset=\"https://cdn.myanimelist.net/r/50x70/images/anime/1245/116760.jpg?s=8f52d6ff46ef1233eb9fcd542434221c 1x, https://cdn.myanimelist.net/r/100x140/images/anime/1245/116760.jpg?s=8fc5f4b436ee45307a882948a5e768ac 2x\" height=\"70\" width=\"50\"/>\n",
      "</a>\n",
      "<div class=\"detail\"><div id=\"area39486\">\n",
      "<div class=\"hoverinfo\" id=\"info39486\" rel=\"a39486\"></div>\n",
      "</div>\n",
      "<div class=\"di-ib clearfix\"><h3 class=\"hoverinfo_trigger fl-l fs14 fw-b anime_ranking_h3\"><a href=\"https://myanimelist.net/anime/39486/Gintama__The_Final\" id=\"#area39486\" rel=\"#info39486\">Gintama: The Final</a></h3><a class=\"icon-watch-pv ml8 ga-click\" href=\"https://myanimelist.net/anime/39486/Gintama__The_Final/video\" title=\"Watch Promotional Video\">Watch Promotional Video</a></div><br/><div class=\"information di-ib mt4\">\n",
      "        Movie (1 eps)<br/>\n",
      "        Jan 2021 - Jan 2021<br/>\n",
      "        77,390 members\n",
      "      </div></div>\n",
      "</td>\n",
      "<td class=\"score ac fs14\"><div class=\"js-top-ranking-score-col di-ib al\"><i class=\"icon-score-star mr4 on\"></i><span class=\"text on score-label score-9\">9.00</span></div>\n",
      "</td>\n",
      "<td class=\"your-score ac fs14\">\n",
      "<div class=\"js-top-ranking-your-score-col di-ib al\"> <a class=\"\" href=\"https://myanimelist.net/login.php?error=login_required&amp;from=%2Ftopanime.php\"><i class=\"icon-score-star mr4\"></i><span class=\"text score-label score-na\">N/A</span></a>\n",
      "</div>\n",
      "</td>\n",
      "<td class=\"status ac\"> <a class=\"btn-addEdit-large btn-anime-watch-status js-anime-watch-status notinmylist\" href=\"https://myanimelist.net/login.php?error=login_required&amp;from=%2Ftopanime.php\"><i class=\"fa fa-plus-square-o mr4\"></i>Add to list</a>\n",
      "</td>\n",
      "</tr>, <tr class=\"ranking-list\">\n",
      "<td class=\"rank ac\" valign=\"top\">\n",
      "<span class=\"lightLink top-anime-rank-text rank2\">11</span>\n",
      "</td>\n",
      "<td class=\"title al va-t word-break\">\n",
      "<a class=\"hoverinfo_trigger fl-l ml12 mr8\" href=\"https://myanimelist.net/anime/34096/Gintama\" id=\"#area34096\" rel=\"#info34096\">\n",
      "<img alt=\"Anime: Gintama.\" border=\"0\" class=\"lazyload\" data-src=\"https://cdn.myanimelist.net/r/50x70/images/anime/3/83528.jpg?s=948f092dd55fb2572f38a0e21f03b642\" data-srcset=\"https://cdn.myanimelist.net/r/50x70/images/anime/3/83528.jpg?s=948f092dd55fb2572f38a0e21f03b642 1x, https://cdn.myanimelist.net/r/100x140/images/anime/3/83528.jpg?s=c5709cac379ebb2033052a3357967397 2x\" height=\"70\" width=\"50\"/>\n",
      "</a>\n",
      "<div class=\"detail\"><div id=\"area34096\">\n",
      "<div class=\"hoverinfo\" id=\"info34096\" rel=\"a34096\"></div>\n",
      "</div>\n",
      "<div class=\"di-ib clearfix\"><h3 class=\"hoverinfo_trigger fl-l fs14 fw-b anime_ranking_h3\"><a href=\"https://myanimelist.net/anime/34096/Gintama\" id=\"#area34096\" rel=\"#info34096\">Gintama.</a></h3><a class=\"icon-watch ml8 ga-click\" href=\"https://myanimelist.net/anime/34096/Gintama/video\" title=\"Watch Episode Video\">Watch Episode Video</a></div><br/><div class=\"information di-ib mt4\">\n",
      "        TV (12 eps)<br/>\n",
      "        Jan 2017 - Mar 2017<br/>\n",
      "        243,812 members\n",
      "      </div></div>\n",
      "</td>\n",
      "<td class=\"score ac fs14\"><div class=\"js-top-ranking-score-col di-ib al\"><i class=\"icon-score-star mr4 on\"></i><span class=\"text on score-label score-8\">8.98</span></div>\n",
      "</td>\n",
      "<td class=\"your-score ac fs14\">\n",
      "<div class=\"js-top-ranking-your-score-col di-ib al\"> <a class=\"\" href=\"https://myanimelist.net/login.php?error=login_required&amp;from=%2Ftopanime.php\"><i class=\"icon-score-star mr4\"></i><span class=\"text score-label score-na\">N/A</span></a>\n",
      "</div>\n",
      "</td>\n",
      "<td class=\"status ac\"> <a class=\"btn-addEdit-large btn-anime-watch-status js-anime-watch-status notinmylist\" href=\"https://myanimelist.net/login.php?error=login_required&amp;from=%2Ftopanime.php\"><i class=\"fa fa-plus-square-o mr4\"></i>Add to list</a>\n",
      "</td>\n",
      "</tr>, <tr class=\"ranking-list\">\n",
      "<td class=\"rank ac\" valign=\"top\">\n",
      "<span class=\"lightLink top-anime-rank-text rank2\">12</span>\n",
      "</td>\n",
      "<td class=\"title al va-t word-break\">\n",
      "<a class=\"hoverinfo_trigger fl-l ml12 mr8\" href=\"https://myanimelist.net/anime/35180/3-gatsu_no_Lion_2nd_Season\" id=\"#area35180\" rel=\"#info35180\">\n",
      "<img alt=\"Anime: 3-gatsu no Lion 2nd Season\" border=\"0\" class=\"lazyload\" data-src=\"https://cdn.myanimelist.net/r/50x70/images/anime/3/88469.jpg?s=becfbf556902bc3501e06a07354b9d76\" data-srcset=\"https://cdn.myanimelist.net/r/50x70/images/anime/3/88469.jpg?s=becfbf556902bc3501e06a07354b9d76 1x, https://cdn.myanimelist.net/r/100x140/images/anime/3/88469.jpg?s=4e26ac5f78b5501d6969e9eb528247a9 2x\" height=\"70\" width=\"50\"/>\n",
      "</a>\n",
      "<div class=\"detail\"><div id=\"area35180\">\n",
      "<div class=\"hoverinfo\" id=\"info35180\" rel=\"a35180\"></div>\n",
      "</div>\n",
      "<div class=\"di-ib clearfix\"><h3 class=\"hoverinfo_trigger fl-l fs14 fw-b anime_ranking_h3\"><a href=\"https://myanimelist.net/anime/35180/3-gatsu_no_Lion_2nd_Season\" id=\"#area35180\" rel=\"#info35180\">3-gatsu no Lion 2nd Season</a></h3><a class=\"icon-watch ml8 ga-click\" href=\"https://myanimelist.net/anime/35180/3-gatsu_no_Lion_2nd_Season/video\" title=\"Watch Episode Video\">Watch Episode Video</a></div><br/><div class=\"information di-ib mt4\">\n",
      "        TV (22 eps)<br/>\n",
      "        Oct 2017 - Mar 2018<br/>\n",
      "        321,498 members\n",
      "      </div></div>\n",
      "</td>\n",
      "<td class=\"score ac fs14\"><div class=\"js-top-ranking-score-col di-ib al\"><i class=\"icon-score-star mr4 on\"></i><span class=\"text on score-label score-8\">8.97</span></div>\n",
      "</td>\n",
      "<td class=\"your-score ac fs14\">\n",
      "<div class=\"js-top-ranking-your-score-col di-ib al\"> <a class=\"\" href=\"https://myanimelist.net/login.php?error=login_required&amp;from=%2Ftopanime.php\"><i class=\"icon-score-star mr4\"></i><span class=\"text score-label score-na\">N/A</span></a>\n",
      "</div>\n",
      "</td>\n",
      "<td class=\"status ac\"> <a class=\"btn-addEdit-large btn-anime-watch-status js-anime-watch-status notinmylist\" href=\"https://myanimelist.net/login.php?error=login_required&amp;from=%2Ftopanime.php\"><i class=\"fa fa-plus-square-o mr4\"></i>Add to list</a>\n",
      "</td>\n",
      "</tr>, <tr class=\"ranking-list\">\n",
      "<td class=\"rank ac\" valign=\"top\">\n",
      "<span class=\"lightLink top-anime-rank-text rank2\">13</span>\n",
      "</td>\n",
      "<td class=\"title al va-t word-break\">\n",
      "<a class=\"hoverinfo_trigger fl-l ml12 mr8\" href=\"https://myanimelist.net/anime/28851/Koe_no_Katachi\" id=\"#area28851\" rel=\"#info28851\">\n",
      "<img alt=\"Anime: Koe no Katachi\" border=\"0\" class=\"lazyload\" data-src=\"https://cdn.myanimelist.net/r/50x70/images/anime/1122/96435.jpg?s=56d2750d600af93a5d326daec7748cae\" data-srcset=\"https://cdn.myanimelist.net/r/50x70/images/anime/1122/96435.jpg?s=56d2750d600af93a5d326daec7748cae 1x, https://cdn.myanimelist.net/r/100x140/images/anime/1122/96435.jpg?s=ba7b364bdcb787802fa6be905e944d77 2x\" height=\"70\" width=\"50\"/>\n",
      "</a>\n",
      "<div class=\"detail\"><div id=\"area28851\">\n",
      "<div class=\"hoverinfo\" id=\"info28851\" rel=\"a28851\"></div>\n",
      "</div>\n",
      "<div class=\"di-ib clearfix\"><h3 class=\"hoverinfo_trigger fl-l fs14 fw-b anime_ranking_h3\"><a href=\"https://myanimelist.net/anime/28851/Koe_no_Katachi\" id=\"#area28851\" rel=\"#info28851\">Koe no Katachi</a></h3><a class=\"icon-watch-pv ml8 ga-click\" href=\"https://myanimelist.net/anime/28851/Koe_no_Katachi/video\" title=\"Watch Promotional Video\">Watch Promotional Video</a></div><br/><div class=\"information di-ib mt4\">\n",
      "        Movie (1 eps)<br/>\n",
      "        Sep 2016 - Sep 2016<br/>\n",
      "        1,758,160 members\n",
      "      </div><div class=\"manga-store-information\">\n",
      "<a class=\"link\" href=\"https://myanimelist.net/store/manga_volume/497/A_Silent_Voice_Volume_1\">\n",
      "<i aria-hidden=\"true\" class=\"fa fa-shopping-cart\"></i> <span class=\"fw-b\">Manga Store</span>\n",
      "<span class=\"volume\">Volume 1</span>\n",
      "<span class=\"price\">€10.99</span> </a><a class=\"button-preview\" href=\"https://myanimelist.net/store/viewer/1/497/preview\" target=\"_blank\">Preview</a></div></div>\n",
      "</td>\n",
      "<td class=\"score ac fs14\"><div class=\"js-top-ranking-score-col di-ib al\"><i class=\"icon-score-star mr4 on\"></i><span class=\"text on score-label score-8\">8.97</span></div>\n",
      "</td>\n",
      "<td class=\"your-score ac fs14\">\n",
      "<div class=\"js-top-ranking-your-score-col di-ib al\"> <a class=\"\" href=\"https://myanimelist.net/login.php?error=login_required&amp;from=%2Ftopanime.php\"><i class=\"icon-score-star mr4\"></i><span class=\"text score-label score-na\">N/A</span></a>\n",
      "</div>\n",
      "</td>\n",
      "<td class=\"status ac\"> <a class=\"btn-addEdit-large btn-anime-watch-status js-anime-watch-status notinmylist\" href=\"https://myanimelist.net/login.php?error=login_required&amp;from=%2Ftopanime.php\"><i class=\"fa fa-plus-square-o mr4\"></i>Add to list</a>\n",
      "</td>\n",
      "</tr>, <tr class=\"ranking-list\">\n",
      "<td class=\"rank ac\" valign=\"top\">\n",
      "<span class=\"lightLink top-anime-rank-text rank2\">14</span>\n",
      "</td>\n",
      "<td class=\"title al va-t word-break\">\n",
      "<a class=\"hoverinfo_trigger fl-l ml12 mr8\" href=\"https://myanimelist.net/anime/4181/Clannad__After_Story\" id=\"#area4181\" rel=\"#info4181\">\n",
      "<img alt=\"Anime: Clannad: After Story\" border=\"0\" class=\"lazyload\" data-src=\"https://cdn.myanimelist.net/r/50x70/images/anime/1299/110774.jpg?s=fcd9db2cfd72c10a2278f483173cfff9\" data-srcset=\"https://cdn.myanimelist.net/r/50x70/images/anime/1299/110774.jpg?s=fcd9db2cfd72c10a2278f483173cfff9 1x, https://cdn.myanimelist.net/r/100x140/images/anime/1299/110774.jpg?s=0bee2596cef8c43a9879b9d26089f868 2x\" height=\"70\" width=\"50\"/>\n",
      "</a>\n",
      "<div class=\"detail\"><div id=\"area4181\">\n",
      "<div class=\"hoverinfo\" id=\"info4181\" rel=\"a4181\"></div>\n",
      "</div>\n",
      "<div class=\"di-ib clearfix\"><h3 class=\"hoverinfo_trigger fl-l fs14 fw-b anime_ranking_h3\"><a href=\"https://myanimelist.net/anime/4181/Clannad__After_Story\" id=\"#area4181\" rel=\"#info4181\">Clannad: After Story</a></h3><a class=\"icon-watch ml8 ga-click\" href=\"https://myanimelist.net/anime/4181/Clannad__After_Story/video\" title=\"Watch Episode Video\">Watch Episode Video</a></div><br/><div class=\"information di-ib mt4\">\n",
      "        TV (24 eps)<br/>\n",
      "        Oct 2008 - Mar 2009<br/>\n",
      "        1,022,549 members\n",
      "      </div></div>\n",
      "</td>\n",
      "<td class=\"score ac fs14\"><div class=\"js-top-ranking-score-col di-ib al\"><i class=\"icon-score-star mr4 on\"></i><span class=\"text on score-label score-8\">8.95</span></div>\n",
      "</td>\n",
      "<td class=\"your-score ac fs14\">\n",
      "<div class=\"js-top-ranking-your-score-col di-ib al\"> <a class=\"\" href=\"https://myanimelist.net/login.php?error=login_required&amp;from=%2Ftopanime.php\"><i class=\"icon-score-star mr4\"></i><span class=\"text score-label score-na\">N/A</span></a>\n",
      "</div>\n",
      "</td>\n",
      "<td class=\"status ac\"> <a class=\"btn-addEdit-large btn-anime-watch-status js-anime-watch-status notinmylist\" href=\"https://myanimelist.net/login.php?error=login_required&amp;from=%2Ftopanime.php\"><i class=\"fa fa-plus-square-o mr4\"></i>Add to list</a>\n",
      "</td>\n",
      "</tr>, <tr class=\"ranking-list\">\n",
      "<td class=\"rank ac\" valign=\"top\">\n",
      "<span class=\"lightLink top-anime-rank-text rank2\">15</span>\n",
      "</td>\n",
      "<td class=\"title al va-t word-break\">\n",
      "<a class=\"hoverinfo_trigger fl-l ml12 mr8\" href=\"https://myanimelist.net/anime/918/Gintama\" id=\"#area918\" rel=\"#info918\">\n",
      "<img alt=\"Anime: Gintama\" border=\"0\" class=\"lazyload\" data-src=\"https://cdn.myanimelist.net/r/50x70/images/anime/10/73274.jpg?s=ed42453c10ba12b03b1600d02725a174\" data-srcset=\"https://cdn.myanimelist.net/r/50x70/images/anime/10/73274.jpg?s=ed42453c10ba12b03b1600d02725a174 1x, https://cdn.myanimelist.net/r/100x140/images/anime/10/73274.jpg?s=bfda4724d048534799329614778234c8 2x\" height=\"70\" width=\"50\"/>\n",
      "</a>\n",
      "<div class=\"detail\"><div id=\"area918\">\n",
      "<div class=\"hoverinfo\" id=\"info918\" rel=\"a918\"></div>\n",
      "</div>\n",
      "<div class=\"di-ib clearfix\"><h3 class=\"hoverinfo_trigger fl-l fs14 fw-b anime_ranking_h3\"><a href=\"https://myanimelist.net/anime/918/Gintama\" id=\"#area918\" rel=\"#info918\">Gintama</a></h3><a class=\"icon-watch ml8 ga-click\" href=\"https://myanimelist.net/anime/918/Gintama/video\" title=\"Watch Episode Video\">Watch Episode Video</a></div><br/><div class=\"information di-ib mt4\">\n",
      "        TV (201 eps)<br/>\n",
      "        Apr 2006 - Mar 2010<br/>\n",
      "        884,881 members\n",
      "      </div></div>\n",
      "</td>\n",
      "<td class=\"score ac fs14\"><div class=\"js-top-ranking-score-col di-ib al\"><i class=\"icon-score-star mr4 on\"></i><span class=\"text on score-label score-8\">8.95</span></div>\n",
      "</td>\n",
      "<td class=\"your-score ac fs14\">\n",
      "<div class=\"js-top-ranking-your-score-col di-ib al\"> <a class=\"\" href=\"https://myanimelist.net/login.php?error=login_required&amp;from=%2Ftopanime.php\"><i class=\"icon-score-star mr4\"></i><span class=\"text score-label score-na\">N/A</span></a>\n",
      "</div>\n",
      "</td>\n",
      "<td class=\"status ac\"> <a class=\"btn-addEdit-large btn-anime-watch-status js-anime-watch-status notinmylist\" href=\"https://myanimelist.net/login.php?error=login_required&amp;from=%2Ftopanime.php\"><i class=\"fa fa-plus-square-o mr4\"></i>Add to list</a>\n",
      "</td>\n",
      "</tr>, <tr class=\"ranking-list\">\n",
      "<td class=\"rank ac\" valign=\"top\">\n",
      "<span class=\"lightLink top-anime-rank-text rank2\">16</span>\n",
      "</td>\n",
      "<td class=\"title al va-t word-break\">\n",
      "<a class=\"hoverinfo_trigger fl-l ml12 mr8\" href=\"https://myanimelist.net/anime/15335/Gintama_Movie_2__Kanketsu-hen_-_Yorozuya_yo_Eien_Nare\" id=\"#area15335\" rel=\"#info15335\">\n",
      "<img alt=\"Anime: Gintama Movie 2: Kanketsu-hen - Yorozuya yo Eien Nare\" border=\"0\" class=\"lazyload\" data-src=\"https://cdn.myanimelist.net/r/50x70/images/anime/10/51723.jpg?s=27cd24446486572fb64c42a689d38902\" data-srcset=\"https://cdn.myanimelist.net/r/50x70/images/anime/10/51723.jpg?s=27cd24446486572fb64c42a689d38902 1x, https://cdn.myanimelist.net/r/100x140/images/anime/10/51723.jpg?s=bb3d98c8accf4dc8510356c856646b10 2x\" height=\"70\" width=\"50\"/>\n",
      "</a>\n",
      "<div class=\"detail\"><div id=\"area15335\">\n",
      "<div class=\"hoverinfo\" id=\"info15335\" rel=\"a15335\"></div>\n",
      "</div>\n",
      "<div class=\"di-ib clearfix\"><h3 class=\"hoverinfo_trigger fl-l fs14 fw-b anime_ranking_h3\"><a href=\"https://myanimelist.net/anime/15335/Gintama_Movie_2__Kanketsu-hen_-_Yorozuya_yo_Eien_Nare\" id=\"#area15335\" rel=\"#info15335\">Gintama Movie 2: Kanketsu-hen - Yorozuya yo Eien Nare</a></h3><a class=\"icon-watch-pv ml8 ga-click\" href=\"https://myanimelist.net/anime/15335/Gintama_Movie_2__Kanketsu-hen_-_Yorozuya_yo_Eien_Nare/video\" title=\"Watch Promotional Video\">Watch Promotional Video</a></div><br/><div class=\"information di-ib mt4\">\n",
      "        Movie (1 eps)<br/>\n",
      "        Jul 2013 - Jul 2013<br/>\n",
      "        195,033 members\n",
      "      </div></div>\n",
      "</td>\n",
      "<td class=\"score ac fs14\"><div class=\"js-top-ranking-score-col di-ib al\"><i class=\"icon-score-star mr4 on\"></i><span class=\"text on score-label score-8\">8.94</span></div>\n",
      "</td>\n",
      "<td class=\"your-score ac fs14\">\n",
      "<div class=\"js-top-ranking-your-score-col di-ib al\"> <a class=\"\" href=\"https://myanimelist.net/login.php?error=login_required&amp;from=%2Ftopanime.php\"><i class=\"icon-score-star mr4\"></i><span class=\"text score-label score-na\">N/A</span></a>\n",
      "</div>\n",
      "</td>\n",
      "<td class=\"status ac\"> <a class=\"btn-addEdit-large btn-anime-watch-status js-anime-watch-status notinmylist\" href=\"https://myanimelist.net/login.php?error=login_required&amp;from=%2Ftopanime.php\"><i class=\"fa fa-plus-square-o mr4\"></i>Add to list</a>\n",
      "</td>\n",
      "</tr>, <tr class=\"ranking-list\">\n",
      "<td class=\"rank ac\" valign=\"top\">\n",
      "<span class=\"lightLink top-anime-rank-text rank2\">17</span>\n",
      "</td>\n",
      "<td class=\"title al va-t word-break\">\n",
      "<a class=\"hoverinfo_trigger fl-l ml12 mr8\" href=\"https://myanimelist.net/anime/37987/Violet_Evergarden_Movie\" id=\"#area37987\" rel=\"#info37987\">\n",
      "<img alt=\"Anime: Violet Evergarden Movie\" border=\"0\" class=\"lazyload\" data-src=\"https://cdn.myanimelist.net/r/50x70/images/anime/1825/110716.jpg?s=3ad8359182d0b47905f28d0a68683171\" data-srcset=\"https://cdn.myanimelist.net/r/50x70/images/anime/1825/110716.jpg?s=3ad8359182d0b47905f28d0a68683171 1x, https://cdn.myanimelist.net/r/100x140/images/anime/1825/110716.jpg?s=38d96ccb027cd045ccabfd4e03f64841 2x\" height=\"70\" width=\"50\"/>\n",
      "</a>\n",
      "<div class=\"detail\"><div id=\"area37987\">\n",
      "<div class=\"hoverinfo\" id=\"info37987\" rel=\"a37987\"></div>\n",
      "</div>\n",
      "<div class=\"di-ib clearfix\"><h3 class=\"hoverinfo_trigger fl-l fs14 fw-b anime_ranking_h3\"><a href=\"https://myanimelist.net/anime/37987/Violet_Evergarden_Movie\" id=\"#area37987\" rel=\"#info37987\">Violet Evergarden Movie</a></h3><a class=\"icon-watch-pv ml8 ga-click\" href=\"https://myanimelist.net/anime/37987/Violet_Evergarden_Movie/video\" title=\"Watch Promotional Video\">Watch Promotional Video</a></div><br/><div class=\"information di-ib mt4\">\n",
      "        Movie (1 eps)<br/>\n",
      "        Sep 2020 - Sep 2020<br/>\n",
      "        323,951 members\n",
      "      </div></div>\n",
      "</td>\n",
      "<td class=\"score ac fs14\"><div class=\"js-top-ranking-score-col di-ib al\"><i class=\"icon-score-star mr4 on\"></i><span class=\"text on score-label score-8\">8.94</span></div>\n",
      "</td>\n",
      "<td class=\"your-score ac fs14\">\n",
      "<div class=\"js-top-ranking-your-score-col di-ib al\"> <a class=\"\" href=\"https://myanimelist.net/login.php?error=login_required&amp;from=%2Ftopanime.php\"><i class=\"icon-score-star mr4\"></i><span class=\"text score-label score-na\">N/A</span></a>\n",
      "</div>\n",
      "</td>\n",
      "<td class=\"status ac\"> <a class=\"btn-addEdit-large btn-anime-watch-status js-anime-watch-status notinmylist\" href=\"https://myanimelist.net/login.php?error=login_required&amp;from=%2Ftopanime.php\"><i class=\"fa fa-plus-square-o mr4\"></i>Add to list</a>\n",
      "</td>\n",
      "</tr>, <tr class=\"ranking-list\">\n",
      "<td class=\"rank ac\" valign=\"top\">\n",
      "<span class=\"lightLink top-anime-rank-text rank2\">18</span>\n",
      "</td>\n",
      "<td class=\"title al va-t word-break\">\n",
      "<a class=\"hoverinfo_trigger fl-l ml12 mr8\" href=\"https://myanimelist.net/anime/35247/Owarimonogatari_2nd_Season\" id=\"#area35247\" rel=\"#info35247\">\n",
      "<img alt=\"Anime: Owarimonogatari 2nd Season\" border=\"0\" class=\"lazyload\" data-src=\"https://cdn.myanimelist.net/r/50x70/images/anime/6/87322.jpg?s=3e60507a4b6016d83e7433aa4cb7853e\" data-srcset=\"https://cdn.myanimelist.net/r/50x70/images/anime/6/87322.jpg?s=3e60507a4b6016d83e7433aa4cb7853e 1x, https://cdn.myanimelist.net/r/100x140/images/anime/6/87322.jpg?s=5d0ef74fd5c7e44a1e695e85d0b86331 2x\" height=\"70\" width=\"50\"/>\n",
      "</a>\n",
      "<div class=\"detail\"><div id=\"area35247\">\n",
      "<div class=\"hoverinfo\" id=\"info35247\" rel=\"a35247\"></div>\n",
      "</div>\n",
      "<div class=\"di-ib clearfix\"><h3 class=\"hoverinfo_trigger fl-l fs14 fw-b anime_ranking_h3\"><a href=\"https://myanimelist.net/anime/35247/Owarimonogatari_2nd_Season\" id=\"#area35247\" rel=\"#info35247\">Owarimonogatari 2nd Season</a></h3><a class=\"icon-watch-pv ml8 ga-click\" href=\"https://myanimelist.net/anime/35247/Owarimonogatari_2nd_Season/video\" title=\"Watch Promotional Video\">Watch Promotional Video</a></div><br/><div class=\"information di-ib mt4\">\n",
      "        TV (7 eps)<br/>\n",
      "        Aug 2017 - Aug 2017<br/>\n",
      "        320,544 members\n",
      "      </div><div class=\"manga-store-information\">\n",
      "<a class=\"link\" href=\"https://myanimelist.net/store/manga_volume/6890/TSUKIMONOGATARI_Volume_1\">\n",
      "<i aria-hidden=\"true\" class=\"fa fa-shopping-cart\"></i> <span class=\"fw-b\">Manga Store</span>\n",
      "<span class=\"volume\">Volume 1</span>\n",
      "<span class=\"price\">€9.99</span> </a> <a class=\"button-preview\" href=\"https://myanimelist.net/store/novel_viewer?cid=6890&amp;cty=0&amp;cti=TSUKIMONOGATARI&amp;lin=1\" target=\"_blank\">Preview</a></div></div>\n",
      "</td>\n",
      "<td class=\"score ac fs14\"><div class=\"js-top-ranking-score-col di-ib al\"><i class=\"icon-score-star mr4 on\"></i><span class=\"text on score-label score-8\">8.91</span></div>\n",
      "</td>\n",
      "<td class=\"your-score ac fs14\">\n",
      "<div class=\"js-top-ranking-your-score-col di-ib al\"> <a class=\"\" href=\"https://myanimelist.net/login.php?error=login_required&amp;from=%2Ftopanime.php\"><i class=\"icon-score-star mr4\"></i><span class=\"text score-label score-na\">N/A</span></a>\n",
      "</div>\n",
      "</td>\n",
      "<td class=\"status ac\"> <a class=\"btn-addEdit-large btn-anime-watch-status js-anime-watch-status notinmylist\" href=\"https://myanimelist.net/login.php?error=login_required&amp;from=%2Ftopanime.php\"><i class=\"fa fa-plus-square-o mr4\"></i>Add to list</a>\n",
      "</td>\n",
      "</tr>, <tr class=\"ranking-list\">\n",
      "<td class=\"rank ac\" valign=\"top\">\n",
      "<span class=\"lightLink top-anime-rank-text rank2\">19</span>\n",
      "</td>\n",
      "<td class=\"title al va-t word-break\">\n",
      "<a class=\"hoverinfo_trigger fl-l ml12 mr8\" href=\"https://myanimelist.net/anime/40028/Shingeki_no_Kyojin__The_Final_Season\" id=\"#area40028\" rel=\"#info40028\">\n",
      "<img alt=\"Anime: Shingeki no Kyojin: The Final Season\" border=\"0\" class=\"lazyload\" data-src=\"https://cdn.myanimelist.net/r/50x70/images/anime/1000/110531.jpg?s=3df5ebb6800604dc04c6a6187dd7161b\" data-srcset=\"https://cdn.myanimelist.net/r/50x70/images/anime/1000/110531.jpg?s=3df5ebb6800604dc04c6a6187dd7161b 1x, https://cdn.myanimelist.net/r/100x140/images/anime/1000/110531.jpg?s=1c08fa93884604f959aa65825a252e12 2x\" height=\"70\" width=\"50\"/>\n",
      "</a>\n",
      "<div class=\"detail\"><div id=\"area40028\">\n",
      "<div class=\"hoverinfo\" id=\"info40028\" rel=\"a40028\"></div>\n",
      "</div>\n",
      "<div class=\"di-ib clearfix\"><h3 class=\"hoverinfo_trigger fl-l fs14 fw-b anime_ranking_h3\"><a href=\"https://myanimelist.net/anime/40028/Shingeki_no_Kyojin__The_Final_Season\" id=\"#area40028\" rel=\"#info40028\">Shingeki no Kyojin: The Final Season</a></h3><a class=\"icon-watch ml8 ga-click\" href=\"https://myanimelist.net/anime/40028/Shingeki_no_Kyojin__The_Final_Season/video\" title=\"Watch Episode Video\">Watch Episode Video</a></div><br/><div class=\"information di-ib mt4\">\n",
      "        TV (16 eps)<br/>\n",
      "        Dec 2020 - Mar 2021<br/>\n",
      "        1,324,577 members\n",
      "      </div><div class=\"manga-store-information\">\n",
      "<a class=\"link\" href=\"https://myanimelist.net/store/manga_volume/394/Attack_on_Titan_Volume_1\">\n",
      "<i aria-hidden=\"true\" class=\"fa fa-shopping-cart\"></i> <span class=\"fw-b\">Manga Store</span>\n",
      "<span class=\"volume\">Volume 1</span>\n",
      "<span class=\"price\">€10.99</span> </a><a class=\"button-preview\" href=\"https://myanimelist.net/store/viewer/1/394/preview\" target=\"_blank\">Preview</a></div></div>\n",
      "</td>\n",
      "<td class=\"score ac fs14\"><div class=\"js-top-ranking-score-col di-ib al\"><i class=\"icon-score-star mr4 on\"></i><span class=\"text on score-label score-8\">8.91</span></div>\n",
      "</td>\n",
      "<td class=\"your-score ac fs14\">\n",
      "<div class=\"js-top-ranking-your-score-col di-ib al\"> <a class=\"\" href=\"https://myanimelist.net/login.php?error=login_required&amp;from=%2Ftopanime.php\"><i class=\"icon-score-star mr4\"></i><span class=\"text score-label score-na\">N/A</span></a>\n",
      "</div>\n",
      "</td>\n",
      "<td class=\"status ac\"> <a class=\"btn-addEdit-large btn-anime-watch-status js-anime-watch-status notinmylist\" href=\"https://myanimelist.net/login.php?error=login_required&amp;from=%2Ftopanime.php\"><i class=\"fa fa-plus-square-o mr4\"></i>Add to list</a>\n",
      "</td>\n",
      "</tr>, <tr class=\"ranking-list\">\n",
      "<td class=\"rank ac\" valign=\"top\">\n",
      "<span class=\"lightLink top-anime-rank-text rank2\">20</span>\n",
      "</td>\n",
      "<td class=\"title al va-t word-break\">\n",
      "<a class=\"hoverinfo_trigger fl-l ml12 mr8\" href=\"https://myanimelist.net/anime/2904/Code_Geass__Hangyaku_no_Lelouch_R2\" id=\"#area2904\" rel=\"#info2904\">\n",
      "<img alt=\"Anime: Code Geass: Hangyaku no Lelouch R2\" border=\"0\" class=\"lazyload\" data-src=\"https://cdn.myanimelist.net/r/50x70/images/anime/4/9391.jpg?s=be052972605dd5422ef2df117766cff0\" data-srcset=\"https://cdn.myanimelist.net/r/50x70/images/anime/4/9391.jpg?s=be052972605dd5422ef2df117766cff0 1x, https://cdn.myanimelist.net/r/100x140/images/anime/4/9391.jpg?s=a23e555ee6862582a989e0cb4cccd0e5 2x\" height=\"70\" width=\"50\"/>\n",
      "</a>\n",
      "<div class=\"detail\"><div id=\"area2904\">\n",
      "<div class=\"hoverinfo\" id=\"info2904\" rel=\"a2904\"></div>\n",
      "</div>\n",
      "<div class=\"di-ib clearfix\"><h3 class=\"hoverinfo_trigger fl-l fs14 fw-b anime_ranking_h3\"><a href=\"https://myanimelist.net/anime/2904/Code_Geass__Hangyaku_no_Lelouch_R2\" id=\"#area2904\" rel=\"#info2904\">Code Geass: Hangyaku no Lelouch R2</a></h3><a class=\"icon-watch ml8 ga-click\" href=\"https://myanimelist.net/anime/2904/Code_Geass__Hangyaku_no_Lelouch_R2/video\" title=\"Watch Episode Video\">Watch Episode Video</a></div><br/><div class=\"information di-ib mt4\">\n",
      "        TV (25 eps)<br/>\n",
      "        Apr 2008 - Sep 2008<br/>\n",
      "        1,465,640 members\n",
      "      </div></div>\n",
      "</td>\n",
      "<td class=\"score ac fs14\"><div class=\"js-top-ranking-score-col di-ib al\"><i class=\"icon-score-star mr4 on\"></i><span class=\"text on score-label score-8\">8.91</span></div>\n",
      "</td>\n",
      "<td class=\"your-score ac fs14\">\n",
      "<div class=\"js-top-ranking-your-score-col di-ib al\"> <a class=\"\" href=\"https://myanimelist.net/login.php?error=login_required&amp;from=%2Ftopanime.php\"><i class=\"icon-score-star mr4\"></i><span class=\"text score-label score-na\">N/A</span></a>\n",
      "</div>\n",
      "</td>\n",
      "<td class=\"status ac\"> <a class=\"btn-addEdit-large btn-anime-watch-status js-anime-watch-status notinmylist\" href=\"https://myanimelist.net/login.php?error=login_required&amp;from=%2Ftopanime.php\"><i class=\"fa fa-plus-square-o mr4\"></i>Add to list</a>\n",
      "</td>\n",
      "</tr>, <tr class=\"ranking-list\">\n",
      "<td class=\"rank ac\" valign=\"top\">\n",
      "<span class=\"lightLink top-anime-rank-text rank2\">21</span>\n",
      "</td>\n",
      "<td class=\"title al va-t word-break\">\n",
      "<a class=\"hoverinfo_trigger fl-l ml12 mr8\" href=\"https://myanimelist.net/anime/32281/Kimi_no_Na_wa\" id=\"#area32281\" rel=\"#info32281\">\n",
      "<img alt=\"Anime: Kimi no Na wa.\" border=\"0\" class=\"lazyload\" data-src=\"https://cdn.myanimelist.net/r/50x70/images/anime/5/87048.jpg?s=2bca128fcb9dfd6d0908f3d9986576c6\" data-srcset=\"https://cdn.myanimelist.net/r/50x70/images/anime/5/87048.jpg?s=2bca128fcb9dfd6d0908f3d9986576c6 1x, https://cdn.myanimelist.net/r/100x140/images/anime/5/87048.jpg?s=0c69e78d81c675e0bbceae647b10dc5f 2x\" height=\"70\" width=\"50\"/>\n",
      "</a>\n",
      "<div class=\"detail\"><div id=\"area32281\">\n",
      "<div class=\"hoverinfo\" id=\"info32281\" rel=\"a32281\"></div>\n",
      "</div>\n",
      "<div class=\"di-ib clearfix\"><h3 class=\"hoverinfo_trigger fl-l fs14 fw-b anime_ranking_h3\"><a href=\"https://myanimelist.net/anime/32281/Kimi_no_Na_wa\" id=\"#area32281\" rel=\"#info32281\">Kimi no Na wa.</a></h3><a class=\"icon-watch-pv ml8 ga-click\" href=\"https://myanimelist.net/anime/32281/Kimi_no_Na_wa/video\" title=\"Watch Promotional Video\">Watch Promotional Video</a></div><br/><div class=\"information di-ib mt4\">\n",
      "        Movie (1 eps)<br/>\n",
      "        Aug 2016 - Aug 2016<br/>\n",
      "        2,139,499 members\n",
      "      </div><div class=\"manga-store-information\">\n",
      "<a class=\"link\" href=\"https://myanimelist.net/store/manga_volume/1946/your_name_Volume_1\">\n",
      "<i aria-hidden=\"true\" class=\"fa fa-shopping-cart\"></i> <span class=\"fw-b\">Manga Store</span>\n",
      "<span class=\"volume\">Volume 1</span>\n",
      "<span class=\"price\">€4.58</span> </a><a class=\"button-preview\" href=\"https://myanimelist.net/store/viewer/1/1946/preview\" target=\"_blank\">Preview</a></div></div>\n",
      "</td>\n",
      "<td class=\"score ac fs14\"><div class=\"js-top-ranking-score-col di-ib al\"><i class=\"icon-score-star mr4 on\"></i><span class=\"text on score-label score-8\">8.89</span></div>\n",
      "</td>\n",
      "<td class=\"your-score ac fs14\">\n",
      "<div class=\"js-top-ranking-your-score-col di-ib al\"> <a class=\"\" href=\"https://myanimelist.net/login.php?error=login_required&amp;from=%2Ftopanime.php\"><i class=\"icon-score-star mr4\"></i><span class=\"text score-label score-na\">N/A</span></a>\n",
      "</div>\n",
      "</td>\n",
      "<td class=\"status ac\"> <a class=\"btn-addEdit-large btn-anime-watch-status js-anime-watch-status notinmylist\" href=\"https://myanimelist.net/login.php?error=login_required&amp;from=%2Ftopanime.php\"><i class=\"fa fa-plus-square-o mr4\"></i>Add to list</a>\n",
      "</td>\n",
      "</tr>, <tr class=\"ranking-list\">\n",
      "<td class=\"rank ac\" valign=\"top\">\n",
      "<span class=\"lightLink top-anime-rank-text rank2\">22</span>\n",
      "</td>\n",
      "<td class=\"title al va-t word-break\">\n",
      "<a class=\"hoverinfo_trigger fl-l ml12 mr8\" href=\"https://myanimelist.net/anime/37491/Gintama__Shirogane_no_Tamashii-hen_-_Kouhan-sen\" id=\"#area37491\" rel=\"#info37491\">\n",
      "<img alt=\"Anime: Gintama.: Shirogane no Tamashii-hen - Kouhan-sen\" border=\"0\" class=\"lazyload\" data-src=\"https://cdn.myanimelist.net/r/50x70/images/anime/1776/96566.jpg?s=e1aed468f049dd9444375e9149d33d65\" data-srcset=\"https://cdn.myanimelist.net/r/50x70/images/anime/1776/96566.jpg?s=e1aed468f049dd9444375e9149d33d65 1x, https://cdn.myanimelist.net/r/100x140/images/anime/1776/96566.jpg?s=a87ac154753a26bfed4dbd557a8544ba 2x\" height=\"70\" width=\"50\"/>\n",
      "</a>\n",
      "<div class=\"detail\"><div id=\"area37491\">\n",
      "<div class=\"hoverinfo\" id=\"info37491\" rel=\"a37491\"></div>\n",
      "</div>\n",
      "<div class=\"di-ib clearfix\"><h3 class=\"hoverinfo_trigger fl-l fs14 fw-b anime_ranking_h3\"><a href=\"https://myanimelist.net/anime/37491/Gintama__Shirogane_no_Tamashii-hen_-_Kouhan-sen\" id=\"#area37491\" rel=\"#info37491\">Gintama.: Shirogane no Tamashii-hen - Kouhan-sen</a></h3><a class=\"icon-watch ml8 ga-click\" href=\"https://myanimelist.net/anime/37491/Gintama__Shirogane_no_Tamashii-hen_-_Kouhan-sen/video\" title=\"Watch Episode Video\">Watch Episode Video</a></div><br/><div class=\"information di-ib mt4\">\n",
      "        TV (14 eps)<br/>\n",
      "        Jul 2018 - Oct 2018<br/>\n",
      "        144,998 members\n",
      "      </div></div>\n",
      "</td>\n",
      "<td class=\"score ac fs14\"><div class=\"js-top-ranking-score-col di-ib al\"><i class=\"icon-score-star mr4 on\"></i><span class=\"text on score-label score-8\">8.88</span></div>\n",
      "</td>\n",
      "<td class=\"your-score ac fs14\">\n",
      "<div class=\"js-top-ranking-your-score-col di-ib al\"> <a class=\"\" href=\"https://myanimelist.net/login.php?error=login_required&amp;from=%2Ftopanime.php\"><i class=\"icon-score-star mr4\"></i><span class=\"text score-label score-na\">N/A</span></a>\n",
      "</div>\n",
      "</td>\n",
      "<td class=\"status ac\"> <a class=\"btn-addEdit-large btn-anime-watch-status js-anime-watch-status notinmylist\" href=\"https://myanimelist.net/login.php?error=login_required&amp;from=%2Ftopanime.php\"><i class=\"fa fa-plus-square-o mr4\"></i>Add to list</a>\n",
      "</td>\n",
      "</tr>, <tr class=\"ranking-list\">\n",
      "<td class=\"rank ac\" valign=\"top\">\n",
      "<span class=\"lightLink top-anime-rank-text rank2\">23</span>\n",
      "</td>\n",
      "<td class=\"title al va-t word-break\">\n",
      "<a class=\"hoverinfo_trigger fl-l ml12 mr8\" href=\"https://myanimelist.net/anime/44074/Shiguang_Dailiren\" id=\"#area44074\" rel=\"#info44074\">\n",
      "<img alt=\"Anime: Shiguang Dailiren\" border=\"0\" class=\"lazyload\" data-src=\"https://cdn.myanimelist.net/r/50x70/images/anime/1135/114867.jpg?s=048f06f7edb150d017394574a108c72c\" data-srcset=\"https://cdn.myanimelist.net/r/50x70/images/anime/1135/114867.jpg?s=048f06f7edb150d017394574a108c72c 1x, https://cdn.myanimelist.net/r/100x140/images/anime/1135/114867.jpg?s=9c2fd9fddaef71035742747d5145fc04 2x\" height=\"70\" width=\"50\"/>\n",
      "</a>\n",
      "<div class=\"detail\"><div id=\"area44074\">\n",
      "<div class=\"hoverinfo\" id=\"info44074\" rel=\"a44074\"></div>\n",
      "</div>\n",
      "<div class=\"di-ib clearfix\"><h3 class=\"hoverinfo_trigger fl-l fs14 fw-b anime_ranking_h3\"><a href=\"https://myanimelist.net/anime/44074/Shiguang_Dailiren\" id=\"#area44074\" rel=\"#info44074\">Shiguang Dailiren</a></h3><a class=\"icon-watch-pv ml8 ga-click\" href=\"https://myanimelist.net/anime/44074/Shiguang_Dailiren/video\" title=\"Watch Promotional Video\">Watch Promotional Video</a></div><br/><div class=\"information di-ib mt4\">\n",
      "        ONA (11 eps)<br/>\n",
      "        Apr 2021 - Jul 2021<br/>\n",
      "        124,794 members\n",
      "      </div></div>\n",
      "</td>\n",
      "<td class=\"score ac fs14\"><div class=\"js-top-ranking-score-col di-ib al\"><i class=\"icon-score-star mr4 on\"></i><span class=\"text on score-label score-8\">8.86</span></div>\n",
      "</td>\n",
      "<td class=\"your-score ac fs14\">\n",
      "<div class=\"js-top-ranking-your-score-col di-ib al\"> <a class=\"\" href=\"https://myanimelist.net/login.php?error=login_required&amp;from=%2Ftopanime.php\"><i class=\"icon-score-star mr4\"></i><span class=\"text score-label score-na\">N/A</span></a>\n",
      "</div>\n",
      "</td>\n",
      "<td class=\"status ac\"> <a class=\"btn-addEdit-large btn-anime-watch-status js-anime-watch-status notinmylist\" href=\"https://myanimelist.net/login.php?error=login_required&amp;from=%2Ftopanime.php\"><i class=\"fa fa-plus-square-o mr4\"></i>Add to list</a>\n",
      "</td>\n",
      "</tr>, <tr class=\"ranking-list\">\n",
      "<td class=\"rank ac\" valign=\"top\">\n",
      "<span class=\"lightLink top-anime-rank-text rank2\">24</span>\n",
      "</td>\n",
      "<td class=\"title al va-t word-break\">\n",
      "<a class=\"hoverinfo_trigger fl-l ml12 mr8\" href=\"https://myanimelist.net/anime/37510/Mob_Psycho_100_II\" id=\"#area37510\" rel=\"#info37510\">\n",
      "<img alt=\"Anime: Mob Psycho 100 II\" border=\"0\" class=\"lazyload\" data-src=\"https://cdn.myanimelist.net/r/50x70/images/anime/1918/96303.jpg?s=b5b51cff7ba201e4f1acf37f4f44e224\" data-srcset=\"https://cdn.myanimelist.net/r/50x70/images/anime/1918/96303.jpg?s=b5b51cff7ba201e4f1acf37f4f44e224 1x, https://cdn.myanimelist.net/r/100x140/images/anime/1918/96303.jpg?s=51c465145beb577d45305bca91984d7a 2x\" height=\"70\" width=\"50\"/>\n",
      "</a>\n",
      "<div class=\"detail\"><div id=\"area37510\">\n",
      "<div class=\"hoverinfo\" id=\"info37510\" rel=\"a37510\"></div>\n",
      "</div>\n",
      "<div class=\"di-ib clearfix\"><h3 class=\"hoverinfo_trigger fl-l fs14 fw-b anime_ranking_h3\"><a href=\"https://myanimelist.net/anime/37510/Mob_Psycho_100_II\" id=\"#area37510\" rel=\"#info37510\">Mob Psycho 100 II</a></h3><a class=\"icon-watch ml8 ga-click\" href=\"https://myanimelist.net/anime/37510/Mob_Psycho_100_II/video\" title=\"Watch Episode Video\">Watch Episode Video</a></div><br/><div class=\"information di-ib mt4\">\n",
      "        TV (13 eps)<br/>\n",
      "        Jan 2019 - Apr 2019<br/>\n",
      "        1,085,670 members\n",
      "      </div></div>\n",
      "</td>\n",
      "<td class=\"score ac fs14\"><div class=\"js-top-ranking-score-col di-ib al\"><i class=\"icon-score-star mr4 on\"></i><span class=\"text on score-label score-8\">8.82</span></div>\n",
      "</td>\n",
      "<td class=\"your-score ac fs14\">\n",
      "<div class=\"js-top-ranking-your-score-col di-ib al\"> <a class=\"\" href=\"https://myanimelist.net/login.php?error=login_required&amp;from=%2Ftopanime.php\"><i class=\"icon-score-star mr4\"></i><span class=\"text score-label score-na\">N/A</span></a>\n",
      "</div>\n",
      "</td>\n",
      "<td class=\"status ac\"> <a class=\"btn-addEdit-large btn-anime-watch-status js-anime-watch-status notinmylist\" href=\"https://myanimelist.net/login.php?error=login_required&amp;from=%2Ftopanime.php\"><i class=\"fa fa-plus-square-o mr4\"></i>Add to list</a>\n",
      "</td>\n",
      "</tr>, <tr class=\"ranking-list\">\n",
      "<td class=\"rank ac\" valign=\"top\">\n",
      "<span class=\"lightLink top-anime-rank-text rank2\">25</span>\n",
      "</td>\n",
      "<td class=\"title al va-t word-break\">\n",
      "<a class=\"hoverinfo_trigger fl-l ml12 mr8\" href=\"https://myanimelist.net/anime/36838/Gintama__Shirogane_no_Tamashii-hen\" id=\"#area36838\" rel=\"#info36838\">\n",
      "<img alt=\"Anime: Gintama.: Shirogane no Tamashii-hen\" border=\"0\" class=\"lazyload\" data-src=\"https://cdn.myanimelist.net/r/50x70/images/anime/12/89603.jpg?s=635cb89402d5d39f43767f3942e91206\" data-srcset=\"https://cdn.myanimelist.net/r/50x70/images/anime/12/89603.jpg?s=635cb89402d5d39f43767f3942e91206 1x, https://cdn.myanimelist.net/r/100x140/images/anime/12/89603.jpg?s=d1ae6c96378fe82ecb9481705060774c 2x\" height=\"70\" width=\"50\"/>\n",
      "</a>\n",
      "<div class=\"detail\"><div id=\"area36838\">\n",
      "<div class=\"hoverinfo\" id=\"info36838\" rel=\"a36838\"></div>\n",
      "</div>\n",
      "<div class=\"di-ib clearfix\"><h3 class=\"hoverinfo_trigger fl-l fs14 fw-b anime_ranking_h3\"><a href=\"https://myanimelist.net/anime/36838/Gintama__Shirogane_no_Tamashii-hen\" id=\"#area36838\" rel=\"#info36838\">Gintama.: Shirogane no Tamashii-hen</a></h3><a class=\"icon-watch ml8 ga-click\" href=\"https://myanimelist.net/anime/36838/Gintama__Shirogane_no_Tamashii-hen/video\" title=\"Watch Episode Video\">Watch Episode Video</a></div><br/><div class=\"information di-ib mt4\">\n",
      "        TV (12 eps)<br/>\n",
      "        Jan 2018 - Mar 2018<br/>\n",
      "        158,173 members\n",
      "      </div></div>\n",
      "</td>\n",
      "<td class=\"score ac fs14\"><div class=\"js-top-ranking-score-col di-ib al\"><i class=\"icon-score-star mr4 on\"></i><span class=\"text on score-label score-8\">8.82</span></div>\n",
      "</td>\n",
      "<td class=\"your-score ac fs14\">\n",
      "<div class=\"js-top-ranking-your-score-col di-ib al\"> <a class=\"\" href=\"https://myanimelist.net/login.php?error=login_required&amp;from=%2Ftopanime.php\"><i class=\"icon-score-star mr4\"></i><span class=\"text score-label score-na\">N/A</span></a>\n",
      "</div>\n",
      "</td>\n",
      "<td class=\"status ac\"> <a class=\"btn-addEdit-large btn-anime-watch-status js-anime-watch-status notinmylist\" href=\"https://myanimelist.net/login.php?error=login_required&amp;from=%2Ftopanime.php\"><i class=\"fa fa-plus-square-o mr4\"></i>Add to list</a>\n",
      "</td>\n",
      "</tr>, <tr class=\"ranking-list\">\n",
      "<td class=\"rank ac\" valign=\"top\">\n",
      "<span class=\"lightLink top-anime-rank-text rank2\">26</span>\n",
      "</td>\n",
      "<td class=\"title al va-t word-break\">\n",
      "<a class=\"hoverinfo_trigger fl-l ml12 mr8\" href=\"https://myanimelist.net/anime/32935/Haikyuu__Karasuno_Koukou_vs_Shiratorizawa_Gakuen_Koukou\" id=\"#area32935\" rel=\"#info32935\">\n",
      "<img alt=\"Anime: Haikyuu!!: Karasuno Koukou vs. Shiratorizawa Gakuen Koukou\" border=\"0\" class=\"lazyload\" data-src=\"https://cdn.myanimelist.net/r/50x70/images/anime/7/81992.jpg?s=6d977383e0b5dc1ba1c122213178e547\" data-srcset=\"https://cdn.myanimelist.net/r/50x70/images/anime/7/81992.jpg?s=6d977383e0b5dc1ba1c122213178e547 1x, https://cdn.myanimelist.net/r/100x140/images/anime/7/81992.jpg?s=b241bc153f456bb54b738ab507d6d5db 2x\" height=\"70\" width=\"50\"/>\n",
      "</a>\n",
      "<div class=\"detail\"><div id=\"area32935\">\n",
      "<div class=\"hoverinfo\" id=\"info32935\" rel=\"a32935\"></div>\n",
      "</div>\n",
      "<div class=\"di-ib clearfix\"><h3 class=\"hoverinfo_trigger fl-l fs14 fw-b anime_ranking_h3\"><a href=\"https://myanimelist.net/anime/32935/Haikyuu__Karasuno_Koukou_vs_Shiratorizawa_Gakuen_Koukou\" id=\"#area32935\" rel=\"#info32935\">Haikyuu!!: Karasuno Koukou vs. Shiratorizawa Gakuen Koukou</a></h3><a class=\"icon-watch ml8 ga-click\" href=\"https://myanimelist.net/anime/32935/Haikyuu__Karasuno_Koukou_vs_Shiratorizawa_Gakuen_Koukou/video\" title=\"Watch Episode Video\">Watch Episode Video</a></div><br/><div class=\"information di-ib mt4\">\n",
      "        TV (10 eps)<br/>\n",
      "        Oct 2016 - Dec 2016<br/>\n",
      "        929,339 members\n",
      "      </div></div>\n",
      "</td>\n",
      "<td class=\"score ac fs14\"><div class=\"js-top-ranking-score-col di-ib al\"><i class=\"icon-score-star mr4 on\"></i><span class=\"text on score-label score-8\">8.81</span></div>\n",
      "</td>\n",
      "<td class=\"your-score ac fs14\">\n",
      "<div class=\"js-top-ranking-your-score-col di-ib al\"> <a class=\"\" href=\"https://myanimelist.net/login.php?error=login_required&amp;from=%2Ftopanime.php\"><i class=\"icon-score-star mr4\"></i><span class=\"text score-label score-na\">N/A</span></a>\n",
      "</div>\n",
      "</td>\n",
      "<td class=\"status ac\"> <a class=\"btn-addEdit-large btn-anime-watch-status js-anime-watch-status notinmylist\" href=\"https://myanimelist.net/login.php?error=login_required&amp;from=%2Ftopanime.php\"><i class=\"fa fa-plus-square-o mr4\"></i>Add to list</a>\n",
      "</td>\n",
      "</tr>, <tr class=\"ranking-list\">\n",
      "<td class=\"rank ac\" valign=\"top\">\n",
      "<span class=\"lightLink top-anime-rank-text rank2\">27</span>\n",
      "</td>\n",
      "<td class=\"title al va-t word-break\">\n",
      "<a class=\"hoverinfo_trigger fl-l ml12 mr8\" href=\"https://myanimelist.net/anime/31758/Kizumonogatari_III__Reiketsu-hen\" id=\"#area31758\" rel=\"#info31758\">\n",
      "<img alt=\"Anime: Kizumonogatari III: Reiketsu-hen\" border=\"0\" class=\"lazyload\" data-src=\"https://cdn.myanimelist.net/r/50x70/images/anime/1084/112813.jpg?s=db4fcf9c5e229584ca1b04bcebe2c3dc\" data-srcset=\"https://cdn.myanimelist.net/r/50x70/images/anime/1084/112813.jpg?s=db4fcf9c5e229584ca1b04bcebe2c3dc 1x, https://cdn.myanimelist.net/r/100x140/images/anime/1084/112813.jpg?s=693153a2a61cdcc79d61b58a3e2a7a6d 2x\" height=\"70\" width=\"50\"/>\n",
      "</a>\n",
      "<div class=\"detail\"><div id=\"area31758\">\n",
      "<div class=\"hoverinfo\" id=\"info31758\" rel=\"a31758\"></div>\n",
      "</div>\n",
      "<div class=\"di-ib clearfix\"><h3 class=\"hoverinfo_trigger fl-l fs14 fw-b anime_ranking_h3\"><a href=\"https://myanimelist.net/anime/31758/Kizumonogatari_III__Reiketsu-hen\" id=\"#area31758\" rel=\"#info31758\">Kizumonogatari III: Reiketsu-hen</a></h3><a class=\"icon-watch-pv ml8 ga-click\" href=\"https://myanimelist.net/anime/31758/Kizumonogatari_III__Reiketsu-hen/video\" title=\"Watch Promotional Video\">Watch Promotional Video</a></div><br/><div class=\"information di-ib mt4\">\n",
      "        Movie (1 eps)<br/>\n",
      "        Jan 2017 - Jan 2017<br/>\n",
      "        367,868 members\n",
      "      </div><div class=\"manga-store-information\">\n",
      "<a class=\"link\" href=\"https://myanimelist.net/store/manga_volume/6875/BAKEMONOGATARI_Part1\">\n",
      "<i aria-hidden=\"true\" class=\"fa fa-shopping-cart\"></i> <span class=\"fw-b\">Manga Store</span>\n",
      "<span class=\"volume\">Part1</span>\n",
      "<span class=\"price\">€9.99</span> </a> <a class=\"button-preview\" href=\"https://myanimelist.net/store/novel_viewer?cid=6875&amp;cty=0&amp;cti=BAKEMONOGATARI&amp;lin=1\" target=\"_blank\">Preview</a></div></div>\n",
      "</td>\n",
      "<td class=\"score ac fs14\"><div class=\"js-top-ranking-score-col di-ib al\"><i class=\"icon-score-star mr4 on\"></i><span class=\"text on score-label score-8\">8.81</span></div>\n",
      "</td>\n",
      "<td class=\"your-score ac fs14\">\n",
      "<div class=\"js-top-ranking-your-score-col di-ib al\"> <a class=\"\" href=\"https://myanimelist.net/login.php?error=login_required&amp;from=%2Ftopanime.php\"><i class=\"icon-score-star mr4\"></i><span class=\"text score-label score-na\">N/A</span></a>\n",
      "</div>\n",
      "</td>\n",
      "<td class=\"status ac\"> <a class=\"btn-addEdit-large btn-anime-watch-status js-anime-watch-status notinmylist\" href=\"https://myanimelist.net/login.php?error=login_required&amp;from=%2Ftopanime.php\"><i class=\"fa fa-plus-square-o mr4\"></i>Add to list</a>\n",
      "</td>\n",
      "</tr>, <tr class=\"ranking-list\">\n",
      "<td class=\"rank ac\" valign=\"top\">\n",
      "<span class=\"lightLink top-anime-rank-text rank2\">28</span>\n",
      "</td>\n",
      "<td class=\"title al va-t word-break\">\n",
      "<a class=\"hoverinfo_trigger fl-l ml12 mr8\" href=\"https://myanimelist.net/anime/19/Monster\" id=\"#area19\" rel=\"#info19\">\n",
      "<img alt=\"Anime: Monster\" border=\"0\" class=\"lazyload\" data-src=\"https://cdn.myanimelist.net/r/50x70/images/anime/10/18793.jpg?s=08c4f10a101c3835eeb14ca0715512bd\" data-srcset=\"https://cdn.myanimelist.net/r/50x70/images/anime/10/18793.jpg?s=08c4f10a101c3835eeb14ca0715512bd 1x, https://cdn.myanimelist.net/r/100x140/images/anime/10/18793.jpg?s=a195ca612dd64dac5ffb27c8ea9d0b32 2x\" height=\"70\" width=\"50\"/>\n",
      "</a>\n",
      "<div class=\"detail\"><div id=\"area19\">\n",
      "<div class=\"hoverinfo\" id=\"info19\" rel=\"a19\"></div>\n",
      "</div>\n",
      "<div class=\"di-ib clearfix\"><h3 class=\"hoverinfo_trigger fl-l fs14 fw-b anime_ranking_h3\"><a href=\"https://myanimelist.net/anime/19/Monster\" id=\"#area19\" rel=\"#info19\">Monster</a></h3><a class=\"icon-watch ml8 ga-click\" href=\"https://myanimelist.net/anime/19/Monster/video\" title=\"Watch Episode Video\">Watch Episode Video</a></div><br/><div class=\"information di-ib mt4\">\n",
      "        TV (74 eps)<br/>\n",
      "        Apr 2004 - Sep 2005<br/>\n",
      "        763,887 members\n",
      "      </div></div>\n",
      "</td>\n",
      "<td class=\"score ac fs14\"><div class=\"js-top-ranking-score-col di-ib al\"><i class=\"icon-score-star mr4 on\"></i><span class=\"text on score-label score-8\">8.80</span></div>\n",
      "</td>\n",
      "<td class=\"your-score ac fs14\">\n",
      "<div class=\"js-top-ranking-your-score-col di-ib al\"> <a class=\"\" href=\"https://myanimelist.net/login.php?error=login_required&amp;from=%2Ftopanime.php\"><i class=\"icon-score-star mr4\"></i><span class=\"text score-label score-na\">N/A</span></a>\n",
      "</div>\n",
      "</td>\n",
      "<td class=\"status ac\"> <a class=\"btn-addEdit-large btn-anime-watch-status js-anime-watch-status notinmylist\" href=\"https://myanimelist.net/login.php?error=login_required&amp;from=%2Ftopanime.php\"><i class=\"fa fa-plus-square-o mr4\"></i>Add to list</a>\n",
      "</td>\n",
      "</tr>, <tr class=\"ranking-list\">\n",
      "<td class=\"rank ac\" valign=\"top\">\n",
      "<span class=\"lightLink top-anime-rank-text rank2\">29</span>\n",
      "</td>\n",
      "<td class=\"title al va-t word-break\">\n",
      "<a class=\"hoverinfo_trigger fl-l ml12 mr8\" href=\"https://myanimelist.net/anime/46102/Odd_Taxi\" id=\"#area46102\" rel=\"#info46102\">\n",
      "<img alt=\"Anime: Odd Taxi\" border=\"0\" class=\"lazyload\" data-src=\"https://cdn.myanimelist.net/r/50x70/images/anime/1981/113348.jpg?s=38082dbb5a64de5fc2129a59c46c3fe0\" data-srcset=\"https://cdn.myanimelist.net/r/50x70/images/anime/1981/113348.jpg?s=38082dbb5a64de5fc2129a59c46c3fe0 1x, https://cdn.myanimelist.net/r/100x140/images/anime/1981/113348.jpg?s=9d3e92002db0e698516450efb42e4e59 2x\" height=\"70\" width=\"50\"/>\n",
      "</a>\n",
      "<div class=\"detail\"><div id=\"area46102\">\n",
      "<div class=\"hoverinfo\" id=\"info46102\" rel=\"a46102\"></div>\n",
      "</div>\n",
      "<div class=\"di-ib clearfix\"><h3 class=\"hoverinfo_trigger fl-l fs14 fw-b anime_ranking_h3\"><a href=\"https://myanimelist.net/anime/46102/Odd_Taxi\" id=\"#area46102\" rel=\"#info46102\">Odd Taxi</a></h3><a class=\"icon-watch ml8 ga-click\" href=\"https://myanimelist.net/anime/46102/Odd_Taxi/video\" title=\"Watch Episode Video\">Watch Episode Video</a></div><br/><div class=\"information di-ib mt4\">\n",
      "        TV (13 eps)<br/>\n",
      "        Apr 2021 - Jun 2021<br/>\n",
      "        199,536 members\n",
      "      </div></div>\n",
      "</td>\n",
      "<td class=\"score ac fs14\"><div class=\"js-top-ranking-score-col di-ib al\"><i class=\"icon-score-star mr4 on\"></i><span class=\"text on score-label score-8\">8.79</span></div>\n",
      "</td>\n",
      "<td class=\"your-score ac fs14\">\n",
      "<div class=\"js-top-ranking-your-score-col di-ib al\"> <a class=\"\" href=\"https://myanimelist.net/login.php?error=login_required&amp;from=%2Ftopanime.php\"><i class=\"icon-score-star mr4\"></i><span class=\"text score-label score-na\">N/A</span></a>\n",
      "</div>\n",
      "</td>\n",
      "<td class=\"status ac\"> <a class=\"btn-addEdit-large btn-anime-watch-status js-anime-watch-status notinmylist\" href=\"https://myanimelist.net/login.php?error=login_required&amp;from=%2Ftopanime.php\"><i class=\"fa fa-plus-square-o mr4\"></i>Add to list</a>\n",
      "</td>\n",
      "</tr>, <tr class=\"ranking-list\">\n",
      "<td class=\"rank ac\" valign=\"top\">\n",
      "<span class=\"lightLink top-anime-rank-text rank2\">30</span>\n",
      "</td>\n",
      "<td class=\"title al va-t word-break\">\n",
      "<a class=\"hoverinfo_trigger fl-l ml12 mr8\" href=\"https://myanimelist.net/anime/199/Sen_to_Chihiro_no_Kamikakushi\" id=\"#area199\" rel=\"#info199\">\n",
      "<img alt=\"Anime: Sen to Chihiro no Kamikakushi\" border=\"0\" class=\"lazyload\" data-src=\"https://cdn.myanimelist.net/r/50x70/images/anime/6/79597.jpg?s=1f170071bc9a54ce2ba3c0d8c7aa6927\" data-srcset=\"https://cdn.myanimelist.net/r/50x70/images/anime/6/79597.jpg?s=1f170071bc9a54ce2ba3c0d8c7aa6927 1x, https://cdn.myanimelist.net/r/100x140/images/anime/6/79597.jpg?s=63a85532fc52356a938354277201d43c 2x\" height=\"70\" width=\"50\"/>\n",
      "</a>\n",
      "<div class=\"detail\"><div id=\"area199\">\n",
      "<div class=\"hoverinfo\" id=\"info199\" rel=\"a199\"></div>\n",
      "</div>\n",
      "<div class=\"di-ib clearfix\"><h3 class=\"hoverinfo_trigger fl-l fs14 fw-b anime_ranking_h3\"><a href=\"https://myanimelist.net/anime/199/Sen_to_Chihiro_no_Kamikakushi\" id=\"#area199\" rel=\"#info199\">Sen to Chihiro no Kamikakushi</a></h3><a class=\"icon-watch-pv ml8 ga-click\" href=\"https://myanimelist.net/anime/199/Sen_to_Chihiro_no_Kamikakushi/video\" title=\"Watch Promotional Video\">Watch Promotional Video</a></div><br/><div class=\"information di-ib mt4\">\n",
      "        Movie (1 eps)<br/>\n",
      "        Jul 2001 - Jul 2001<br/>\n",
      "        1,490,505 members\n",
      "      </div></div>\n",
      "</td>\n",
      "<td class=\"score ac fs14\"><div class=\"js-top-ranking-score-col di-ib al\"><i class=\"icon-score-star mr4 on\"></i><span class=\"text on score-label score-8\">8.79</span></div>\n",
      "</td>\n",
      "<td class=\"your-score ac fs14\">\n",
      "<div class=\"js-top-ranking-your-score-col di-ib al\"> <a class=\"\" href=\"https://myanimelist.net/login.php?error=login_required&amp;from=%2Ftopanime.php\"><i class=\"icon-score-star mr4\"></i><span class=\"text score-label score-na\">N/A</span></a>\n",
      "</div>\n",
      "</td>\n",
      "<td class=\"status ac\"> <a class=\"btn-addEdit-large btn-anime-watch-status js-anime-watch-status notinmylist\" href=\"https://myanimelist.net/login.php?error=login_required&amp;from=%2Ftopanime.php\"><i class=\"fa fa-plus-square-o mr4\"></i>Add to list</a>\n",
      "</td>\n",
      "</tr>, <tr class=\"ranking-list\">\n",
      "<td class=\"rank ac\" valign=\"top\">\n",
      "<span class=\"lightLink top-anime-rank-text rank2\">31</span>\n",
      "</td>\n",
      "<td class=\"title al va-t word-break\">\n",
      "<a class=\"hoverinfo_trigger fl-l ml12 mr8\" href=\"https://myanimelist.net/anime/17074/Monogatari_Series__Second_Season\" id=\"#area17074\" rel=\"#info17074\">\n",
      "<img alt=\"Anime: Monogatari Series: Second Season\" border=\"0\" class=\"lazyload\" data-src=\"https://cdn.myanimelist.net/r/50x70/images/anime/3/52133.jpg?s=b22811f98b26399cd65787af1447848c\" data-srcset=\"https://cdn.myanimelist.net/r/50x70/images/anime/3/52133.jpg?s=b22811f98b26399cd65787af1447848c 1x, https://cdn.myanimelist.net/r/100x140/images/anime/3/52133.jpg?s=ee34d5ecaaf44899161808a57d55d7b8 2x\" height=\"70\" width=\"50\"/>\n",
      "</a>\n",
      "<div class=\"detail\"><div id=\"area17074\">\n",
      "<div class=\"hoverinfo\" id=\"info17074\" rel=\"a17074\"></div>\n",
      "</div>\n",
      "<div class=\"di-ib clearfix\"><h3 class=\"hoverinfo_trigger fl-l fs14 fw-b anime_ranking_h3\"><a href=\"https://myanimelist.net/anime/17074/Monogatari_Series__Second_Season\" id=\"#area17074\" rel=\"#info17074\">Monogatari Series: Second Season</a></h3><a class=\"icon-watch ml8 ga-click\" href=\"https://myanimelist.net/anime/17074/Monogatari_Series__Second_Season/video\" title=\"Watch Episode Video\">Watch Episode Video</a></div><br/><div class=\"information di-ib mt4\">\n",
      "        TV (26 eps)<br/>\n",
      "        Jul 2013 - Dec 2013<br/>\n",
      "        574,476 members\n",
      "      </div><div class=\"manga-store-information\">\n",
      "<a class=\"link\" href=\"https://myanimelist.net/store/manga_volume/6884/OTORIMONOGATARI_Volume_1\">\n",
      "<i aria-hidden=\"true\" class=\"fa fa-shopping-cart\"></i> <span class=\"fw-b\">Manga Store</span>\n",
      "<span class=\"volume\">Volume 1</span>\n",
      "<span class=\"price\">€9.99</span> </a> <a class=\"button-preview\" href=\"https://myanimelist.net/store/novel_viewer?cid=6884&amp;cty=0&amp;cti=OTORIMONOGATARI&amp;lin=1\" target=\"_blank\">Preview</a></div></div>\n",
      "</td>\n",
      "<td class=\"score ac fs14\"><div class=\"js-top-ranking-score-col di-ib al\"><i class=\"icon-score-star mr4 on\"></i><span class=\"text on score-label score-8\">8.78</span></div>\n",
      "</td>\n",
      "<td class=\"your-score ac fs14\">\n",
      "<div class=\"js-top-ranking-your-score-col di-ib al\"> <a class=\"\" href=\"https://myanimelist.net/login.php?error=login_required&amp;from=%2Ftopanime.php\"><i class=\"icon-score-star mr4\"></i><span class=\"text score-label score-na\">N/A</span></a>\n",
      "</div>\n",
      "</td>\n",
      "<td class=\"status ac\"> <a class=\"btn-addEdit-large btn-anime-watch-status js-anime-watch-status notinmylist\" href=\"https://myanimelist.net/login.php?error=login_required&amp;from=%2Ftopanime.php\"><i class=\"fa fa-plus-square-o mr4\"></i>Add to list</a>\n",
      "</td>\n",
      "</tr>, <tr class=\"ranking-list\">\n",
      "<td class=\"rank ac\" valign=\"top\">\n",
      "<span class=\"lightLink top-anime-rank-text rank2\">32</span>\n",
      "</td>\n",
      "<td class=\"title al va-t word-break\">\n",
      "<a class=\"hoverinfo_trigger fl-l ml12 mr8\" href=\"https://myanimelist.net/anime/40834/Ousama_Ranking\" id=\"#area40834\" rel=\"#info40834\">\n",
      "<img alt=\"Anime: Ousama Ranking\" border=\"0\" class=\"lazyload\" data-src=\"https://cdn.myanimelist.net/r/50x70/images/anime/1347/117616.jpg?s=1fc7d9cfcad3dfca1cee2e11b5b74ef4\" data-srcset=\"https://cdn.myanimelist.net/r/50x70/images/anime/1347/117616.jpg?s=1fc7d9cfcad3dfca1cee2e11b5b74ef4 1x, https://cdn.myanimelist.net/r/100x140/images/anime/1347/117616.jpg?s=257c693826e93a41cf813cc359670261 2x\" height=\"70\" width=\"50\"/>\n",
      "</a>\n",
      "<div class=\"detail\"><div id=\"area40834\">\n",
      "<div class=\"hoverinfo\" id=\"info40834\" rel=\"a40834\"></div>\n",
      "</div>\n",
      "<div class=\"di-ib clearfix\"><h3 class=\"hoverinfo_trigger fl-l fs14 fw-b anime_ranking_h3\"><a href=\"https://myanimelist.net/anime/40834/Ousama_Ranking\" id=\"#area40834\" rel=\"#info40834\">Ousama Ranking</a></h3><a class=\"icon-watch-pv ml8 ga-click\" href=\"https://myanimelist.net/anime/40834/Ousama_Ranking/video\" title=\"Watch Promotional Video\">Watch Promotional Video</a></div><br/><div class=\"information di-ib mt4\">\n",
      "        TV (23 eps)<br/>\n",
      "        Oct 2021 - <br/>\n",
      "        74,018 members\n",
      "      </div></div>\n",
      "</td>\n",
      "<td class=\"score ac fs14\"><div class=\"js-top-ranking-score-col di-ib al\"><i class=\"icon-score-star mr4 on\"></i><span class=\"text on score-label score-8\">8.77</span></div>\n",
      "</td>\n",
      "<td class=\"your-score ac fs14\">\n",
      "<div class=\"js-top-ranking-your-score-col di-ib al\"> <a class=\"\" href=\"https://myanimelist.net/login.php?error=login_required&amp;from=%2Ftopanime.php\"><i class=\"icon-score-star mr4\"></i><span class=\"text score-label score-na\">N/A</span></a>\n",
      "</div>\n",
      "</td>\n",
      "<td class=\"status ac\"> <a class=\"btn-addEdit-large btn-anime-watch-status js-anime-watch-status notinmylist\" href=\"https://myanimelist.net/login.php?error=login_required&amp;from=%2Ftopanime.php\"><i class=\"fa fa-plus-square-o mr4\"></i>Add to list</a>\n",
      "</td>\n",
      "</tr>, <tr class=\"ranking-list\">\n",
      "<td class=\"rank ac\" valign=\"top\">\n",
      "<span class=\"lightLink top-anime-rank-text rank2\">33</span>\n",
      "</td>\n",
      "<td class=\"title al va-t word-break\">\n",
      "<a class=\"hoverinfo_trigger fl-l ml12 mr8\" href=\"https://myanimelist.net/anime/1/Cowboy_Bebop\" id=\"#area1\" rel=\"#info1\">\n",
      "<img alt=\"Anime: Cowboy Bebop\" border=\"0\" class=\"lazyload\" data-src=\"https://cdn.myanimelist.net/r/50x70/images/anime/4/19644.jpg?s=bb1e96eb0a0224a57aa45443eab92575\" data-srcset=\"https://cdn.myanimelist.net/r/50x70/images/anime/4/19644.jpg?s=bb1e96eb0a0224a57aa45443eab92575 1x, https://cdn.myanimelist.net/r/100x140/images/anime/4/19644.jpg?s=7873ad89996b0d6be8dd51e60d88d82c 2x\" height=\"70\" width=\"50\"/>\n",
      "</a>\n",
      "<div class=\"detail\"><div id=\"area1\">\n",
      "<div class=\"hoverinfo\" id=\"info1\" rel=\"a1\"></div>\n",
      "</div>\n",
      "<div class=\"di-ib clearfix\"><h3 class=\"hoverinfo_trigger fl-l fs14 fw-b anime_ranking_h3\"><a href=\"https://myanimelist.net/anime/1/Cowboy_Bebop\" id=\"#area1\" rel=\"#info1\">Cowboy Bebop</a></h3><a class=\"icon-watch ml8 ga-click\" href=\"https://myanimelist.net/anime/1/Cowboy_Bebop/video\" title=\"Watch Episode Video\">Watch Episode Video</a></div><br/><div class=\"information di-ib mt4\">\n",
      "        TV (26 eps)<br/>\n",
      "        Apr 1998 - Apr 1999<br/>\n",
      "        1,481,707 members\n",
      "      </div></div>\n",
      "</td>\n",
      "<td class=\"score ac fs14\"><div class=\"js-top-ranking-score-col di-ib al\"><i class=\"icon-score-star mr4 on\"></i><span class=\"text on score-label score-8\">8.77</span></div>\n",
      "</td>\n",
      "<td class=\"your-score ac fs14\">\n",
      "<div class=\"js-top-ranking-your-score-col di-ib al\"> <a class=\"\" href=\"https://myanimelist.net/login.php?error=login_required&amp;from=%2Ftopanime.php\"><i class=\"icon-score-star mr4\"></i><span class=\"text score-label score-na\">N/A</span></a>\n",
      "</div>\n",
      "</td>\n",
      "<td class=\"status ac\"> <a class=\"btn-addEdit-large btn-anime-watch-status js-anime-watch-status notinmylist\" href=\"https://myanimelist.net/login.php?error=login_required&amp;from=%2Ftopanime.php\"><i class=\"fa fa-plus-square-o mr4\"></i>Add to list</a>\n",
      "</td>\n",
      "</tr>, <tr class=\"ranking-list\">\n",
      "<td class=\"rank ac\" valign=\"top\">\n",
      "<span class=\"lightLink top-anime-rank-text rank2\">34</span>\n",
      "</td>\n",
      "<td class=\"title al va-t word-break\">\n",
      "<a class=\"hoverinfo_trigger fl-l ml12 mr8\" href=\"https://myanimelist.net/anime/40682/Kingdom_3rd_Season\" id=\"#area40682\" rel=\"#info40682\">\n",
      "<img alt=\"Anime: Kingdom 3rd Season\" border=\"0\" class=\"lazyload\" data-src=\"https://cdn.myanimelist.net/r/50x70/images/anime/1443/111830.jpg?s=a67f547ff56d05b36123d793df962b45\" data-srcset=\"https://cdn.myanimelist.net/r/50x70/images/anime/1443/111830.jpg?s=a67f547ff56d05b36123d793df962b45 1x, https://cdn.myanimelist.net/r/100x140/images/anime/1443/111830.jpg?s=5f4d5d796fc9522d7311846d60320695 2x\" height=\"70\" width=\"50\"/>\n",
      "</a>\n",
      "<div class=\"detail\"><div id=\"area40682\">\n",
      "<div class=\"hoverinfo\" id=\"info40682\" rel=\"a40682\"></div>\n",
      "</div>\n",
      "<div class=\"di-ib clearfix\"><h3 class=\"hoverinfo_trigger fl-l fs14 fw-b anime_ranking_h3\"><a href=\"https://myanimelist.net/anime/40682/Kingdom_3rd_Season\" id=\"#area40682\" rel=\"#info40682\">Kingdom 3rd Season</a></h3><a class=\"icon-watch-pv ml8 ga-click\" href=\"https://myanimelist.net/anime/40682/Kingdom_3rd_Season/video\" title=\"Watch Promotional Video\">Watch Promotional Video</a></div><br/><div class=\"information di-ib mt4\">\n",
      "        TV (26 eps)<br/>\n",
      "        Apr 2020 - Oct 2021<br/>\n",
      "        56,591 members\n",
      "      </div></div>\n",
      "</td>\n",
      "<td class=\"score ac fs14\"><div class=\"js-top-ranking-score-col di-ib al\"><i class=\"icon-score-star mr4 on\"></i><span class=\"text on score-label score-8\">8.77</span></div>\n",
      "</td>\n",
      "<td class=\"your-score ac fs14\">\n",
      "<div class=\"js-top-ranking-your-score-col di-ib al\"> <a class=\"\" href=\"https://myanimelist.net/login.php?error=login_required&amp;from=%2Ftopanime.php\"><i class=\"icon-score-star mr4\"></i><span class=\"text score-label score-na\">N/A</span></a>\n",
      "</div>\n",
      "</td>\n",
      "<td class=\"status ac\"> <a class=\"btn-addEdit-large btn-anime-watch-status js-anime-watch-status notinmylist\" href=\"https://myanimelist.net/login.php?error=login_required&amp;from=%2Ftopanime.php\"><i class=\"fa fa-plus-square-o mr4\"></i>Add to list</a>\n",
      "</td>\n",
      "</tr>, <tr class=\"ranking-list\">\n",
      "<td class=\"rank ac\" valign=\"top\">\n",
      "<span class=\"lightLink top-anime-rank-text rank2\">35</span>\n",
      "</td>\n",
      "<td class=\"title al va-t word-break\">\n",
      "<a class=\"hoverinfo_trigger fl-l ml12 mr8\" href=\"https://myanimelist.net/anime/40434/Mo_Dao_Zu_Shi__Wanjie_Pian\" id=\"#area40434\" rel=\"#info40434\">\n",
      "<img alt=\"Anime: Mo Dao Zu Shi: Wanjie Pian\" border=\"0\" class=\"lazyload\" data-src=\"https://cdn.myanimelist.net/r/50x70/images/anime/1634/116782.jpg?s=f3e813705fd0d84678835c9f3d36f3dd\" data-srcset=\"https://cdn.myanimelist.net/r/50x70/images/anime/1634/116782.jpg?s=f3e813705fd0d84678835c9f3d36f3dd 1x, https://cdn.myanimelist.net/r/100x140/images/anime/1634/116782.jpg?s=23f39dc785a475b0233012eb5fe1aebd 2x\" height=\"70\" width=\"50\"/>\n",
      "</a>\n",
      "<div class=\"detail\"><div id=\"area40434\">\n",
      "<div class=\"hoverinfo\" id=\"info40434\" rel=\"a40434\"></div>\n",
      "</div>\n",
      "<div class=\"di-ib clearfix\"><h3 class=\"hoverinfo_trigger fl-l fs14 fw-b anime_ranking_h3\"><a href=\"https://myanimelist.net/anime/40434/Mo_Dao_Zu_Shi__Wanjie_Pian\" id=\"#area40434\" rel=\"#info40434\">Mo Dao Zu Shi: Wanjie Pian</a></h3><a class=\"icon-watch-pv ml8 ga-click\" href=\"https://myanimelist.net/anime/40434/Mo_Dao_Zu_Shi__Wanjie_Pian/video\" title=\"Watch Promotional Video\">Watch Promotional Video</a></div><br/><div class=\"information di-ib mt4\">\n",
      "        ONA (12 eps)<br/>\n",
      "        Aug 2021 - Oct 2021<br/>\n",
      "        42,174 members\n",
      "      </div></div>\n",
      "</td>\n",
      "<td class=\"score ac fs14\"><div class=\"js-top-ranking-score-col di-ib al\"><i class=\"icon-score-star mr4 on\"></i><span class=\"text on score-label score-8\">8.76</span></div>\n",
      "</td>\n",
      "<td class=\"your-score ac fs14\">\n",
      "<div class=\"js-top-ranking-your-score-col di-ib al\"> <a class=\"\" href=\"https://myanimelist.net/login.php?error=login_required&amp;from=%2Ftopanime.php\"><i class=\"icon-score-star mr4\"></i><span class=\"text score-label score-na\">N/A</span></a>\n",
      "</div>\n",
      "</td>\n",
      "<td class=\"status ac\"> <a class=\"btn-addEdit-large btn-anime-watch-status js-anime-watch-status notinmylist\" href=\"https://myanimelist.net/login.php?error=login_required&amp;from=%2Ftopanime.php\"><i class=\"fa fa-plus-square-o mr4\"></i>Add to list</a>\n",
      "</td>\n",
      "</tr>, <tr class=\"ranking-list\">\n",
      "<td class=\"rank ac\" valign=\"top\">\n",
      "<span class=\"lightLink top-anime-rank-text rank2\">36</span>\n",
      "</td>\n",
      "<td class=\"title al va-t word-break\">\n",
      "<a class=\"hoverinfo_trigger fl-l ml12 mr8\" href=\"https://myanimelist.net/anime/33095/Shouwa_Genroku_Rakugo_Shinjuu__Sukeroku_Futatabi-hen\" id=\"#area33095\" rel=\"#info33095\">\n",
      "<img alt=\"Anime: Shouwa Genroku Rakugo Shinjuu: Sukeroku Futatabi-hen\" border=\"0\" class=\"lazyload\" data-src=\"https://cdn.myanimelist.net/r/50x70/images/anime/10/82947.jpg?s=9f1dd28adde3fea5a733d1cfd7be7ad6\" data-srcset=\"https://cdn.myanimelist.net/r/50x70/images/anime/10/82947.jpg?s=9f1dd28adde3fea5a733d1cfd7be7ad6 1x, https://cdn.myanimelist.net/r/100x140/images/anime/10/82947.jpg?s=dd26fe8a0b55291199a7064ab97e8145 2x\" height=\"70\" width=\"50\"/>\n",
      "</a>\n",
      "<div class=\"detail\"><div id=\"area33095\">\n",
      "<div class=\"hoverinfo\" id=\"info33095\" rel=\"a33095\"></div>\n",
      "</div>\n",
      "<div class=\"di-ib clearfix\"><h3 class=\"hoverinfo_trigger fl-l fs14 fw-b anime_ranking_h3\"><a href=\"https://myanimelist.net/anime/33095/Shouwa_Genroku_Rakugo_Shinjuu__Sukeroku_Futatabi-hen\" id=\"#area33095\" rel=\"#info33095\">Shouwa Genroku Rakugo Shinjuu: Sukeroku Futatabi-hen</a></h3><a class=\"icon-watch ml8 ga-click\" href=\"https://myanimelist.net/anime/33095/Shouwa_Genroku_Rakugo_Shinjuu__Sukeroku_Futatabi-hen/video\" title=\"Watch Episode Video\">Watch Episode Video</a></div><br/><div class=\"information di-ib mt4\">\n",
      "        TV (12 eps)<br/>\n",
      "        Jan 2017 - Mar 2017<br/>\n",
      "        158,558 members\n",
      "      </div><div class=\"manga-store-information\">\n",
      "<a class=\"link\" href=\"https://myanimelist.net/store/manga_volume/764/Descending_Stories_Volume_1\">\n",
      "<i aria-hidden=\"true\" class=\"fa fa-shopping-cart\"></i> <span class=\"fw-b\">Manga Store</span>\n",
      "<span class=\"volume\">Volume 1</span>\n",
      "<span class=\"price\">€12.99</span> </a><a class=\"button-preview\" href=\"https://myanimelist.net/store/viewer/1/764/preview\" target=\"_blank\">Preview</a></div></div>\n",
      "</td>\n",
      "<td class=\"score ac fs14\"><div class=\"js-top-ranking-score-col di-ib al\"><i class=\"icon-score-star mr4 on\"></i><span class=\"text on score-label score-8\">8.76</span></div>\n",
      "</td>\n",
      "<td class=\"your-score ac fs14\">\n",
      "<div class=\"js-top-ranking-your-score-col di-ib al\"> <a class=\"\" href=\"https://myanimelist.net/login.php?error=login_required&amp;from=%2Ftopanime.php\"><i class=\"icon-score-star mr4\"></i><span class=\"text score-label score-na\">N/A</span></a>\n",
      "</div>\n",
      "</td>\n",
      "<td class=\"status ac\"> <a class=\"btn-addEdit-large btn-anime-watch-status js-anime-watch-status notinmylist\" href=\"https://myanimelist.net/login.php?error=login_required&amp;from=%2Ftopanime.php\"><i class=\"fa fa-plus-square-o mr4\"></i>Add to list</a>\n",
      "</td>\n",
      "</tr>, <tr class=\"ranking-list\">\n",
      "<td class=\"rank ac\" valign=\"top\">\n",
      "<span class=\"lightLink top-anime-rank-text rank2\">37</span>\n",
      "</td>\n",
      "<td class=\"title al va-t word-break\">\n",
      "<a class=\"hoverinfo_trigger fl-l ml12 mr8\" href=\"https://myanimelist.net/anime/24701/Mushishi_Zoku_Shou_2nd_Season\" id=\"#area24701\" rel=\"#info24701\">\n",
      "<img alt=\"Anime: Mushishi Zoku Shou 2nd Season\" border=\"0\" class=\"lazyload\" data-src=\"https://cdn.myanimelist.net/r/50x70/images/anime/9/68095.jpg?s=6025adedafce15a9d2c9363e225241ba\" data-srcset=\"https://cdn.myanimelist.net/r/50x70/images/anime/9/68095.jpg?s=6025adedafce15a9d2c9363e225241ba 1x, https://cdn.myanimelist.net/r/100x140/images/anime/9/68095.jpg?s=847f720879a312ca3ac84fd8327b174e 2x\" height=\"70\" width=\"50\"/>\n",
      "</a>\n",
      "<div class=\"detail\"><div id=\"area24701\">\n",
      "<div class=\"hoverinfo\" id=\"info24701\" rel=\"a24701\"></div>\n",
      "</div>\n",
      "<div class=\"di-ib clearfix\"><h3 class=\"hoverinfo_trigger fl-l fs14 fw-b anime_ranking_h3\"><a href=\"https://myanimelist.net/anime/24701/Mushishi_Zoku_Shou_2nd_Season\" id=\"#area24701\" rel=\"#info24701\">Mushishi Zoku Shou 2nd Season</a></h3><a class=\"icon-watch ml8 ga-click\" href=\"https://myanimelist.net/anime/24701/Mushishi_Zoku_Shou_2nd_Season/video\" title=\"Watch Episode Video\">Watch Episode Video</a></div><br/><div class=\"information di-ib mt4\">\n",
      "        TV (10 eps)<br/>\n",
      "        Oct 2014 - Dec 2014<br/>\n",
      "        222,472 members\n",
      "      </div><div class=\"manga-store-information\">\n",
      "<a class=\"link\" href=\"https://myanimelist.net/store/manga_volume/1645/Mushishi_Volume_1\">\n",
      "<i aria-hidden=\"true\" class=\"fa fa-shopping-cart\"></i> <span class=\"fw-b\">Manga Store</span>\n",
      "<span class=\"volume\">Volume 1</span>\n",
      "<span class=\"price\">€10.99</span> </a><a class=\"button-preview\" href=\"https://myanimelist.net/store/viewer/1/1645/preview\" target=\"_blank\">Preview</a></div></div>\n",
      "</td>\n",
      "<td class=\"score ac fs14\"><div class=\"js-top-ranking-score-col di-ib al\"><i class=\"icon-score-star mr4 on\"></i><span class=\"text on score-label score-8\">8.75</span></div>\n",
      "</td>\n",
      "<td class=\"your-score ac fs14\">\n",
      "<div class=\"js-top-ranking-your-score-col di-ib al\"> <a class=\"\" href=\"https://myanimelist.net/login.php?error=login_required&amp;from=%2Ftopanime.php\"><i class=\"icon-score-star mr4\"></i><span class=\"text score-label score-na\">N/A</span></a>\n",
      "</div>\n",
      "</td>\n",
      "<td class=\"status ac\"> <a class=\"btn-addEdit-large btn-anime-watch-status js-anime-watch-status notinmylist\" href=\"https://myanimelist.net/login.php?error=login_required&amp;from=%2Ftopanime.php\"><i class=\"fa fa-plus-square-o mr4\"></i>Add to list</a>\n",
      "</td>\n",
      "</tr>, <tr class=\"ranking-list\">\n",
      "<td class=\"rank ac\" valign=\"top\">\n",
      "<span class=\"lightLink top-anime-rank-text rank2\">38</span>\n",
      "</td>\n",
      "<td class=\"title al va-t word-break\">\n",
      "<a class=\"hoverinfo_trigger fl-l ml12 mr8\" href=\"https://myanimelist.net/anime/33050/Fate_stay_night_Movie__Heavens_Feel_-_III_Spring_Song\" id=\"#area33050\" rel=\"#info33050\">\n",
      "<img alt=\"Anime: Fate/stay night Movie: Heaven&amp;#039;s Feel - III. Spring Song\" border=\"0\" class=\"lazyload\" data-src=\"https://cdn.myanimelist.net/r/50x70/images/anime/1142/112957.jpg?s=f0984cb6fcb8188ce26035b0b56de828\" data-srcset=\"https://cdn.myanimelist.net/r/50x70/images/anime/1142/112957.jpg?s=f0984cb6fcb8188ce26035b0b56de828 1x, https://cdn.myanimelist.net/r/100x140/images/anime/1142/112957.jpg?s=5def2155b13d757c74eeee6845c0a871 2x\" height=\"70\" width=\"50\"/>\n",
      "</a>\n",
      "<div class=\"detail\"><div id=\"area33050\">\n",
      "<div class=\"hoverinfo\" id=\"info33050\" rel=\"a33050\"></div>\n",
      "</div>\n",
      "<div class=\"di-ib clearfix\"><h3 class=\"hoverinfo_trigger fl-l fs14 fw-b anime_ranking_h3\"><a href=\"https://myanimelist.net/anime/33050/Fate_stay_night_Movie__Heavens_Feel_-_III_Spring_Song\" id=\"#area33050\" rel=\"#info33050\">Fate/stay night Movie: Heaven's Feel - III. Spring Song</a></h3><a class=\"icon-watch-pv ml8 ga-click\" href=\"https://myanimelist.net/anime/33050/Fate_stay_night_Movie__Heavens_Feel_-_III_Spring_Song/video\" title=\"Watch Promotional Video\">Watch Promotional Video</a></div><br/><div class=\"information di-ib mt4\">\n",
      "        Movie (1 eps)<br/>\n",
      "        Aug 2020 - Aug 2020<br/>\n",
      "        225,691 members\n",
      "      </div></div>\n",
      "</td>\n",
      "<td class=\"score ac fs14\"><div class=\"js-top-ranking-score-col di-ib al\"><i class=\"icon-score-star mr4 on\"></i><span class=\"text on score-label score-8\">8.75</span></div>\n",
      "</td>\n",
      "<td class=\"your-score ac fs14\">\n",
      "<div class=\"js-top-ranking-your-score-col di-ib al\"> <a class=\"\" href=\"https://myanimelist.net/login.php?error=login_required&amp;from=%2Ftopanime.php\"><i class=\"icon-score-star mr4\"></i><span class=\"text score-label score-na\">N/A</span></a>\n",
      "</div>\n",
      "</td>\n",
      "<td class=\"status ac\"> <a class=\"btn-addEdit-large btn-anime-watch-status js-anime-watch-status notinmylist\" href=\"https://myanimelist.net/login.php?error=login_required&amp;from=%2Ftopanime.php\"><i class=\"fa fa-plus-square-o mr4\"></i>Add to list</a>\n",
      "</td>\n",
      "</tr>, <tr class=\"ranking-list\">\n",
      "<td class=\"rank ac\" valign=\"top\">\n",
      "<span class=\"lightLink top-anime-rank-text rank2\">39</span>\n",
      "</td>\n",
      "<td class=\"title al va-t word-break\">\n",
      "<a class=\"hoverinfo_trigger fl-l ml12 mr8\" href=\"https://myanimelist.net/anime/263/Hajime_no_Ippo\" id=\"#area263\" rel=\"#info263\">\n",
      "<img alt=\"Anime: Hajime no Ippo\" border=\"0\" class=\"lazyload\" data-src=\"https://cdn.myanimelist.net/r/50x70/images/anime/4/86334.jpg?s=4b3096d30158e251d87c196e56c04e63\" data-srcset=\"https://cdn.myanimelist.net/r/50x70/images/anime/4/86334.jpg?s=4b3096d30158e251d87c196e56c04e63 1x, https://cdn.myanimelist.net/r/100x140/images/anime/4/86334.jpg?s=448fd8dfdff2a7db7de2b85633a691f2 2x\" height=\"70\" width=\"50\"/>\n",
      "</a>\n",
      "<div class=\"detail\"><div id=\"area263\">\n",
      "<div class=\"hoverinfo\" id=\"info263\" rel=\"a263\"></div>\n",
      "</div>\n",
      "<div class=\"di-ib clearfix\"><h3 class=\"hoverinfo_trigger fl-l fs14 fw-b anime_ranking_h3\"><a href=\"https://myanimelist.net/anime/263/Hajime_no_Ippo\" id=\"#area263\" rel=\"#info263\">Hajime no Ippo</a></h3><a class=\"icon-watch ml8 ga-click\" href=\"https://myanimelist.net/anime/263/Hajime_no_Ippo/video\" title=\"Watch Episode Video\">Watch Episode Video</a></div><br/><div class=\"information di-ib mt4\">\n",
      "        TV (75 eps)<br/>\n",
      "        Oct 2000 - Mar 2002<br/>\n",
      "        443,148 members\n",
      "      </div></div>\n",
      "</td>\n",
      "<td class=\"score ac fs14\"><div class=\"js-top-ranking-score-col di-ib al\"><i class=\"icon-score-star mr4 on\"></i><span class=\"text on score-label score-8\">8.74</span></div>\n",
      "</td>\n",
      "<td class=\"your-score ac fs14\">\n",
      "<div class=\"js-top-ranking-your-score-col di-ib al\"> <a class=\"\" href=\"https://myanimelist.net/login.php?error=login_required&amp;from=%2Ftopanime.php\"><i class=\"icon-score-star mr4\"></i><span class=\"text score-label score-na\">N/A</span></a>\n",
      "</div>\n",
      "</td>\n",
      "<td class=\"status ac\"> <a class=\"btn-addEdit-large btn-anime-watch-status js-anime-watch-status notinmylist\" href=\"https://myanimelist.net/login.php?error=login_required&amp;from=%2Ftopanime.php\"><i class=\"fa fa-plus-square-o mr4\"></i>Add to list</a>\n",
      "</td>\n",
      "</tr>, <tr class=\"ranking-list\">\n",
      "<td class=\"rank ac\" valign=\"top\">\n",
      "<span class=\"lightLink top-anime-rank-text rank2\">40</span>\n",
      "</td>\n",
      "<td class=\"title al va-t word-break\">\n",
      "<a class=\"hoverinfo_trigger fl-l ml12 mr8\" href=\"https://myanimelist.net/anime/40748/Jujutsu_Kaisen_TV\" id=\"#area40748\" rel=\"#info40748\">\n",
      "<img alt=\"Anime: Jujutsu Kaisen (TV)\" border=\"0\" class=\"lazyload\" data-src=\"https://cdn.myanimelist.net/r/50x70/images/anime/1171/109222.jpg?s=f5508bab9e7d610a28f12d1828a6ee79\" data-srcset=\"https://cdn.myanimelist.net/r/50x70/images/anime/1171/109222.jpg?s=f5508bab9e7d610a28f12d1828a6ee79 1x, https://cdn.myanimelist.net/r/100x140/images/anime/1171/109222.jpg?s=d5f93547fb6fd4d63dffe58223c77723 2x\" height=\"70\" width=\"50\"/>\n",
      "</a>\n",
      "<div class=\"detail\"><div id=\"area40748\">\n",
      "<div class=\"hoverinfo\" id=\"info40748\" rel=\"a40748\"></div>\n",
      "</div>\n",
      "<div class=\"di-ib clearfix\"><h3 class=\"hoverinfo_trigger fl-l fs14 fw-b anime_ranking_h3\"><a href=\"https://myanimelist.net/anime/40748/Jujutsu_Kaisen_TV\" id=\"#area40748\" rel=\"#info40748\">Jujutsu Kaisen (TV)</a></h3><a class=\"icon-watch ml8 ga-click\" href=\"https://myanimelist.net/anime/40748/Jujutsu_Kaisen_TV/video\" title=\"Watch Episode Video\">Watch Episode Video</a></div><br/><div class=\"information di-ib mt4\">\n",
      "        TV (24 eps)<br/>\n",
      "        Oct 2020 - Mar 2021<br/>\n",
      "        1,499,682 members\n",
      "      </div></div>\n",
      "</td>\n",
      "<td class=\"score ac fs14\"><div class=\"js-top-ranking-score-col di-ib al\"><i class=\"icon-score-star mr4 on\"></i><span class=\"text on score-label score-8\">8.73</span></div>\n",
      "</td>\n",
      "<td class=\"your-score ac fs14\">\n",
      "<div class=\"js-top-ranking-your-score-col di-ib al\"> <a class=\"\" href=\"https://myanimelist.net/login.php?error=login_required&amp;from=%2Ftopanime.php\"><i class=\"icon-score-star mr4\"></i><span class=\"text score-label score-na\">N/A</span></a>\n",
      "</div>\n",
      "</td>\n",
      "<td class=\"status ac\"> <a class=\"btn-addEdit-large btn-anime-watch-status js-anime-watch-status notinmylist\" href=\"https://myanimelist.net/login.php?error=login_required&amp;from=%2Ftopanime.php\"><i class=\"fa fa-plus-square-o mr4\"></i>Add to list</a>\n",
      "</td>\n",
      "</tr>, <tr class=\"ranking-list\">\n",
      "<td class=\"rank ac\" valign=\"top\">\n",
      "<span class=\"lightLink top-anime-rank-text rank2\">41</span>\n",
      "</td>\n",
      "<td class=\"title al va-t word-break\">\n",
      "<a class=\"hoverinfo_trigger fl-l ml12 mr8\" href=\"https://myanimelist.net/anime/37521/Vinland_Saga\" id=\"#area37521\" rel=\"#info37521\">\n",
      "<img alt=\"Anime: Vinland Saga\" border=\"0\" class=\"lazyload\" data-src=\"https://cdn.myanimelist.net/r/50x70/images/anime/1500/103005.jpg?s=b21dbd168612f531ce4eec9bd53e272b\" data-srcset=\"https://cdn.myanimelist.net/r/50x70/images/anime/1500/103005.jpg?s=b21dbd168612f531ce4eec9bd53e272b 1x, https://cdn.myanimelist.net/r/100x140/images/anime/1500/103005.jpg?s=175909bd438e4f7969afdae5a2f58931 2x\" height=\"70\" width=\"50\"/>\n",
      "</a>\n",
      "<div class=\"detail\"><div id=\"area37521\">\n",
      "<div class=\"hoverinfo\" id=\"info37521\" rel=\"a37521\"></div>\n",
      "</div>\n",
      "<div class=\"di-ib clearfix\"><h3 class=\"hoverinfo_trigger fl-l fs14 fw-b anime_ranking_h3\"><a href=\"https://myanimelist.net/anime/37521/Vinland_Saga\" id=\"#area37521\" rel=\"#info37521\">Vinland Saga</a></h3><a class=\"icon-watch-pv ml8 ga-click\" href=\"https://myanimelist.net/anime/37521/Vinland_Saga/video\" title=\"Watch Promotional Video\">Watch Promotional Video</a></div><br/><div class=\"information di-ib mt4\">\n",
      "        TV (24 eps)<br/>\n",
      "        Jul 2019 - Dec 2019<br/>\n",
      "        938,669 members\n",
      "      </div><div class=\"manga-store-information\">\n",
      "<a class=\"link\" href=\"https://myanimelist.net/store/manga_volume/1717/Vinland_Saga_Volume_1\">\n",
      "<i aria-hidden=\"true\" class=\"fa fa-shopping-cart\"></i> <span class=\"fw-b\">Manga Store</span>\n",
      "<span class=\"volume\">Volume 1</span>\n",
      "<span class=\"price\">€17.99</span> </a><a class=\"button-preview\" href=\"https://myanimelist.net/store/viewer/1/1717/preview\" target=\"_blank\">Preview</a></div></div>\n",
      "</td>\n",
      "<td class=\"score ac fs14\"><div class=\"js-top-ranking-score-col di-ib al\"><i class=\"icon-score-star mr4 on\"></i><span class=\"text on score-label score-8\">8.73</span></div>\n",
      "</td>\n",
      "<td class=\"your-score ac fs14\">\n",
      "<div class=\"js-top-ranking-your-score-col di-ib al\"> <a class=\"\" href=\"https://myanimelist.net/login.php?error=login_required&amp;from=%2Ftopanime.php\"><i class=\"icon-score-star mr4\"></i><span class=\"text score-label score-na\">N/A</span></a>\n",
      "</div>\n",
      "</td>\n",
      "<td class=\"status ac\"> <a class=\"btn-addEdit-large btn-anime-watch-status js-anime-watch-status notinmylist\" href=\"https://myanimelist.net/login.php?error=login_required&amp;from=%2Ftopanime.php\"><i class=\"fa fa-plus-square-o mr4\"></i>Add to list</a>\n",
      "</td>\n",
      "</tr>, <tr class=\"ranking-list\">\n",
      "<td class=\"rank ac\" valign=\"top\">\n",
      "<span class=\"lightLink top-anime-rank-text rank2\">42</span>\n",
      "</td>\n",
      "<td class=\"title al va-t word-break\">\n",
      "<a class=\"hoverinfo_trigger fl-l ml12 mr8\" href=\"https://myanimelist.net/anime/44/Rurouni_Kenshin__Meiji_Kenkaku_Romantan_-_Tsuioku-hen\" id=\"#area44\" rel=\"#info44\">\n",
      "<img alt=\"Anime: Rurouni Kenshin: Meiji Kenkaku Romantan - Tsuioku-hen\" border=\"0\" class=\"lazyload\" data-src=\"https://cdn.myanimelist.net/r/50x70/images/anime/1807/102419.jpg?s=f66e01379baa6d60de8ce23f0fbf2fe1\" data-srcset=\"https://cdn.myanimelist.net/r/50x70/images/anime/1807/102419.jpg?s=f66e01379baa6d60de8ce23f0fbf2fe1 1x, https://cdn.myanimelist.net/r/100x140/images/anime/1807/102419.jpg?s=70a1f6f0c9ee71757128a77499912868 2x\" height=\"70\" width=\"50\"/>\n",
      "</a>\n",
      "<div class=\"detail\"><div id=\"area44\">\n",
      "<div class=\"hoverinfo\" id=\"info44\" rel=\"a44\"></div>\n",
      "</div>\n",
      "<div class=\"di-ib clearfix\"><h3 class=\"hoverinfo_trigger fl-l fs14 fw-b anime_ranking_h3\"><a href=\"https://myanimelist.net/anime/44/Rurouni_Kenshin__Meiji_Kenkaku_Romantan_-_Tsuioku-hen\" id=\"#area44\" rel=\"#info44\">Rurouni Kenshin: Meiji Kenkaku Romantan - Tsuioku-hen</a></h3></div><br/><div class=\"information di-ib mt4\">\n",
      "        OVA (4 eps)<br/>\n",
      "        Feb 1999 - Sep 1999<br/>\n",
      "        245,979 members\n",
      "      </div></div>\n",
      "</td>\n",
      "<td class=\"score ac fs14\"><div class=\"js-top-ranking-score-col di-ib al\"><i class=\"icon-score-star mr4 on\"></i><span class=\"text on score-label score-8\">8.72</span></div>\n",
      "</td>\n",
      "<td class=\"your-score ac fs14\">\n",
      "<div class=\"js-top-ranking-your-score-col di-ib al\"> <a class=\"\" href=\"https://myanimelist.net/login.php?error=login_required&amp;from=%2Ftopanime.php\"><i class=\"icon-score-star mr4\"></i><span class=\"text score-label score-na\">N/A</span></a>\n",
      "</div>\n",
      "</td>\n",
      "<td class=\"status ac\"> <a class=\"btn-addEdit-large btn-anime-watch-status js-anime-watch-status notinmylist\" href=\"https://myanimelist.net/login.php?error=login_required&amp;from=%2Ftopanime.php\"><i class=\"fa fa-plus-square-o mr4\"></i>Add to list</a>\n",
      "</td>\n",
      "</tr>, <tr class=\"ranking-list\">\n",
      "<td class=\"rank ac\" valign=\"top\">\n",
      "<span class=\"lightLink top-anime-rank-text rank2\">43</span>\n",
      "</td>\n",
      "<td class=\"title al va-t word-break\">\n",
      "<a class=\"hoverinfo_trigger fl-l ml12 mr8\" href=\"https://myanimelist.net/anime/21939/Mushishi_Zoku_Shou\" id=\"#area21939\" rel=\"#info21939\">\n",
      "<img alt=\"Anime: Mushishi Zoku Shou\" border=\"0\" class=\"lazyload\" data-src=\"https://cdn.myanimelist.net/r/50x70/images/anime/13/58533.jpg?s=ff40f900ea0877725ccde517b126c531\" data-srcset=\"https://cdn.myanimelist.net/r/50x70/images/anime/13/58533.jpg?s=ff40f900ea0877725ccde517b126c531 1x, https://cdn.myanimelist.net/r/100x140/images/anime/13/58533.jpg?s=8b4c39ac1694d8b1ad2a1dcc504691f6 2x\" height=\"70\" width=\"50\"/>\n",
      "</a>\n",
      "<div class=\"detail\"><div id=\"area21939\">\n",
      "<div class=\"hoverinfo\" id=\"info21939\" rel=\"a21939\"></div>\n",
      "</div>\n",
      "<div class=\"di-ib clearfix\"><h3 class=\"hoverinfo_trigger fl-l fs14 fw-b anime_ranking_h3\"><a href=\"https://myanimelist.net/anime/21939/Mushishi_Zoku_Shou\" id=\"#area21939\" rel=\"#info21939\">Mushishi Zoku Shou</a></h3><a class=\"icon-watch ml8 ga-click\" href=\"https://myanimelist.net/anime/21939/Mushishi_Zoku_Shou/video\" title=\"Watch Episode Video\">Watch Episode Video</a></div><br/><div class=\"information di-ib mt4\">\n",
      "        TV (10 eps)<br/>\n",
      "        Apr 2014 - Jun 2014<br/>\n",
      "        253,943 members\n",
      "      </div><div class=\"manga-store-information\">\n",
      "<a class=\"link\" href=\"https://myanimelist.net/store/manga_volume/1645/Mushishi_Volume_1\">\n",
      "<i aria-hidden=\"true\" class=\"fa fa-shopping-cart\"></i> <span class=\"fw-b\">Manga Store</span>\n",
      "<span class=\"volume\">Volume 1</span>\n",
      "<span class=\"price\">€10.99</span> </a><a class=\"button-preview\" href=\"https://myanimelist.net/store/viewer/1/1645/preview\" target=\"_blank\">Preview</a></div></div>\n",
      "</td>\n",
      "<td class=\"score ac fs14\"><div class=\"js-top-ranking-score-col di-ib al\"><i class=\"icon-score-star mr4 on\"></i><span class=\"text on score-label score-8\">8.71</span></div>\n",
      "</td>\n",
      "<td class=\"your-score ac fs14\">\n",
      "<div class=\"js-top-ranking-your-score-col di-ib al\"> <a class=\"\" href=\"https://myanimelist.net/login.php?error=login_required&amp;from=%2Ftopanime.php\"><i class=\"icon-score-star mr4\"></i><span class=\"text score-label score-na\">N/A</span></a>\n",
      "</div>\n",
      "</td>\n",
      "<td class=\"status ac\"> <a class=\"btn-addEdit-large btn-anime-watch-status js-anime-watch-status notinmylist\" href=\"https://myanimelist.net/login.php?error=login_required&amp;from=%2Ftopanime.php\"><i class=\"fa fa-plus-square-o mr4\"></i>Add to list</a>\n",
      "</td>\n",
      "</tr>, <tr class=\"ranking-list\">\n",
      "<td class=\"rank ac\" valign=\"top\">\n",
      "<span class=\"lightLink top-anime-rank-text rank2\">44</span>\n",
      "</td>\n",
      "<td class=\"title al va-t word-break\">\n",
      "<a class=\"hoverinfo_trigger fl-l ml12 mr8\" href=\"https://myanimelist.net/anime/1575/Code_Geass__Hangyaku_no_Lelouch\" id=\"#area1575\" rel=\"#info1575\">\n",
      "<img alt=\"Anime: Code Geass: Hangyaku no Lelouch\" border=\"0\" class=\"lazyload\" data-src=\"https://cdn.myanimelist.net/r/50x70/images/anime/5/50331.jpg?s=afd09d7e5d76283418a1a22e7c122ca9\" data-srcset=\"https://cdn.myanimelist.net/r/50x70/images/anime/5/50331.jpg?s=afd09d7e5d76283418a1a22e7c122ca9 1x, https://cdn.myanimelist.net/r/100x140/images/anime/5/50331.jpg?s=f941cb2733330fae63d3234329719287 2x\" height=\"70\" width=\"50\"/>\n",
      "</a>\n",
      "<div class=\"detail\"><div id=\"area1575\">\n",
      "<div class=\"hoverinfo\" id=\"info1575\" rel=\"a1575\"></div>\n",
      "</div>\n",
      "<div class=\"di-ib clearfix\"><h3 class=\"hoverinfo_trigger fl-l fs14 fw-b anime_ranking_h3\"><a href=\"https://myanimelist.net/anime/1575/Code_Geass__Hangyaku_no_Lelouch\" id=\"#area1575\" rel=\"#info1575\">Code Geass: Hangyaku no Lelouch</a></h3><a class=\"icon-watch ml8 ga-click\" href=\"https://myanimelist.net/anime/1575/Code_Geass__Hangyaku_no_Lelouch/video\" title=\"Watch Episode Video\">Watch Episode Video</a></div><br/><div class=\"information di-ib mt4\">\n",
      "        TV (25 eps)<br/>\n",
      "        Oct 2006 - Jul 2007<br/>\n",
      "        1,852,239 members\n",
      "      </div></div>\n",
      "</td>\n",
      "<td class=\"score ac fs14\"><div class=\"js-top-ranking-score-col di-ib al\"><i class=\"icon-score-star mr4 on\"></i><span class=\"text on score-label score-8\">8.71</span></div>\n",
      "</td>\n",
      "<td class=\"your-score ac fs14\">\n",
      "<div class=\"js-top-ranking-your-score-col di-ib al\"> <a class=\"\" href=\"https://myanimelist.net/login.php?error=login_required&amp;from=%2Ftopanime.php\"><i class=\"icon-score-star mr4\"></i><span class=\"text score-label score-na\">N/A</span></a>\n",
      "</div>\n",
      "</td>\n",
      "<td class=\"status ac\"> <a class=\"btn-addEdit-large btn-anime-watch-status js-anime-watch-status notinmylist\" href=\"https://myanimelist.net/login.php?error=login_required&amp;from=%2Ftopanime.php\"><i class=\"fa fa-plus-square-o mr4\"></i>Add to list</a>\n",
      "</td>\n",
      "</tr>, <tr class=\"ranking-list\">\n",
      "<td class=\"rank ac\" valign=\"top\">\n",
      "<span class=\"lightLink top-anime-rank-text rank2\">45</span>\n",
      "</td>\n",
      "<td class=\"title al va-t word-break\">\n",
      "<a class=\"hoverinfo_trigger fl-l ml12 mr8\" href=\"https://myanimelist.net/anime/40456/Kimetsu_no_Yaiba_Movie__Mugen_Ressha-hen\" id=\"#area40456\" rel=\"#info40456\">\n",
      "<img alt=\"Anime: Kimetsu no Yaiba Movie: Mugen Ressha-hen\" border=\"0\" class=\"lazyload\" data-src=\"https://cdn.myanimelist.net/r/50x70/images/anime/1704/106947.jpg?s=685b7fa652f5b3df29bd20fc2c8cb32e\" data-srcset=\"https://cdn.myanimelist.net/r/50x70/images/anime/1704/106947.jpg?s=685b7fa652f5b3df29bd20fc2c8cb32e 1x, https://cdn.myanimelist.net/r/100x140/images/anime/1704/106947.jpg?s=4aa86a2d3328e85a384df4248126cfdb 2x\" height=\"70\" width=\"50\"/>\n",
      "</a>\n",
      "<div class=\"detail\"><div id=\"area40456\">\n",
      "<div class=\"hoverinfo\" id=\"info40456\" rel=\"a40456\"></div>\n",
      "</div>\n",
      "<div class=\"di-ib clearfix\"><h3 class=\"hoverinfo_trigger fl-l fs14 fw-b anime_ranking_h3\"><a href=\"https://myanimelist.net/anime/40456/Kimetsu_no_Yaiba_Movie__Mugen_Ressha-hen\" id=\"#area40456\" rel=\"#info40456\">Kimetsu no Yaiba Movie: Mugen Ressha-hen</a></h3><a class=\"icon-watch-pv ml8 ga-click\" href=\"https://myanimelist.net/anime/40456/Kimetsu_no_Yaiba_Movie__Mugen_Ressha-hen/video\" title=\"Watch Promotional Video\">Watch Promotional Video</a></div><br/><div class=\"information di-ib mt4\">\n",
      "        Movie (1 eps)<br/>\n",
      "        Oct 2020 - Oct 2020<br/>\n",
      "        859,330 members\n",
      "      </div></div>\n",
      "</td>\n",
      "<td class=\"score ac fs14\"><div class=\"js-top-ranking-score-col di-ib al\"><i class=\"icon-score-star mr4 on\"></i><span class=\"text on score-label score-8\">8.71</span></div>\n",
      "</td>\n",
      "<td class=\"your-score ac fs14\">\n",
      "<div class=\"js-top-ranking-your-score-col di-ib al\"> <a class=\"\" href=\"https://myanimelist.net/login.php?error=login_required&amp;from=%2Ftopanime.php\"><i class=\"icon-score-star mr4\"></i><span class=\"text score-label score-na\">N/A</span></a>\n",
      "</div>\n",
      "</td>\n",
      "<td class=\"status ac\"> <a class=\"btn-addEdit-large btn-anime-watch-status js-anime-watch-status notinmylist\" href=\"https://myanimelist.net/login.php?error=login_required&amp;from=%2Ftopanime.php\"><i class=\"fa fa-plus-square-o mr4\"></i>Add to list</a>\n",
      "</td>\n",
      "</tr>, <tr class=\"ranking-list\">\n",
      "<td class=\"rank ac\" valign=\"top\">\n",
      "<span class=\"lightLink top-anime-rank-text rank2\">46</span>\n",
      "</td>\n",
      "<td class=\"title al va-t word-break\">\n",
      "<a class=\"hoverinfo_trigger fl-l ml12 mr8\" href=\"https://myanimelist.net/anime/34599/Made_in_Abyss\" id=\"#area34599\" rel=\"#info34599\">\n",
      "<img alt=\"Anime: Made in Abyss\" border=\"0\" class=\"lazyload\" data-src=\"https://cdn.myanimelist.net/r/50x70/images/anime/6/86733.jpg?s=56ac623880ec87f3a0197e0391bc12c3\" data-srcset=\"https://cdn.myanimelist.net/r/50x70/images/anime/6/86733.jpg?s=56ac623880ec87f3a0197e0391bc12c3 1x, https://cdn.myanimelist.net/r/100x140/images/anime/6/86733.jpg?s=ff773aca2bed4fe79efd6a5b6ff0e911 2x\" height=\"70\" width=\"50\"/>\n",
      "</a>\n",
      "<div class=\"detail\"><div id=\"area34599\">\n",
      "<div class=\"hoverinfo\" id=\"info34599\" rel=\"a34599\"></div>\n",
      "</div>\n",
      "<div class=\"di-ib clearfix\"><h3 class=\"hoverinfo_trigger fl-l fs14 fw-b anime_ranking_h3\"><a href=\"https://myanimelist.net/anime/34599/Made_in_Abyss\" id=\"#area34599\" rel=\"#info34599\">Made in Abyss</a></h3><a class=\"icon-watch-pv ml8 ga-click\" href=\"https://myanimelist.net/anime/34599/Made_in_Abyss/video\" title=\"Watch Promotional Video\">Watch Promotional Video</a></div><br/><div class=\"information di-ib mt4\">\n",
      "        TV (13 eps)<br/>\n",
      "        Jul 2017 - Sep 2017<br/>\n",
      "        1,028,883 members\n",
      "      </div></div>\n",
      "</td>\n",
      "<td class=\"score ac fs14\"><div class=\"js-top-ranking-score-col di-ib al\"><i class=\"icon-score-star mr4 on\"></i><span class=\"text on score-label score-8\">8.70</span></div>\n",
      "</td>\n",
      "<td class=\"your-score ac fs14\">\n",
      "<div class=\"js-top-ranking-your-score-col di-ib al\"> <a class=\"\" href=\"https://myanimelist.net/login.php?error=login_required&amp;from=%2Ftopanime.php\"><i class=\"icon-score-star mr4\"></i><span class=\"text score-label score-na\">N/A</span></a>\n",
      "</div>\n",
      "</td>\n",
      "<td class=\"status ac\"> <a class=\"btn-addEdit-large btn-anime-watch-status js-anime-watch-status notinmylist\" href=\"https://myanimelist.net/login.php?error=login_required&amp;from=%2Ftopanime.php\"><i class=\"fa fa-plus-square-o mr4\"></i>Add to list</a>\n",
      "</td>\n",
      "</tr>, <tr class=\"ranking-list\">\n",
      "<td class=\"rank ac\" valign=\"top\">\n",
      "<span class=\"lightLink top-anime-rank-text rank2\">47</span>\n",
      "</td>\n",
      "<td class=\"title al va-t word-break\">\n",
      "<a class=\"hoverinfo_trigger fl-l ml12 mr8\" href=\"https://myanimelist.net/anime/36862/Made_in_Abyss_Movie_3__Fukaki_Tamashii_no_Reimei\" id=\"#area36862\" rel=\"#info36862\">\n",
      "<img alt=\"Anime: Made in Abyss Movie 3: Fukaki Tamashii no Reimei\" border=\"0\" class=\"lazyload\" data-src=\"https://cdn.myanimelist.net/r/50x70/images/anime/1502/110723.jpg?s=371a6b383817649bb1d3468f03522f66\" data-srcset=\"https://cdn.myanimelist.net/r/50x70/images/anime/1502/110723.jpg?s=371a6b383817649bb1d3468f03522f66 1x, https://cdn.myanimelist.net/r/100x140/images/anime/1502/110723.jpg?s=e772b96e543983ab2b0da44ce2b17650 2x\" height=\"70\" width=\"50\"/>\n",
      "</a>\n",
      "<div class=\"detail\"><div id=\"area36862\">\n",
      "<div class=\"hoverinfo\" id=\"info36862\" rel=\"a36862\"></div>\n",
      "</div>\n",
      "<div class=\"di-ib clearfix\"><h3 class=\"hoverinfo_trigger fl-l fs14 fw-b anime_ranking_h3\"><a href=\"https://myanimelist.net/anime/36862/Made_in_Abyss_Movie_3__Fukaki_Tamashii_no_Reimei\" id=\"#area36862\" rel=\"#info36862\">Made in Abyss Movie 3: Fukaki Tamashii no Reimei</a></h3><a class=\"icon-watch-pv ml8 ga-click\" href=\"https://myanimelist.net/anime/36862/Made_in_Abyss_Movie_3__Fukaki_Tamashii_no_Reimei/video\" title=\"Watch Promotional Video\">Watch Promotional Video</a></div><br/><div class=\"information di-ib mt4\">\n",
      "        Movie (1 eps)<br/>\n",
      "        Jan 2020 - Jan 2020<br/>\n",
      "        280,233 members\n",
      "      </div></div>\n",
      "</td>\n",
      "<td class=\"score ac fs14\"><div class=\"js-top-ranking-score-col di-ib al\"><i class=\"icon-score-star mr4 on\"></i><span class=\"text on score-label score-8\">8.70</span></div>\n",
      "</td>\n",
      "<td class=\"your-score ac fs14\">\n",
      "<div class=\"js-top-ranking-your-score-col di-ib al\"> <a class=\"\" href=\"https://myanimelist.net/login.php?error=login_required&amp;from=%2Ftopanime.php\"><i class=\"icon-score-star mr4\"></i><span class=\"text score-label score-na\">N/A</span></a>\n",
      "</div>\n",
      "</td>\n",
      "<td class=\"status ac\"> <a class=\"btn-addEdit-large btn-anime-watch-status js-anime-watch-status notinmylist\" href=\"https://myanimelist.net/login.php?error=login_required&amp;from=%2Ftopanime.php\"><i class=\"fa fa-plus-square-o mr4\"></i>Add to list</a>\n",
      "</td>\n",
      "</tr>, <tr class=\"ranking-list\">\n",
      "<td class=\"rank ac\" valign=\"top\">\n",
      "<span class=\"lightLink top-anime-rank-text rank2\">48</span>\n",
      "</td>\n",
      "<td class=\"title al va-t word-break\">\n",
      "<a class=\"hoverinfo_trigger fl-l ml12 mr8\" href=\"https://myanimelist.net/anime/2921/Ashita_no_Joe_2\" id=\"#area2921\" rel=\"#info2921\">\n",
      "<img alt=\"Anime: Ashita no Joe 2\" border=\"0\" class=\"lazyload\" data-src=\"https://cdn.myanimelist.net/r/50x70/images/anime/3/45028.jpg?s=bf58ff0c0759f78bf968a74ec535d0d2\" data-srcset=\"https://cdn.myanimelist.net/r/50x70/images/anime/3/45028.jpg?s=bf58ff0c0759f78bf968a74ec535d0d2 1x, https://cdn.myanimelist.net/r/100x140/images/anime/3/45028.jpg?s=b3022f518e674c9c4c9be212b232ce66 2x\" height=\"70\" width=\"50\"/>\n",
      "</a>\n",
      "<div class=\"detail\"><div id=\"area2921\">\n",
      "<div class=\"hoverinfo\" id=\"info2921\" rel=\"a2921\"></div>\n",
      "</div>\n",
      "<div class=\"di-ib clearfix\"><h3 class=\"hoverinfo_trigger fl-l fs14 fw-b anime_ranking_h3\"><a href=\"https://myanimelist.net/anime/2921/Ashita_no_Joe_2\" id=\"#area2921\" rel=\"#info2921\">Ashita no Joe 2</a></h3><a class=\"icon-watch ml8 ga-click\" href=\"https://myanimelist.net/anime/2921/Ashita_no_Joe_2/video\" title=\"Watch Episode Video\">Watch Episode Video</a></div><br/><div class=\"information di-ib mt4\">\n",
      "        TV (47 eps)<br/>\n",
      "        Oct 1980 - Aug 1981<br/>\n",
      "        37,097 members\n",
      "      </div></div>\n",
      "</td>\n",
      "<td class=\"score ac fs14\"><div class=\"js-top-ranking-score-col di-ib al\"><i class=\"icon-score-star mr4 on\"></i><span class=\"text on score-label score-8\">8.69</span></div>\n",
      "</td>\n",
      "<td class=\"your-score ac fs14\">\n",
      "<div class=\"js-top-ranking-your-score-col di-ib al\"> <a class=\"\" href=\"https://myanimelist.net/login.php?error=login_required&amp;from=%2Ftopanime.php\"><i class=\"icon-score-star mr4\"></i><span class=\"text score-label score-na\">N/A</span></a>\n",
      "</div>\n",
      "</td>\n",
      "<td class=\"status ac\"> <a class=\"btn-addEdit-large btn-anime-watch-status js-anime-watch-status notinmylist\" href=\"https://myanimelist.net/login.php?error=login_required&amp;from=%2Ftopanime.php\"><i class=\"fa fa-plus-square-o mr4\"></i>Add to list</a>\n",
      "</td>\n",
      "</tr>, <tr class=\"ranking-list\">\n",
      "<td class=\"rank ac\" valign=\"top\">\n",
      "<span class=\"lightLink top-anime-rank-text rank2\">49</span>\n",
      "</td>\n",
      "<td class=\"title al va-t word-break\">\n",
      "<a class=\"hoverinfo_trigger fl-l ml12 mr8\" href=\"https://myanimelist.net/anime/3786/Evangelion__30_10_Thrice_Upon_a_Time\" id=\"#area3786\" rel=\"#info3786\">\n",
      "<img alt=\"Anime: Evangelion: 3.0+1.0 Thrice Upon a Time\" border=\"0\" class=\"lazyload\" data-src=\"https://cdn.myanimelist.net/r/50x70/images/anime/1422/113533.jpg?s=1e4f4aa0e597b1c1f082779ab9baa2fc\" data-srcset=\"https://cdn.myanimelist.net/r/50x70/images/anime/1422/113533.jpg?s=1e4f4aa0e597b1c1f082779ab9baa2fc 1x, https://cdn.myanimelist.net/r/100x140/images/anime/1422/113533.jpg?s=bbcff367f34f75d38507a3e5091f1336 2x\" height=\"70\" width=\"50\"/>\n",
      "</a>\n",
      "<div class=\"detail\"><div id=\"area3786\">\n",
      "<div class=\"hoverinfo\" id=\"info3786\" rel=\"a3786\"></div>\n",
      "</div>\n",
      "<div class=\"di-ib clearfix\"><h3 class=\"hoverinfo_trigger fl-l fs14 fw-b anime_ranking_h3\"><a href=\"https://myanimelist.net/anime/3786/Evangelion__30_10_Thrice_Upon_a_Time\" id=\"#area3786\" rel=\"#info3786\">Evangelion: 3.0+1.0 Thrice Upon a Time</a></h3><a class=\"icon-watch-pv ml8 ga-click\" href=\"https://myanimelist.net/anime/3786/Evangelion__30_10_Thrice_Upon_a_Time/video\" title=\"Watch Promotional Video\">Watch Promotional Video</a></div><br/><div class=\"information di-ib mt4\">\n",
      "        Movie (1 eps)<br/>\n",
      "        Mar 2021 - Mar 2021<br/>\n",
      "        241,946 members\n",
      "      </div></div>\n",
      "</td>\n",
      "<td class=\"score ac fs14\"><div class=\"js-top-ranking-score-col di-ib al\"><i class=\"icon-score-star mr4 on\"></i><span class=\"text on score-label score-8\">8.69</span></div>\n",
      "</td>\n",
      "<td class=\"your-score ac fs14\">\n",
      "<div class=\"js-top-ranking-your-score-col di-ib al\"> <a class=\"\" href=\"https://myanimelist.net/login.php?error=login_required&amp;from=%2Ftopanime.php\"><i class=\"icon-score-star mr4\"></i><span class=\"text score-label score-na\">N/A</span></a>\n",
      "</div>\n",
      "</td>\n",
      "<td class=\"status ac\"> <a class=\"btn-addEdit-large btn-anime-watch-status js-anime-watch-status notinmylist\" href=\"https://myanimelist.net/login.php?error=login_required&amp;from=%2Ftopanime.php\"><i class=\"fa fa-plus-square-o mr4\"></i>Add to list</a>\n",
      "</td>\n",
      "</tr>, <tr class=\"ranking-list\">\n",
      "<td class=\"rank ac\" valign=\"top\">\n",
      "<span class=\"lightLink top-anime-rank-text rank2\">50</span>\n",
      "</td>\n",
      "<td class=\"title al va-t word-break\">\n",
      "<a class=\"hoverinfo_trigger fl-l ml12 mr8\" href=\"https://myanimelist.net/anime/245/Great_Teacher_Onizuka\" id=\"#area245\" rel=\"#info245\">\n",
      "<img alt=\"Anime: Great Teacher Onizuka\" border=\"0\" class=\"lazyload\" data-src=\"https://cdn.myanimelist.net/r/50x70/images/anime/13/11460.jpg?s=7e890b7e93b7b57c2de4aa90211931bd\" data-srcset=\"https://cdn.myanimelist.net/r/50x70/images/anime/13/11460.jpg?s=7e890b7e93b7b57c2de4aa90211931bd 1x, https://cdn.myanimelist.net/r/100x140/images/anime/13/11460.jpg?s=8134d33ff056d87cfa65345aaec756f9 2x\" height=\"70\" width=\"50\"/>\n",
      "</a>\n",
      "<div class=\"detail\"><div id=\"area245\">\n",
      "<div class=\"hoverinfo\" id=\"info245\" rel=\"a245\"></div>\n",
      "</div>\n",
      "<div class=\"di-ib clearfix\"><h3 class=\"hoverinfo_trigger fl-l fs14 fw-b anime_ranking_h3\"><a href=\"https://myanimelist.net/anime/245/Great_Teacher_Onizuka\" id=\"#area245\" rel=\"#info245\">Great Teacher Onizuka</a></h3><a class=\"icon-watch ml8 ga-click\" href=\"https://myanimelist.net/anime/245/Great_Teacher_Onizuka/video\" title=\"Watch Episode Video\">Watch Episode Video</a></div><br/><div class=\"information di-ib mt4\">\n",
      "        TV (43 eps)<br/>\n",
      "        Jun 1999 - Sep 2000<br/>\n",
      "        675,559 members\n",
      "      </div></div>\n",
      "</td>\n",
      "<td class=\"score ac fs14\"><div class=\"js-top-ranking-score-col di-ib al\"><i class=\"icon-score-star mr4 on\"></i><span class=\"text on score-label score-8\">8.69</span></div>\n",
      "</td>\n",
      "<td class=\"your-score ac fs14\">\n",
      "<div class=\"js-top-ranking-your-score-col di-ib al\"> <a class=\"\" href=\"https://myanimelist.net/login.php?error=login_required&amp;from=%2Ftopanime.php\"><i class=\"icon-score-star mr4\"></i><span class=\"text score-label score-na\">N/A</span></a>\n",
      "</div>\n",
      "</td>\n",
      "<td class=\"status ac\"> <a class=\"btn-addEdit-large btn-anime-watch-status js-anime-watch-status notinmylist\" href=\"https://myanimelist.net/login.php?error=login_required&amp;from=%2Ftopanime.php\"><i class=\"fa fa-plus-square-o mr4\"></i>Add to list</a>\n",
      "</td>\n",
      "</tr>]\n"
     ]
    },
    {
     "data": {
      "text/plain": [
       "51"
      ]
     },
     "execution_count": 11,
     "metadata": {},
     "output_type": "execute_result"
    }
   ],
   "source": [
    "print(list(TopAnimeSoup.find_all('tr')))\n",
    "len(list(TopAnimeSoup.find_all('tr')))"
   ]
  },
  {
   "cell_type": "markdown",
   "id": "50eb3233",
   "metadata": {},
   "source": [
    "We know that in each page, we have the information related to 50 animes. But why we have 51 tr tags here? <br/>\n",
    "Because the first row corresponds to the name of table's column and the rest store the inramtion related to each anime. "
   ]
  },
  {
   "cell_type": "markdown",
   "id": "2c3adde5",
   "metadata": {},
   "source": [
    "So in order to get the rows which contain the information of each anime, we should go through the tr tags that we have in the webpage except the first one which contains the information of the columns' name of of the table. "
   ]
  },
  {
   "cell_type": "code",
   "execution_count": 12,
   "id": "e1c46c44",
   "metadata": {},
   "outputs": [
    {
     "data": {
      "text/plain": [
       "50"
      ]
     },
     "execution_count": 12,
     "metadata": {},
     "output_type": "execute_result"
    }
   ],
   "source": [
    "Rows = list(TopAnimeSoup.find_all('tr'))[1:]\n",
    "len(Rows)"
   ]
  },
  {
   "cell_type": "markdown",
   "id": "083511c1",
   "metadata": {},
   "source": [
    "As we can see above, we have all the rows correspond which contains the information related to each anime. The total number of animes we have in each page are 50. "
   ]
  },
  {
   "cell_type": "markdown",
   "id": "d726f486",
   "metadata": {},
   "source": [
    "Now we should get the name and the url correspond to each anime. We found out that this information can be found in 'a' tag of each row which its class name is \"hoverinfo_trigger fl-l ml12 mr8\" and is included in the second 'td' tag of each 'tr'.  "
   ]
  },
  {
   "cell_type": "markdown",
   "id": "894a4fe1",
   "metadata": {},
   "source": [
    "The information in this tag for the first anime can be found below. "
   ]
  },
  {
   "cell_type": "markdown",
   "id": "b84976a7",
   "metadata": {},
   "source": [
    "We get all the 'td' tags of the second 'tr' the first 'tr' tag contains the columns' name. "
   ]
  },
  {
   "cell_type": "code",
   "execution_count": 14,
   "id": "5efb5176",
   "metadata": {},
   "outputs": [],
   "source": [
    "Tds = Rows[0].find_all('td')"
   ]
  },
  {
   "cell_type": "markdown",
   "id": "5ddc738a",
   "metadata": {},
   "source": [
    "Then we will go to the second 'td' tag's information. The first one contains just the ranking number. "
   ]
  },
  {
   "cell_type": "code",
   "execution_count": 15,
   "id": "b986fae3",
   "metadata": {},
   "outputs": [],
   "source": [
    "SecondTD = Tds[1]"
   ]
  },
  {
   "cell_type": "markdown",
   "id": "13ee3663",
   "metadata": {},
   "source": [
    "Then inside this 'td' tag we look for the 'a' tag which its class is \"hoverinfo_trigger fl-l ml12 mr8\""
   ]
  },
  {
   "cell_type": "code",
   "execution_count": 107,
   "id": "f0041b7c",
   "metadata": {},
   "outputs": [
    {
     "data": {
      "text/plain": [
       "<a class=\"hoverinfo_trigger fl-l ml12 mr8\" href=\"https://myanimelist.net/anime/5114/Fullmetal_Alchemist__Brotherhood\" id=\"#area5114\" rel=\"#info5114\">\n",
       "<img alt=\"Anime: Fullmetal Alchemist: Brotherhood\" border=\"0\" class=\"lazyload\" data-src=\"https://cdn.myanimelist.net/r/50x70/images/anime/1223/96541.jpg?s=faffcb677a5eacd17bf761edd78bfb3f\" data-srcset=\"https://cdn.myanimelist.net/r/50x70/images/anime/1223/96541.jpg?s=faffcb677a5eacd17bf761edd78bfb3f 1x, https://cdn.myanimelist.net/r/100x140/images/anime/1223/96541.jpg?s=0c3b98cf4905422c00981025cd20d271 2x\" height=\"70\" width=\"50\">\n",
       "</img></a>"
      ]
     },
     "execution_count": 107,
     "metadata": {},
     "output_type": "execute_result"
    }
   ],
   "source": [
    "TagA = SecondTD.find('class' == \"hoverinfo_trigger fl-l ml12 mr8\")\n",
    "TagA"
   ]
  },
  {
   "cell_type": "markdown",
   "id": "89f92c35",
   "metadata": {},
   "source": [
    "The url of an anime is the value of 'href' property of this tag. Let's take a look at it. "
   ]
  },
  {
   "cell_type": "code",
   "execution_count": 108,
   "id": "29a66360",
   "metadata": {},
   "outputs": [
    {
     "data": {
      "text/plain": [
       "'https://myanimelist.net/anime/5114/Fullmetal_Alchemist__Brotherhood'"
      ]
     },
     "execution_count": 108,
     "metadata": {},
     "output_type": "execute_result"
    }
   ],
   "source": [
    "URL = TagA['href']\n",
    "URL"
   ]
  },
  {
   "cell_type": "markdown",
   "id": "2e83e30e",
   "metadata": {},
   "source": [
    "Here to extract the name of the anime we have two options. 1. To split the 'href' and get the last value of it. 2. Get the value of 'alt' property of the 'img' tag in the 'a' tag. Here we will go for the second approach. "
   ]
  },
  {
   "cell_type": "code",
   "execution_count": 112,
   "id": "2fd39c50",
   "metadata": {},
   "outputs": [
    {
     "data": {
      "text/plain": [
       "'Fullmetal Alchemist: Brotherhood'"
      ]
     },
     "execution_count": 112,
     "metadata": {},
     "output_type": "execute_result"
    }
   ],
   "source": [
    "Image = TagA.find('img')\n",
    "AnimeName = Image['alt'].replace('Anime: ', '')\n",
    "AnimeName"
   ]
  },
  {
   "cell_type": "markdown",
   "id": "549ec208",
   "metadata": {},
   "source": [
    "### Going through of all animes in the first page. "
   ]
  },
  {
   "cell_type": "markdown",
   "id": "d9662ece",
   "metadata": {},
   "source": [
    "Now here we want to get the name and url of all the animes in this specific page. "
   ]
  },
  {
   "cell_type": "code",
   "execution_count": 113,
   "id": "1b49d529",
   "metadata": {},
   "outputs": [],
   "source": [
    "MyDict = defaultdict(str)\n",
    "for Row in Rows: \n",
    "    TDs = Row.find_all('td')\n",
    "    TagA = TDs[1].find('class' == \"hoverinfo_trigger fl-l ml12 mr8\")\n",
    "    AnimeName, URL = TagA.find('img')['alt'].replace('Anime: ', ''), TagA['href']\n",
    "    MyDict[AnimeName] = URL"
   ]
  },
  {
   "cell_type": "markdown",
   "id": "9f686166",
   "metadata": {},
   "source": [
    "Now we will check the information for five animes. "
   ]
  },
  {
   "cell_type": "code",
   "execution_count": 115,
   "id": "164a1ebf",
   "metadata": {},
   "outputs": [
    {
     "name": "stdout",
     "output_type": "stream",
     "text": [
      "Name of anime: Fullmetal Alchemist: Brotherhood\n",
      "URL: https://myanimelist.net/anime/5114/Fullmetal_Alchemist__Brotherhood\n",
      "\n",
      "Name of anime: Gintama°\n",
      "URL: https://myanimelist.net/anime/28977/Gintama°\n",
      "\n",
      "Name of anime: Shingeki no Kyojin Season 3 Part 2\n",
      "URL: https://myanimelist.net/anime/38524/Shingeki_no_Kyojin_Season_3_Part_2\n",
      "\n",
      "Name of anime: Steins;Gate\n",
      "URL: https://myanimelist.net/anime/9253/Steins_Gate\n",
      "\n",
      "Name of anime: Fruits Basket: The Final\n",
      "URL: https://myanimelist.net/anime/42938/Fruits_Basket__The_Final\n",
      "\n"
     ]
    }
   ],
   "source": [
    "for anime in list(MyDict.keys())[:5]:\n",
    "    print('Name of anime: ' + anime+'\\nURL: ' + MyDict[anime], end = '\\n\\n')"
   ]
  },
  {
   "cell_type": "markdown",
   "id": "d4e461c8",
   "metadata": {},
   "source": [
    "Here we want to check if we have all the 50 animes' URL in the dictionay. "
   ]
  },
  {
   "cell_type": "code",
   "execution_count": 118,
   "id": "ef881261",
   "metadata": {},
   "outputs": [
    {
     "name": "stdout",
     "output_type": "stream",
     "text": [
      "Number of animes  50\n"
     ]
    }
   ],
   "source": [
    "print('Number of animes ', len(MyDict))"
   ]
  },
  {
   "cell_type": "markdown",
   "id": "8de9c237",
   "metadata": {},
   "source": [
    "# 1.2. Crawl animes"
   ]
  },
  {
   "cell_type": "markdown",
   "id": "9479a68f",
   "metadata": {},
   "source": [
    "In order to have more readable implementation we will write a function which receives the URL of the webpage that we want to scrap and writes the urls to the URLs.txt file. "
   ]
  },
  {
   "cell_type": "code",
   "execution_count": 149,
   "id": "596c02f2",
   "metadata": {},
   "outputs": [],
   "source": [
    "def GetAnimeInfo(webpage):\n",
    "    File = open('URLs.txt', mode = 'a')\n",
    "    Request = requests.get(webpage)\n",
    "    TopAnimeSoup = BeautifulSoup(Request.content, 'html.parser')\n",
    "    Rows = TopAnimeSoup.find_all('tr')\n",
    "    for Row in Rows[1:]: \n",
    "        TDs = Row.find_all('td')\n",
    "        TagA = TDs[1].find('class' == \"hoverinfo_trigger fl-l ml12 mr8\")\n",
    "        URL = TagA['href']\n",
    "        File.write(URL+'\\n')\n",
    "    File.close()"
   ]
  },
  {
   "cell_type": "markdown",
   "id": "44c8a2bc",
   "metadata": {},
   "source": [
    "Now at each time we should pass the function the URL of the webpage that we want to scrap. "
   ]
  },
  {
   "cell_type": "markdown",
   "id": "39f11a76",
   "metadata": {},
   "source": [
    "After checking the URL of the next pages, we understood that there is a pattern in URL of the pages. <br/>\n",
    "For example the 2nd webpage's URL is 'https://myanimelist.net/topanime.php?limit=50' and we can see the only difference between this URL and the main page URL (which is 'https://myanimelist.net/topanime.php') is that there is '?limit=50' string at the end. <br/><br/>\n",
    "* So we can use this pattern the find the next pages URL. "
   ]
  },
  {
   "cell_type": "code",
   "execution_count": 148,
   "id": "93fc9480",
   "metadata": {},
   "outputs": [],
   "source": [
    "MainPageURL = 'https://myanimelist.net/topanime.php'\n",
    "for i in range(400):\n",
    "    if i == 0:\n",
    "        GetAnimeInfo(MainPageURL)\n",
    "    else:\n",
    "        GetAnimeInfo(MainPageURL+'?limit='+str(50*i))\n",
    "    "
   ]
  },
  {
   "cell_type": "markdown",
   "id": "7f7c658f",
   "metadata": {},
   "source": [
    "Now we want to download the HTML file for each anime. <br/> \n",
    "In order to do this we are going to write a function that passes a number of URLs which their HTML file should be downloaded and stored in a folder.<br/>\n",
    "These URLS are given in a list of list which correspond to a number of webpages in the website and a number of anime's URL which are in a specific webpage. "
   ]
  },
  {
   "cell_type": "code",
   "execution_count": 161,
   "id": "2dfe0776",
   "metadata": {},
   "outputs": [],
   "source": [
    "# This function is designed to download the URLs which are contained in some specific webpages. \n",
    "\n",
    "def GetHTML(URLS, GroupIndex, NumPageGroup, Start):\n",
    "    for index, ListURLs in enumerate(URLS):\n",
    "        if index < Start:\n",
    "            continue\n",
    "        FolderName = 'page' + str(GroupIndex*NumPageGroup + index +1)\n",
    "        Path = os.path.join(os.getcwd(),'HTMLS', FolderName)\n",
    "        # \"/\".join([os.getcwd(),'HTMLS', FolderName])\n",
    "        # /home/mehrdad/ADM-HW3/HTMLS/page1\n",
    "        os.mkdir(Path)\n",
    "        for i, url in enumerate(ListURLs):\n",
    "            AnimePage = requests.get(url)\n",
    "            AnimePageSoup = BeautifulSoup(AnimePage.content, 'html.parser')\n",
    "            #/home/mehrdad/ADM-HW3/HTMLS/page1/anime_0.html\n",
    "            file = open(Path + '/' + 'anime_' + str(i) + '.html',\"w\")\n",
    "            file.write(str(AnimePageSoup))\n",
    "            file.close()    "
   ]
  },
  {
   "cell_type": "markdown",
   "id": "a96a53d6",
   "metadata": {},
   "source": [
    "Here we want to mention what are the arguments of this function exactly:\n",
    "* URLS: It's a matrix. Each row corresponds to a page and the columns are the URls which are contained in a specific page. \n",
    "* GroupIndex: We specify on which core of processor this process is being done. \n",
    "* NumPageGroup: Corresponds to the number of pages that is being given to the function. \n",
    "* Start: From which page start downloading its animes' URLs. "
   ]
  },
  {
   "cell_type": "markdown",
   "id": "4c76c90d",
   "metadata": {},
   "source": [
    "Here in order to speed up the process of downloading HTML files, we want to parallelize this process among the number of processors that we have in the system. "
   ]
  },
  {
   "cell_type": "markdown",
   "id": "dbc688f2",
   "metadata": {},
   "source": [
    "So first we check how many processors we have in the system:"
   ]
  },
  {
   "cell_type": "code",
   "execution_count": 50,
   "id": "79c621f1",
   "metadata": {},
   "outputs": [
    {
     "name": "stdout",
     "output_type": "stream",
     "text": [
      "The number of processors: 4\n"
     ]
    }
   ],
   "source": [
    "print(\"The number of processors:\", mp.cpu_count())"
   ]
  },
  {
   "cell_type": "markdown",
   "id": "0590ada1",
   "metadata": {},
   "source": [
    "So in this case we should distribute our URLS over these processors. So here we get our URLs from the file that we stored all the URLs there. "
   ]
  },
  {
   "cell_type": "code",
   "execution_count": 51,
   "id": "ead245d5",
   "metadata": {},
   "outputs": [],
   "source": [
    "AllURLs = []\n",
    "with open('URLs.txt') as f:\n",
    "    for row in f:\n",
    "        AllURLs.append(row.strip())"
   ]
  },
  {
   "cell_type": "markdown",
   "id": "fab4a437",
   "metadata": {},
   "source": [
    "Now we want to check how many URLs we have:"
   ]
  },
  {
   "cell_type": "code",
   "execution_count": 52,
   "id": "2d2a928f",
   "metadata": {},
   "outputs": [
    {
     "name": "stdout",
     "output_type": "stream",
     "text": [
      "The total number of URLs is: 19128\n"
     ]
    }
   ],
   "source": [
    "print('The total number of URLs is:', len(AllURLs))"
   ]
  },
  {
   "cell_type": "markdown",
   "id": "37bf4889",
   "metadata": {},
   "source": [
    "* **Note:** We know that we should store all the anime's webpage HTML in a single folder for the ones that have been appeared in the same wepbage, so we every webpage's anime should be entirely given to a singel processors. "
   ]
  },
  {
   "cell_type": "markdown",
   "id": "4cfaeeff",
   "metadata": {},
   "source": [
    "* **Note:** We know that we got the URLs in order, so each 50 URLs are the ones that were in a specific webpage. "
   ]
  },
  {
   "cell_type": "markdown",
   "id": "60848ee4",
   "metadata": {},
   "source": [
    "Now we group each 50 URls which correspond to the animes that are in the same webpage. "
   ]
  },
  {
   "cell_type": "code",
   "execution_count": 53,
   "id": "3730c72f",
   "metadata": {},
   "outputs": [],
   "source": [
    "EachPageURLs = [AllURLs[i*50:(i+1)*50] for i in range(len(AllURLs)//50+1)]"
   ]
  },
  {
   "cell_type": "markdown",
   "id": "e5c82bf6",
   "metadata": {},
   "source": [
    "Here we will take a look at how many pages that we have here: "
   ]
  },
  {
   "cell_type": "code",
   "execution_count": 54,
   "id": "372960e5",
   "metadata": {},
   "outputs": [
    {
     "name": "stdout",
     "output_type": "stream",
     "text": [
      "Number of webpages in the website: 383\n"
     ]
    }
   ],
   "source": [
    "print(\"Number of webpages in the website:\", len(EachPageURLs))"
   ]
  },
  {
   "cell_type": "markdown",
   "id": "f9827d77",
   "metadata": {},
   "source": [
    "So if this number of webpages is true, then the division 'number of all URLS'/50 shoule produce the same result. "
   ]
  },
  {
   "cell_type": "code",
   "execution_count": 55,
   "id": "cc235115",
   "metadata": {},
   "outputs": [
    {
     "name": "stdout",
     "output_type": "stream",
     "text": [
      "The result of division: 382.56\n"
     ]
    }
   ],
   "source": [
    "print('The result of division:', len(AllURLs)/50)"
   ]
  },
  {
   "cell_type": "markdown",
   "id": "e0074706",
   "metadata": {},
   "source": [
    "As we know that the last webpage does not contain exactly 50 animes, we got this result, so up until now everything went great. "
   ]
  },
  {
   "cell_type": "markdown",
   "id": "59759467",
   "metadata": {},
   "source": [
    "Now we check how many pages shold be given to each of the processors. "
   ]
  },
  {
   "cell_type": "code",
   "execution_count": 56,
   "id": "7d143748",
   "metadata": {},
   "outputs": [
    {
     "name": "stdout",
     "output_type": "stream",
     "text": [
      "Number of pages to be given to each processor:  96\n"
     ]
    }
   ],
   "source": [
    "NumOfPage = ceil(ceil(len(AllURLs)/50)/4)\n",
    "print('Number of pages to be given to each processor: ', NumOfPage)"
   ]
  },
  {
   "cell_type": "markdown",
   "id": "bad70465",
   "metadata": {},
   "source": [
    "So we will give 96 pages to each of the processor that we have in the system. "
   ]
  },
  {
   "cell_type": "markdown",
   "id": "d8202b99",
   "metadata": {},
   "source": [
    "Now we will put the pages should be given to a specific processor into groups. "
   ]
  },
  {
   "cell_type": "code",
   "execution_count": 57,
   "id": "700c5cfd",
   "metadata": {},
   "outputs": [],
   "source": [
    "GroupPage = [EachPageURLs[i*NumOfPage:(i+1)*NumOfPage] for i in range(mp.cpu_count())]"
   ]
  },
  {
   "cell_type": "markdown",
   "id": "b3b846a4",
   "metadata": {},
   "source": [
    "Let's check the number of pages in each group:"
   ]
  },
  {
   "cell_type": "code",
   "execution_count": 58,
   "id": "508216ee",
   "metadata": {},
   "outputs": [
    {
     "name": "stdout",
     "output_type": "stream",
     "text": [
      "[96, 96, 96, 95]\n"
     ]
    }
   ],
   "source": [
    "print(list(map(len , GroupPage)))"
   ]
  },
  {
   "cell_type": "markdown",
   "id": "0bad966b",
   "metadata": {},
   "source": [
    "It can be seen the first 3 processors will be given 96 pages and the last one 95 pages."
   ]
  },
  {
   "cell_type": "markdown",
   "id": "31568fe2",
   "metadata": {},
   "source": [
    "### Downloading HTMLs in parallel"
   ]
  },
  {
   "cell_type": "markdown",
   "id": "79014bf9",
   "metadata": {},
   "source": [
    "As we saw before, we have 4 processors in the system and we want to distribute the work among these 4 processors.<br/>\n",
    "We will give a subsets of pages to each of these processors to download their animes. "
   ]
  },
  {
   "cell_type": "code",
   "execution_count": 196,
   "id": "9a861a78",
   "metadata": {},
   "outputs": [],
   "source": [
    "pool = mp.Pool(mp.cpu_count())\n",
    "results = [pool.apply_async(GetHTML, args = (GroupPage[i],i, NumOfPage, 5)) for i in range(mp.cpu_count())]\n",
    "pool.close()"
   ]
  },
  {
   "cell_type": "markdown",
   "id": "51699a6e",
   "metadata": {},
   "source": [
    "# 1.3 Parse downloaded pages"
   ]
  },
  {
   "cell_type": "markdown",
   "id": "4007d5e3",
   "metadata": {},
   "source": [
    "Now in this question we should produce a .tsv file for the desired information for each of the pages that we have just downloaded in the previous section. "
   ]
  },
  {
   "cell_type": "markdown",
   "id": "60100bf2",
   "metadata": {},
   "source": [
    "In order to do this, first we check how we can get the information for just one anime and then we will expand the idea to other anime that we have. "
   ]
  },
  {
   "cell_type": "markdown",
   "id": "b791438b",
   "metadata": {},
   "source": [
    "The information that we should extract for each anime are: "
   ]
  },
  {
   "cell_type": "markdown",
   "id": "4f58e960",
   "metadata": {},
   "source": [
    "1- **Anime Name** (to save as animeTitle): String <br/>\n",
    "2- **Anime Type** (to save as animeType): String<br/>\n",
    "3- **Number of episode** (to save as animeNumEpisode): Integer<br/>\n",
    "4- **Release and End Dates of anime** (to save as releaseDate and endDate): Convert both release and end date into datetime format.<br/>\n",
    "5- **Number of members** (to save as animeNumMembers): Integer<br/>\n",
    "6- **Score** (to save as animeScore): Float<br/>\n",
    "7- **Users** (to save as animeUsers): Integer<br/>\n",
    "8- **Rank** (to save as animeRank): Integer<br/>\n",
    "9- **Popularity** (to save as animePopularity): Integer<br/>\n",
    "10- **Synopsis** (to save as animeDescription): String<br/>\n",
    "11- **Related Anime** (to save as animeRelated): Extract all the related animes, but only keep unique values and those that have a hyperlink associated to them. List of strings.<br/>\n",
    "12- **Characters** (to save as animeCharacters): List of strings.<br/>\n",
    "13- **Voices** (to save as animeVoices): List of strings<br/>\n",
    "14- **Staff** (to save as animeStaff): Include the staff name and their responsibility/task in a list of lists.<br/>"
   ]
  },
  {
   "cell_type": "markdown",
   "id": "df5adca0",
   "metadata": {},
   "source": [
    "The for getting each of the information that we need, we write a function to have a better understanding of how we should extract each of these information. "
   ]
  },
  {
   "cell_type": "markdown",
   "id": "6b49d395",
   "metadata": {},
   "source": [
    "### 1.3.1 Function AnimeName"
   ]
  },
  {
   "cell_type": "markdown",
   "id": "6740b0f2",
   "metadata": {},
   "source": [
    "We know that the name of the anime can be extracted from the title of the webpage. So we send the html code of the webpage to this function, and we will return the name of the anime. "
   ]
  },
  {
   "cell_type": "code",
   "execution_count": 59,
   "id": "bb7925fe",
   "metadata": {},
   "outputs": [],
   "source": [
    "def GetAnimeName(webpage):\n",
    "    return webpage.title.getText().strip().replace(' - MyAnimeList.net', '')"
   ]
  },
  {
   "cell_type": "markdown",
   "id": "7f197588",
   "metadata": {},
   "source": [
    "### 1.3.2 Function GetAnimeType"
   ]
  },
  {
   "cell_type": "markdown",
   "id": "828f6c2c",
   "metadata": {},
   "source": [
    "This information can be extracted from the values stored in a specific 'div' tag. In order do this we will send that specific tag to this function and receive the type of the anime. "
   ]
  },
  {
   "cell_type": "code",
   "execution_count": 60,
   "id": "e7eb45d9",
   "metadata": {},
   "outputs": [],
   "source": [
    "def GetAnimeType(Tag):\n",
    "    Temp = Tag.getText().split()\n",
    "    return Temp[-1] if len(Temp) >1 else \"\""
   ]
  },
  {
   "cell_type": "markdown",
   "id": "68f7cbdc",
   "metadata": {},
   "source": [
    "### 1.3.3 Function Episode"
   ]
  },
  {
   "cell_type": "markdown",
   "id": "0672faa7",
   "metadata": {},
   "source": [
    "This information can be extracted from the values stored in a specific 'div' tag. In order do this we will send that specific tag to this function and receive the type of the anime. "
   ]
  },
  {
   "cell_type": "code",
   "execution_count": 61,
   "id": "c9e85e90",
   "metadata": {},
   "outputs": [],
   "source": [
    "def GetNumOfEpisode(Tag):\n",
    "    Temp = Tag.getText().strip().split()[-1]\n",
    "    return int(Temp) if Temp.isdigit() else ''"
   ]
  },
  {
   "cell_type": "markdown",
   "id": "41ba1c47",
   "metadata": {},
   "source": [
    "### 1.3.4 Function DateTime"
   ]
  },
  {
   "cell_type": "markdown",
   "id": "d93a0ebc",
   "metadata": {},
   "source": [
    "This information can be extracted from the values stored in a specific 'div' tag. In order do this we will send that specific tag to this function and receive the type of the anime. <br/><br/>\n",
    "* Some of the animes may have just the release date. So we should be careful about this. "
   ]
  },
  {
   "cell_type": "code",
   "execution_count": 63,
   "id": "853481f4",
   "metadata": {},
   "outputs": [],
   "source": [
    "def GetDates(Tag):\n",
    "    Release, End = '', ''\n",
    "    Temp = Tag.getText().strip().replace('Aired:\\n  ', '').split('to')\n",
    "    Release = Temp[0] if len(Temp) else ''\n",
    "    End = Temp[1] if len(Temp) == 2 else ''\n",
    "    return Release, End"
   ]
  },
  {
   "cell_type": "markdown",
   "id": "4dc18dd0",
   "metadata": {},
   "source": [
    "### 1.3.5 Function Members"
   ]
  },
  {
   "cell_type": "markdown",
   "id": "9f21b155",
   "metadata": {},
   "source": [
    "This information can be extracted from the values stored in a specific 'div' tag. In order do this we will send that specific tag to this function and receive the type of the anime."
   ]
  },
  {
   "cell_type": "code",
   "execution_count": 64,
   "id": "fa01c690",
   "metadata": {},
   "outputs": [],
   "source": [
    "def GetMembers(Tag):\n",
    "    return int(Tag.getText().replace('\\n', '').split()[1].replace(',', ''))"
   ]
  },
  {
   "cell_type": "markdown",
   "id": "0b1fd01e",
   "metadata": {},
   "source": [
    "### 1.3.6 Function ScoreAndUsers"
   ]
  },
  {
   "cell_type": "markdown",
   "id": "83b78920",
   "metadata": {},
   "source": [
    "This information can be extracted from the values stored in a specific 'div' tag. In order do this we will send that specific tag to this function and receive the type of the anime."
   ]
  },
  {
   "cell_type": "code",
   "execution_count": 65,
   "id": "0241caf4",
   "metadata": {},
   "outputs": [],
   "source": [
    "def GetScoreAndUsers(Tag):\n",
    "    Rank = re.findall('[0-9|,]+ users', str(Tag))\n",
    "    RankValue = int(Rank[0].split()[0].replace(',', '')) if len(Rank) else ''\n",
    "    Score = re.findall('Score:[0-9|.]+', Tag.getText().replace(\"\\n\", ''))\n",
    "    ScoreValue = float(Score[0].split(\":\")[1]) if len(Score) else ''\n",
    "    return ScoreValue, RankValue"
   ]
  },
  {
   "cell_type": "markdown",
   "id": "714e7525",
   "metadata": {},
   "source": [
    "### 1.3.7 Function Rank"
   ]
  },
  {
   "cell_type": "markdown",
   "id": "d48170a3",
   "metadata": {},
   "source": [
    "This information can be extracted from the values stored in a specific 'div' tag. In order do this we will send that specific tag to this function and receive the type of the anime."
   ]
  },
  {
   "cell_type": "code",
   "execution_count": 66,
   "id": "90eaa92e",
   "metadata": {},
   "outputs": [],
   "source": [
    "def GetRank(Tag):\n",
    "    Temp = re.findall('#[0-9|,]+', str(Tag))\n",
    "    return int(Temp[0][1:]) if len(Temp) else ''"
   ]
  },
  {
   "cell_type": "markdown",
   "id": "c3e43b5c",
   "metadata": {},
   "source": [
    "### 1.3.8 Function Popularity"
   ]
  },
  {
   "cell_type": "markdown",
   "id": "f757290a",
   "metadata": {},
   "source": [
    "This information can be extracted from the values stored in a specific 'div' tag. In order do this we will send that specific tag to this function and receive the type of the anime."
   ]
  },
  {
   "cell_type": "code",
   "execution_count": 67,
   "id": "b8f196db",
   "metadata": {},
   "outputs": [],
   "source": [
    "def GetPopularity(Tag):\n",
    "    Temp = re.findall('#[0-9|,]+', str(Tag))\n",
    "    return int(Temp[0][1:]) if len(Temp) else ''"
   ]
  },
  {
   "cell_type": "markdown",
   "id": "8dfec584",
   "metadata": {},
   "source": [
    "### 1.3.9 Function Synopsis"
   ]
  },
  {
   "cell_type": "markdown",
   "id": "8078f597",
   "metadata": {},
   "source": [
    "In order to get the description of the anime, there is a specific tag which can be easily identified by its 'itemprop' property. So we will give the whole html to this function and get back the description. "
   ]
  },
  {
   "cell_type": "code",
   "execution_count": 68,
   "id": "dd782ff6",
   "metadata": {},
   "outputs": [],
   "source": [
    "def GetSynopsis(webpage):\n",
    "    Temp = webpage.find('p', {'itemprop': \"description\"})\n",
    "    if not Temp:\n",
    "        return ''\n",
    "    Temp = Temp.getText().replace('\\n', '')\n",
    "    return Temp"
   ]
  },
  {
   "cell_type": "markdown",
   "id": "671a54bf",
   "metadata": {},
   "source": [
    "### 1.3.10 Function Related Anime"
   ]
  },
  {
   "cell_type": "markdown",
   "id": "c12d8537",
   "metadata": {},
   "source": [
    "To get the related animes, there is a table which its 'class' is equal to 'anime_detail_related_anime'. So to get the table we should give the function the whole html file to this function. "
   ]
  },
  {
   "cell_type": "code",
   "execution_count": 69,
   "id": "30bf71e1",
   "metadata": {},
   "outputs": [],
   "source": [
    "def GetRelatedAnime(webpage):\n",
    "    Related = webpage.find('table', {'class': \"anime_detail_related_anime\"})\n",
    "    if not Related:\n",
    "        return \"\"\n",
    "    Related = Related.find_all('a')\n",
    "    UniqueRelated = set(i.getText() for i in Related)\n",
    "    return list(UniqueRelated)"
   ]
  },
  {
   "cell_type": "markdown",
   "id": "87b3adbe",
   "metadata": {},
   "source": [
    "### 1.3.11 Function Characters"
   ]
  },
  {
   "cell_type": "markdown",
   "id": "1c635727",
   "metadata": {},
   "source": [
    "We can find this information in tag 'a' that are included in a div which is its class is equal to 'detail-characters-list clearfix'. When we go for the first div that have this feature we will be received the table which is the characters and their original voices is there. "
   ]
  },
  {
   "cell_type": "code",
   "execution_count": 70,
   "id": "95f10ca6",
   "metadata": {},
   "outputs": [],
   "source": [
    "def GetCharacters(webpage):\n",
    "    Characters = []\n",
    "    Tags = webpage.find_all('div', {'class': \"detail-characters-list clearfix\"})\n",
    "    for tag in Tags:\n",
    "        if str(tag).count('character') >1:\n",
    "            # We can get the name of the character in the 'href' value in 'a' property\n",
    "            AllTagA = tag.find_all('a')\n",
    "            # Filter the hrefs to characters\n",
    "            CharactersHrefs = list(set([i['href'] for i in AllTagA if 'character' in i['href']]))\n",
    "            # Filter the names of the characters\n",
    "            Characters = [i.split('/')[-1].replace('_', ' ') for i in CharactersHrefs]\n",
    "    return Characters"
   ]
  },
  {
   "cell_type": "markdown",
   "id": "f871b822",
   "metadata": {},
   "source": [
    "### 1.3.12 Function Voices "
   ]
  },
  {
   "cell_type": "markdown",
   "id": "ca1e19f7",
   "metadata": {},
   "source": [
    "With the same approach as previous, now we just extract the voices. "
   ]
  },
  {
   "cell_type": "code",
   "execution_count": 71,
   "id": "8e664b9b",
   "metadata": {},
   "outputs": [],
   "source": [
    "def GetVoices(webpage):\n",
    "    Voices = []\n",
    "    Tags = webpage.find_all('div', {'class': \"detail-characters-list clearfix\"})\n",
    "    for tag in Tags:\n",
    "        if str(tag).count('character') > 1:\n",
    "            # We can get the name of the person in charge for the voice in the 'href' value in 'a' property\n",
    "            AllTagA = tag.find_all('a')\n",
    "            # Filter the hrefs for voices\n",
    "            VoicesHrefs = list(set([i['href'] for i in AllTagA if 'people' in i['href']]))\n",
    "            # Filter the names of the people\n",
    "            Voices = [i.split('/')[-1].replace('_', ' ') for i in VoicesHrefs]\n",
    "    return Voices"
   ]
  },
  {
   "cell_type": "markdown",
   "id": "835bd8ed",
   "metadata": {},
   "source": [
    "### 1.3.13 Function Staff"
   ]
  },
  {
   "cell_type": "markdown",
   "id": "90395d78",
   "metadata": {},
   "source": [
    "Here in this function we will look for the other div tha its 'class' is equal to 'detail-characters-list clearfix'. Then the name of the staff can be extracted from 'img' tags and also their duty can be found in the 'small' tags which are in the same 'row' as their image. "
   ]
  },
  {
   "cell_type": "code",
   "execution_count": 97,
   "id": "4a628582",
   "metadata": {},
   "outputs": [],
   "source": [
    "def GetStaff(webpage):\n",
    "    StaffDuty = []\n",
    "    Tags = webpage.find_all('div', {'class': \"detail-characters-list clearfix\"})\n",
    "    for tag in Tags:\n",
    "        if str(tag).count('character') == 1:\n",
    "            Staff =  tag.find_all('tr')\n",
    "            for i in Staff:\n",
    "                NewStaff = [i.find('a')['href'].split('/')[-1].replace('_', ' ')] # Extracting the name of the staff\n",
    "                Duties = list(i.find('small').getText().split(',')) # Getting the duties of the staff\n",
    "                NewStaff += [i.strip() for i in Duties]\n",
    "                StaffDuty.append(NewStaff)\n",
    "    return StaffDuty"
   ]
  },
  {
   "cell_type": "markdown",
   "id": "23bbd662",
   "metadata": {},
   "source": [
    "### 1.3.14 Function Write to TSV"
   ]
  },
  {
   "cell_type": "markdown",
   "id": "b39c4bfd",
   "metadata": {},
   "source": [
    "With the help of this function, we can write the information that we extracted from a page to its corresponded .tsv file. "
   ]
  },
  {
   "cell_type": "code",
   "execution_count": 73,
   "id": "075d839a",
   "metadata": {},
   "outputs": [],
   "source": [
    "def WriteToTSV(AnimeInfo, Path):\n",
    "    File = open(Path, mode = 'w')\n",
    "    # Writing the header. \n",
    "    File.write(\"\\t\".join(Keys))\n",
    "    File.write('\\n')\n",
    "    for i in AnimeInfo:\n",
    "        STR = AnimeInfo[i].__str__()\n",
    "        if STR == '[]':\n",
    "            STR = ''\n",
    "        File.write(STR + ('\\t' if i!='animeStaff' else \"\" ))\n",
    "    File.close()    "
   ]
  },
  {
   "cell_type": "markdown",
   "id": "eff2bc03",
   "metadata": {},
   "source": [
    "### 1.3.15 Function Extract"
   ]
  },
  {
   "cell_type": "markdown",
   "id": "158a5252",
   "metadata": {},
   "source": [
    "With the help of this function we want to extract the desired information from all the .html files that we have. "
   ]
  },
  {
   "cell_type": "markdown",
   "id": "34553752",
   "metadata": {},
   "source": [
    "Here we used some key words so we can easily get the needed information which are in some tags that share the same class. "
   ]
  },
  {
   "cell_type": "code",
   "execution_count": 74,
   "id": "df00d3d1",
   "metadata": {},
   "outputs": [],
   "source": [
    "Info = ['Type:', 'Episodes:', 'Aired:', 'Members:','Score:','Ranked:', 'Popularity:']"
   ]
  },
  {
   "cell_type": "markdown",
   "id": "119ab353",
   "metadata": {},
   "source": [
    "Here we define the default datastructure which is a dictionary to store the inforamtion of each page. "
   ]
  },
  {
   "cell_type": "code",
   "execution_count": 75,
   "id": "1e03cb76",
   "metadata": {},
   "outputs": [],
   "source": [
    "Keys = ['animeTitle', 'animeType', 'animeNumEpisode', 'releaseDate', 'endDate', 'animeNumMembers'\n",
    "        , 'animeScore', 'animeUsers', 'animeRank', 'animePopularity', 'animeDescription', 'animeRelated',\n",
    "        'animeCharacters', 'animeVoices', 'animeStaff']\n",
    "MyAnimeInfo = {i:\"\" for i in Keys} "
   ]
  },
  {
   "cell_type": "markdown",
   "id": "745991de",
   "metadata": {},
   "source": [
    "Here we will go through each HTML file that we have just downloaded. Then we extract the infomration that we need from the HTML file and then store them in a .tsv file. "
   ]
  },
  {
   "cell_type": "code",
   "execution_count": 78,
   "id": "46254389",
   "metadata": {},
   "outputs": [],
   "source": [
    "def FunctionExtract(ListNumPage, ProcesserNum):\n",
    "    for i in ListNumPage:\n",
    "        for j in range((50 if i!= 383 else 28)):\n",
    "            \n",
    "            exec('NewAnime'+str(ProcesserNum)+'= MyAnimeInfo.copy()')\n",
    "            \n",
    "            Path = '/home/mehrdad/ADM-HW3/HTMLS/page'\n",
    "            File = open(Path + str(i) + '/anime_' + str(j) +'.html', mode = 'r')\n",
    "            \n",
    "            Webpage = BeautifulSoup(File.read(), 'html.parser')\n",
    "            \n",
    "            for div in Webpage.find_all('div', {'class':\"spaceit_pad\"}):\n",
    "                if Info[0] in str(div):\n",
    "                    exec('NewAnime'+ str(ProcesserNum) +\"['animeType'] = GetAnimeType(div)\")\n",
    "                elif Info[1] in str(div):\n",
    "                    exec('NewAnime'+ str(ProcesserNum) +\"['animeNumEpisode'] = GetNumOfEpisode(div)\")\n",
    "                elif Info[2] in str(div):\n",
    "                    exec('NewAnime'+ str(ProcesserNum) +\"['releaseDate'] = GetDates(div)[0]\")\n",
    "                    exec('NewAnime'+ str(ProcesserNum) +\"['endDate'] = GetDates(div)[1]\")\n",
    "                elif Info[3] in str(div):\n",
    "                    exec('NewAnime'+ str(ProcesserNum) +\"['animeNumMembers'] = GetMembers(div)\")\n",
    "                elif Info[4] in str(div):\n",
    "                    exec('NewAnime'+ str(ProcesserNum) +\"['animeScore'] = GetScoreAndUsers(div)[0]\")\n",
    "                    exec('NewAnime'+ str(ProcesserNum) +\"['animeUsers'] = GetScoreAndUsers(div)[1]\")\n",
    "                elif Info[5] in str(div):\n",
    "                    exec('NewAnime'+ str(ProcesserNum) +\"['animeRank'] = GetRank(div)\")\n",
    "                elif Info[6] in str(div):\n",
    "                    exec('NewAnime'+ str(ProcesserNum) +\"['animePopularity'] = GetPopularity(div)\")\n",
    "                \n",
    "            exec('NewAnime'+ str(ProcesserNum) +\"['animeTitle'] = GetAnimeName(Webpage)\")\n",
    "            exec('NewAnime'+ str(ProcesserNum) +\"['animeDescription'] = GetSynopsis(Webpage)\")\n",
    "            exec('NewAnime'+ str(ProcesserNum) +\"['animeRelated'] = GetRelatedAnime(Webpage)\")\n",
    "            exec('NewAnime'+ str(ProcesserNum) +\"['animeCharacters'] = GetCharacters(Webpage)\")\n",
    "            exec('NewAnime'+ str(ProcesserNum) +\"['animeVoices'] = GetVoices(Webpage)\")\n",
    "            exec('NewAnime'+ str(ProcesserNum) +\"['animeStaff'] = GetStaff(Webpage)\")\n",
    "            \n",
    "            TSVPath = Path + str(i) + '/anime_' + str(j) +'.tsv'\n",
    "            exec('WriteToTSV(NewAnime'+ str(ProcesserNum)+',TSVPath)')"
   ]
  },
  {
   "cell_type": "markdown",
   "id": "bf53e121",
   "metadata": {},
   "source": [
    "### Creating the .tsv files in parallel. "
   ]
  },
  {
   "cell_type": "markdown",
   "id": "4fe78910",
   "metadata": {},
   "source": [
    "* **In order to speed up the process, we will distribute the work among the available CPUs.**"
   ]
  },
  {
   "cell_type": "markdown",
   "id": "72f02ae8",
   "metadata": {},
   "source": [
    "We should give a subset of pages to each CPU to make its animes' .tsv file. <br/>\n",
    "Here we will group the page numbers that should be given to each processor. "
   ]
  },
  {
   "cell_type": "code",
   "execution_count": 79,
   "id": "aa13be98",
   "metadata": {},
   "outputs": [],
   "source": [
    "RangePage = list(range(1, len(EachPageURLs) + 1))\n",
    "PageNums = [RangePage[i * NumOfPage:(i+1) * NumOfPage] for i in range(mp.cpu_count())]"
   ]
  },
  {
   "cell_type": "markdown",
   "id": "03391175",
   "metadata": {},
   "source": [
    "Call the function for each CPU give a susbset of .html files. "
   ]
  },
  {
   "cell_type": "code",
   "execution_count": 99,
   "id": "c0d68296",
   "metadata": {},
   "outputs": [],
   "source": [
    "pool = mp.Pool(mp.cpu_count())\n",
    "results = [pool.apply_async(FunctionExtract, args = (PageNums[i],i)) for i in range(mp.cpu_count())]\n",
    "pool.close()"
   ]
  },
  {
   "cell_type": "markdown",
   "id": "b329d0e4",
   "metadata": {},
   "source": [
    "# 2. Search Engine\n"
   ]
  },
  {
   "cell_type": "markdown",
   "id": "449ff9c1",
   "metadata": {},
   "source": [
    "Here we are asked to build a search engine which given a query, will give back the documents that are similar to the given query. "
   ]
  },
  {
   "cell_type": "markdown",
   "id": "32da72a3",
   "metadata": {},
   "source": [
    "### 2.0 Pre-processing the information"
   ]
  },
  {
   "cell_type": "markdown",
   "id": "a93de6a6",
   "metadata": {},
   "source": [
    "Here we will pre-process all the information of an anime and store it to another .tsv file which will be name SynopsisPrepAnime_(i).csv which i corresponds to the index number of the page in its page. "
   ]
  },
  {
   "cell_type": "markdown",
   "id": "31f8bdaa",
   "metadata": {},
   "source": [
    "To do pre-processing we have 5 stages and for each stage we will write a function. "
   ]
  },
  {
   "cell_type": "markdown",
   "id": "2ca972cc",
   "metadata": {},
   "source": [
    "### 2.0.1 Tokenization "
   ]
  },
  {
   "cell_type": "markdown",
   "id": "ed36c4c4",
   "metadata": {},
   "source": [
    "Given a string, we will return the words that are in the given string. "
   ]
  },
  {
   "cell_type": "code",
   "execution_count": 102,
   "id": "bd722bdb",
   "metadata": {},
   "outputs": [],
   "source": [
    "def Tokenization(Sentence):\n",
    "    return nltk.word_tokenize(Sentence)"
   ]
  },
  {
   "cell_type": "markdown",
   "id": "fe887d36",
   "metadata": {},
   "source": [
    "### 2.0.2 Lowercasing"
   ]
  },
  {
   "cell_type": "markdown",
   "id": "2368181a",
   "metadata": {},
   "source": [
    "Given a list of strings, we will return the same strings but in lower case. "
   ]
  },
  {
   "cell_type": "code",
   "execution_count": 103,
   "id": "a20bdb8b",
   "metadata": {},
   "outputs": [],
   "source": [
    "def Lowercasing(Words):\n",
    "    return [w.lower() for w in Words]"
   ]
  },
  {
   "cell_type": "markdown",
   "id": "956f0b34",
   "metadata": {},
   "source": [
    "### 2.0.3 StopWordsRemoval"
   ]
  },
  {
   "cell_type": "markdown",
   "id": "8c9a8a51",
   "metadata": {},
   "source": [
    "Here we will define a list which contains all the stopwords in English language. "
   ]
  },
  {
   "cell_type": "code",
   "execution_count": 104,
   "id": "01cd6d97",
   "metadata": {},
   "outputs": [],
   "source": [
    "StopWords = stopwords.words('english')"
   ]
  },
  {
   "cell_type": "markdown",
   "id": "74986fc2",
   "metadata": {},
   "source": [
    "Given a list of strings, we will remove the stopwords from that strings. "
   ]
  },
  {
   "cell_type": "code",
   "execution_count": 105,
   "id": "0fa662c9",
   "metadata": {},
   "outputs": [],
   "source": [
    "def StopWordsRemoval(Words):\n",
    "    return [w for w in Words if w not in StopWords]"
   ]
  },
  {
   "cell_type": "markdown",
   "id": "c46d02f8",
   "metadata": {},
   "source": [
    "### 2.0.4 PunctuationsRemoval"
   ]
  },
  {
   "cell_type": "markdown",
   "id": "503e449f",
   "metadata": {},
   "source": [
    "In this function given a list of strings, we will remove the punctuations from those strings. "
   ]
  },
  {
   "cell_type": "code",
   "execution_count": 106,
   "id": "0be23c70",
   "metadata": {},
   "outputs": [],
   "source": [
    "def PunctuationsRemoval(Words):\n",
    "    return [w for w in Words if w.isalpha()]"
   ]
  },
  {
   "cell_type": "markdown",
   "id": "24313fc3",
   "metadata": {},
   "source": [
    "### 2.0.5 Stemming"
   ]
  },
  {
   "cell_type": "markdown",
   "id": "19ccbab2",
   "metadata": {},
   "source": [
    "In this function, given a list of strings, we try to return back the stem of each string that we have in the list. <br/>\n",
    "Here we will use 'PorterStemmer' algorithm to do stemming. "
   ]
  },
  {
   "cell_type": "code",
   "execution_count": 107,
   "id": "8e437df0",
   "metadata": {},
   "outputs": [],
   "source": [
    "def Stemming(Words):\n",
    "    return [PorterStemmer().stem(w) for w in Words]"
   ]
  },
  {
   "cell_type": "markdown",
   "id": "cc68d729",
   "metadata": {},
   "source": [
    "* Here we are asked to work with the 'Synopsis' of each anime, so we decided pre-process only the synopsis of each anime and not all the information that we extracted. "
   ]
  },
  {
   "cell_type": "markdown",
   "id": "14233c22",
   "metadata": {},
   "source": [
    "* **Note:** For your information, we want to do the pre-process we will distribute the work among the available number of CPUs in the system. Each CPU will be given a subset of pages to do the pre-process for the contained anime information. "
   ]
  },
  {
   "cell_type": "markdown",
   "id": "ac440f57",
   "metadata": {},
   "source": [
    "### 2.0.6 Main Function "
   ]
  },
  {
   "cell_type": "code",
   "execution_count": 108,
   "id": "7f0a5c8a",
   "metadata": {},
   "outputs": [],
   "source": [
    "def MainFunction(Pages):\n",
    "    for page in Pages:\n",
    "        for anime in range((50 if page != 383 else 28)):\n",
    "            \n",
    "            Path = '/home/mehrdad/ADM-HW3/HTMLS/page'\n",
    "            File = open(Path + str(page) + '/anime_' + str(anime) +'.tsv', mode = 'r')\n",
    "            # For each anime we want to extract the synopsis \n",
    "            Data = File.read().split('\\n')[1].split('\\t')[10]\n",
    "            File.close()\n",
    "            \n",
    "            Tokens = Tokenization(Data)\n",
    "            Lowercase = Lowercasing(Tokens)\n",
    "            WithoutStop = StopWordsRemoval(Lowercase)\n",
    "            WithoutPuncs = PunctuationsRemoval(WithoutStop)\n",
    "            Stems = Stemming(WithoutPuncs)\n",
    "            \n",
    "            PreProcessed = open(Path + str(page) + '/anime_' + str(anime) +'_synopsisPrep.csv', mode = 'w')\n",
    "            PreProcessed.write(\",\".join(Stems))\n",
    "            PreProcessed.close()"
   ]
  },
  {
   "cell_type": "markdown",
   "id": "9aa0232e",
   "metadata": {},
   "source": [
    "Group the pages to be given to the CPUs. "
   ]
  },
  {
   "cell_type": "code",
   "execution_count": 109,
   "id": "43338b3d",
   "metadata": {},
   "outputs": [],
   "source": [
    "RangePage = list(range(1, len(EachPageURLs) + 1))\n",
    "PageNums = [RangePage[i * NumOfPage:(i+1) * NumOfPage] for i in range(mp.cpu_count())]"
   ]
  },
  {
   "cell_type": "markdown",
   "id": "02733231",
   "metadata": {},
   "source": [
    "Pre-processing all the synopsis of animes. "
   ]
  },
  {
   "cell_type": "code",
   "execution_count": 110,
   "id": "6fc0f535",
   "metadata": {},
   "outputs": [],
   "source": [
    "pool = mp.Pool(mp.cpu_count())\n",
    "results = [pool.apply_async(MainFunction, args = (PageNums[i],)) for i in range(mp.cpu_count())]\n",
    "pool.close()"
   ]
  },
  {
   "cell_type": "code",
   "execution_count": null,
   "id": "98421a55",
   "metadata": {},
   "outputs": [],
   "source": [
    "i, j = 1, 0\n",
    "Path = '/home/mehrdad/ADM-HW3/HTMLS/page'\n",
    "File = open(Path + str(i) + '/anime_' + str(j) +'.html', mode = 'r')\n",
    "Webpage = BeautifulSoup(File.read(), 'html.parser')\n",
    "GetStaff(Webpage)"
   ]
  }
 ],
 "metadata": {
  "kernelspec": {
   "display_name": "Python 3 (ipykernel)",
   "language": "python",
   "name": "python3"
  },
  "language_info": {
   "codemirror_mode": {
    "name": "ipython",
    "version": 3
   },
   "file_extension": ".py",
   "mimetype": "text/x-python",
   "name": "python",
   "nbconvert_exporter": "python",
   "pygments_lexer": "ipython3",
   "version": "3.8.10"
  }
 },
 "nbformat": 4,
 "nbformat_minor": 5
}
